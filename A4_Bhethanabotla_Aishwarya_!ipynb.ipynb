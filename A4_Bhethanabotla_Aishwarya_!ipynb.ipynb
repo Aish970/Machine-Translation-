{
  "cells": [
    {
      "cell_type": "markdown",
      "id": "GBQPnW8GZWzt",
      "metadata": {
        "id": "GBQPnW8GZWzt"
      },
      "source": [
        "# CS 584 Assignment 4 -- Sequence to Sequence Models\n",
        "\n",
        "#### Name: (Your Name, double click this cell to edit)\n",
        "#### Stevens ID: (Your ID, double click this cell to edit)"
      ]
    },
    {
      "cell_type": "markdown",
      "id": "vqyOa9yfZWzv",
      "metadata": {
        "id": "vqyOa9yfZWzv"
      },
      "source": [
        "## In this assignment, you are required to follow the steps below:\n",
        "1. Review the lecture slides.\n",
        "2. Implement the seq2seq (translation) model.\n",
        "\n",
        "**Before you start**\n",
        "- Please read the code very carefully.\n",
        "- Install these packages using the following command.\n",
        "```console\n",
        "pip install -r requirements.txt\n",
        "```\n",
        "- It's better to train the Tensorflow model with GPU and CUDA. If they are not available on your local machine, please consider Google CoLab. You can check `CoLab.md` in this assignments.\n",
        "- You are **NOT** allowed to use other packages unless otherwise specified.\n",
        "- You are **ONLY** allowed to edit the code between `# Start your code here` and `# End` for each block."
      ]
    },
    {
      "cell_type": "code",
      "execution_count": 1,
      "id": "qEoNo3ojZWzv",
      "metadata": {
        "id": "qEoNo3ojZWzv"
      },
      "outputs": [],
      "source": [
        "import sys\n",
        "import os\n",
        "\n",
        "\n",
        "def print_line(*args):\n",
        "    \"\"\" Inline print and go to the begining of line\n",
        "    \"\"\"\n",
        "    args1 = [str(arg) for arg in args]\n",
        "    str_ = ' '.join(args1)\n",
        "    print('\\r' + str_, end='')"
      ]
    },
    {
      "cell_type": "code",
      "execution_count": 2,
      "id": "39P-4EkeaIJ2",
      "metadata": {
        "colab": {
          "base_uri": "https://localhost:8080/"
        },
        "id": "39P-4EkeaIJ2",
        "outputId": "76f05135-6d4a-404c-fd30-5a45da34a21b"
      },
      "outputs": [
        {
          "output_type": "stream",
          "name": "stdout",
          "text": [
            "Collecting datasets (from -r requirements.txt (line 1))\n",
            "  Downloading datasets-3.5.1-py3-none-any.whl.metadata (19 kB)\n",
            "Collecting evaluate (from -r requirements.txt (line 2))\n",
            "  Downloading evaluate-0.4.3-py3-none-any.whl.metadata (9.2 kB)\n",
            "Collecting jupyterlab (from -r requirements.txt (line 3))\n",
            "  Downloading jupyterlab-4.4.1-py3-none-any.whl.metadata (16 kB)\n",
            "Requirement already satisfied: matplotlib in /usr/local/lib/python3.11/dist-packages (from -r requirements.txt (line 4)) (3.10.0)\n",
            "Requirement already satisfied: numpy in /usr/local/lib/python3.11/dist-packages (from -r requirements.txt (line 5)) (2.0.2)\n",
            "Collecting sacrebleu (from -r requirements.txt (line 6))\n",
            "  Downloading sacrebleu-2.5.1-py3-none-any.whl.metadata (51 kB)\n",
            "\u001b[2K     \u001b[90m━━━━━━━━━━━━━━━━━━━━━━━━━━━━━━━━━━━━━━━━\u001b[0m \u001b[32m51.8/51.8 kB\u001b[0m \u001b[31m6.0 MB/s\u001b[0m eta \u001b[36m0:00:00\u001b[0m\n",
            "\u001b[?25hRequirement already satisfied: tensorflow in /usr/local/lib/python3.11/dist-packages (from -r requirements.txt (line 7)) (2.18.0)\n",
            "Collecting tensorflow-addons (from -r requirements.txt (line 8))\n",
            "  Downloading tensorflow_addons-0.23.0-cp311-cp311-manylinux_2_17_x86_64.manylinux2014_x86_64.whl.metadata (1.8 kB)\n",
            "Requirement already satisfied: tokenizers in /usr/local/lib/python3.11/dist-packages (from -r requirements.txt (line 9)) (0.21.1)\n",
            "Requirement already satisfied: filelock in /usr/local/lib/python3.11/dist-packages (from datasets->-r requirements.txt (line 1)) (3.18.0)\n",
            "Requirement already satisfied: pyarrow>=15.0.0 in /usr/local/lib/python3.11/dist-packages (from datasets->-r requirements.txt (line 1)) (18.1.0)\n",
            "Collecting dill<0.3.9,>=0.3.0 (from datasets->-r requirements.txt (line 1))\n",
            "  Downloading dill-0.3.8-py3-none-any.whl.metadata (10 kB)\n",
            "Requirement already satisfied: pandas in /usr/local/lib/python3.11/dist-packages (from datasets->-r requirements.txt (line 1)) (2.2.2)\n",
            "Requirement already satisfied: requests>=2.32.2 in /usr/local/lib/python3.11/dist-packages (from datasets->-r requirements.txt (line 1)) (2.32.3)\n",
            "Requirement already satisfied: tqdm>=4.66.3 in /usr/local/lib/python3.11/dist-packages (from datasets->-r requirements.txt (line 1)) (4.67.1)\n",
            "Collecting xxhash (from datasets->-r requirements.txt (line 1))\n",
            "  Downloading xxhash-3.5.0-cp311-cp311-manylinux_2_17_x86_64.manylinux2014_x86_64.whl.metadata (12 kB)\n",
            "Collecting multiprocess<0.70.17 (from datasets->-r requirements.txt (line 1))\n",
            "  Downloading multiprocess-0.70.16-py311-none-any.whl.metadata (7.2 kB)\n",
            "Collecting fsspec<=2025.3.0,>=2023.1.0 (from fsspec[http]<=2025.3.0,>=2023.1.0->datasets->-r requirements.txt (line 1))\n",
            "  Downloading fsspec-2025.3.0-py3-none-any.whl.metadata (11 kB)\n",
            "Requirement already satisfied: aiohttp in /usr/local/lib/python3.11/dist-packages (from datasets->-r requirements.txt (line 1)) (3.11.15)\n",
            "Requirement already satisfied: huggingface-hub>=0.24.0 in /usr/local/lib/python3.11/dist-packages (from datasets->-r requirements.txt (line 1)) (0.30.2)\n",
            "Requirement already satisfied: packaging in /usr/local/lib/python3.11/dist-packages (from datasets->-r requirements.txt (line 1)) (24.2)\n",
            "Requirement already satisfied: pyyaml>=5.1 in /usr/local/lib/python3.11/dist-packages (from datasets->-r requirements.txt (line 1)) (6.0.2)\n",
            "Collecting async-lru>=1.0.0 (from jupyterlab->-r requirements.txt (line 3))\n",
            "  Downloading async_lru-2.0.5-py3-none-any.whl.metadata (4.5 kB)\n",
            "Requirement already satisfied: httpx>=0.25.0 in /usr/local/lib/python3.11/dist-packages (from jupyterlab->-r requirements.txt (line 3)) (0.28.1)\n",
            "Requirement already satisfied: ipykernel>=6.5.0 in /usr/local/lib/python3.11/dist-packages (from jupyterlab->-r requirements.txt (line 3)) (6.17.1)\n",
            "Requirement already satisfied: jinja2>=3.0.3 in /usr/local/lib/python3.11/dist-packages (from jupyterlab->-r requirements.txt (line 3)) (3.1.6)\n",
            "Requirement already satisfied: jupyter-core in /usr/local/lib/python3.11/dist-packages (from jupyterlab->-r requirements.txt (line 3)) (5.7.2)\n",
            "Collecting jupyter-lsp>=2.0.0 (from jupyterlab->-r requirements.txt (line 3))\n",
            "  Downloading jupyter_lsp-2.2.5-py3-none-any.whl.metadata (1.8 kB)\n",
            "Collecting jupyter-server<3,>=2.4.0 (from jupyterlab->-r requirements.txt (line 3))\n",
            "  Downloading jupyter_server-2.15.0-py3-none-any.whl.metadata (8.4 kB)\n",
            "Collecting jupyterlab-server<3,>=2.27.1 (from jupyterlab->-r requirements.txt (line 3))\n",
            "  Downloading jupyterlab_server-2.27.3-py3-none-any.whl.metadata (5.9 kB)\n",
            "Requirement already satisfied: notebook-shim>=0.2 in /usr/local/lib/python3.11/dist-packages (from jupyterlab->-r requirements.txt (line 3)) (0.2.4)\n",
            "Requirement already satisfied: setuptools>=41.1.0 in /usr/local/lib/python3.11/dist-packages (from jupyterlab->-r requirements.txt (line 3)) (75.2.0)\n",
            "Requirement already satisfied: tornado>=6.2.0 in /usr/local/lib/python3.11/dist-packages (from jupyterlab->-r requirements.txt (line 3)) (6.4.2)\n",
            "Requirement already satisfied: traitlets in /usr/local/lib/python3.11/dist-packages (from jupyterlab->-r requirements.txt (line 3)) (5.7.1)\n",
            "Requirement already satisfied: contourpy>=1.0.1 in /usr/local/lib/python3.11/dist-packages (from matplotlib->-r requirements.txt (line 4)) (1.3.2)\n",
            "Requirement already satisfied: cycler>=0.10 in /usr/local/lib/python3.11/dist-packages (from matplotlib->-r requirements.txt (line 4)) (0.12.1)\n",
            "Requirement already satisfied: fonttools>=4.22.0 in /usr/local/lib/python3.11/dist-packages (from matplotlib->-r requirements.txt (line 4)) (4.57.0)\n",
            "Requirement already satisfied: kiwisolver>=1.3.1 in /usr/local/lib/python3.11/dist-packages (from matplotlib->-r requirements.txt (line 4)) (1.4.8)\n",
            "Requirement already satisfied: pillow>=8 in /usr/local/lib/python3.11/dist-packages (from matplotlib->-r requirements.txt (line 4)) (11.2.1)\n",
            "Requirement already satisfied: pyparsing>=2.3.1 in /usr/local/lib/python3.11/dist-packages (from matplotlib->-r requirements.txt (line 4)) (3.2.3)\n",
            "Requirement already satisfied: python-dateutil>=2.7 in /usr/local/lib/python3.11/dist-packages (from matplotlib->-r requirements.txt (line 4)) (2.9.0.post0)\n",
            "Collecting portalocker (from sacrebleu->-r requirements.txt (line 6))\n",
            "  Downloading portalocker-3.1.1-py3-none-any.whl.metadata (8.6 kB)\n",
            "Requirement already satisfied: regex in /usr/local/lib/python3.11/dist-packages (from sacrebleu->-r requirements.txt (line 6)) (2024.11.6)\n",
            "Requirement already satisfied: tabulate>=0.8.9 in /usr/local/lib/python3.11/dist-packages (from sacrebleu->-r requirements.txt (line 6)) (0.9.0)\n",
            "Collecting colorama (from sacrebleu->-r requirements.txt (line 6))\n",
            "  Downloading colorama-0.4.6-py2.py3-none-any.whl.metadata (17 kB)\n",
            "Requirement already satisfied: lxml in /usr/local/lib/python3.11/dist-packages (from sacrebleu->-r requirements.txt (line 6)) (5.4.0)\n",
            "Requirement already satisfied: absl-py>=1.0.0 in /usr/local/lib/python3.11/dist-packages (from tensorflow->-r requirements.txt (line 7)) (1.4.0)\n",
            "Requirement already satisfied: astunparse>=1.6.0 in /usr/local/lib/python3.11/dist-packages (from tensorflow->-r requirements.txt (line 7)) (1.6.3)\n",
            "Requirement already satisfied: flatbuffers>=24.3.25 in /usr/local/lib/python3.11/dist-packages (from tensorflow->-r requirements.txt (line 7)) (25.2.10)\n",
            "Requirement already satisfied: gast!=0.5.0,!=0.5.1,!=0.5.2,>=0.2.1 in /usr/local/lib/python3.11/dist-packages (from tensorflow->-r requirements.txt (line 7)) (0.6.0)\n",
            "Requirement already satisfied: google-pasta>=0.1.1 in /usr/local/lib/python3.11/dist-packages (from tensorflow->-r requirements.txt (line 7)) (0.2.0)\n",
            "Requirement already satisfied: libclang>=13.0.0 in /usr/local/lib/python3.11/dist-packages (from tensorflow->-r requirements.txt (line 7)) (18.1.1)\n",
            "Requirement already satisfied: opt-einsum>=2.3.2 in /usr/local/lib/python3.11/dist-packages (from tensorflow->-r requirements.txt (line 7)) (3.4.0)\n",
            "Requirement already satisfied: protobuf!=4.21.0,!=4.21.1,!=4.21.2,!=4.21.3,!=4.21.4,!=4.21.5,<6.0.0dev,>=3.20.3 in /usr/local/lib/python3.11/dist-packages (from tensorflow->-r requirements.txt (line 7)) (5.29.4)\n",
            "Requirement already satisfied: six>=1.12.0 in /usr/local/lib/python3.11/dist-packages (from tensorflow->-r requirements.txt (line 7)) (1.17.0)\n",
            "Requirement already satisfied: termcolor>=1.1.0 in /usr/local/lib/python3.11/dist-packages (from tensorflow->-r requirements.txt (line 7)) (3.0.1)\n",
            "Requirement already satisfied: typing-extensions>=3.6.6 in /usr/local/lib/python3.11/dist-packages (from tensorflow->-r requirements.txt (line 7)) (4.13.2)\n",
            "Requirement already satisfied: wrapt>=1.11.0 in /usr/local/lib/python3.11/dist-packages (from tensorflow->-r requirements.txt (line 7)) (1.17.2)\n",
            "Requirement already satisfied: grpcio<2.0,>=1.24.3 in /usr/local/lib/python3.11/dist-packages (from tensorflow->-r requirements.txt (line 7)) (1.71.0)\n",
            "Requirement already satisfied: tensorboard<2.19,>=2.18 in /usr/local/lib/python3.11/dist-packages (from tensorflow->-r requirements.txt (line 7)) (2.18.0)\n",
            "Requirement already satisfied: keras>=3.5.0 in /usr/local/lib/python3.11/dist-packages (from tensorflow->-r requirements.txt (line 7)) (3.8.0)\n",
            "Requirement already satisfied: h5py>=3.11.0 in /usr/local/lib/python3.11/dist-packages (from tensorflow->-r requirements.txt (line 7)) (3.13.0)\n",
            "Requirement already satisfied: ml-dtypes<0.5.0,>=0.4.0 in /usr/local/lib/python3.11/dist-packages (from tensorflow->-r requirements.txt (line 7)) (0.4.1)\n",
            "Requirement already satisfied: tensorflow-io-gcs-filesystem>=0.23.1 in /usr/local/lib/python3.11/dist-packages (from tensorflow->-r requirements.txt (line 7)) (0.37.1)\n",
            "Collecting typeguard<3.0.0,>=2.7 (from tensorflow-addons->-r requirements.txt (line 8))\n",
            "  Downloading typeguard-2.13.3-py3-none-any.whl.metadata (3.6 kB)\n",
            "Requirement already satisfied: wheel<1.0,>=0.23.0 in /usr/local/lib/python3.11/dist-packages (from astunparse>=1.6.0->tensorflow->-r requirements.txt (line 7)) (0.45.1)\n",
            "Requirement already satisfied: aiohappyeyeballs>=2.3.0 in /usr/local/lib/python3.11/dist-packages (from aiohttp->datasets->-r requirements.txt (line 1)) (2.6.1)\n",
            "Requirement already satisfied: aiosignal>=1.1.2 in /usr/local/lib/python3.11/dist-packages (from aiohttp->datasets->-r requirements.txt (line 1)) (1.3.2)\n",
            "Requirement already satisfied: attrs>=17.3.0 in /usr/local/lib/python3.11/dist-packages (from aiohttp->datasets->-r requirements.txt (line 1)) (25.3.0)\n",
            "Requirement already satisfied: frozenlist>=1.1.1 in /usr/local/lib/python3.11/dist-packages (from aiohttp->datasets->-r requirements.txt (line 1)) (1.6.0)\n",
            "Requirement already satisfied: multidict<7.0,>=4.5 in /usr/local/lib/python3.11/dist-packages (from aiohttp->datasets->-r requirements.txt (line 1)) (6.4.3)\n",
            "Requirement already satisfied: propcache>=0.2.0 in /usr/local/lib/python3.11/dist-packages (from aiohttp->datasets->-r requirements.txt (line 1)) (0.3.1)\n",
            "Requirement already satisfied: yarl<2.0,>=1.17.0 in /usr/local/lib/python3.11/dist-packages (from aiohttp->datasets->-r requirements.txt (line 1)) (1.20.0)\n",
            "Requirement already satisfied: anyio in /usr/local/lib/python3.11/dist-packages (from httpx>=0.25.0->jupyterlab->-r requirements.txt (line 3)) (4.9.0)\n",
            "Requirement already satisfied: certifi in /usr/local/lib/python3.11/dist-packages (from httpx>=0.25.0->jupyterlab->-r requirements.txt (line 3)) (2025.4.26)\n",
            "Requirement already satisfied: httpcore==1.* in /usr/local/lib/python3.11/dist-packages (from httpx>=0.25.0->jupyterlab->-r requirements.txt (line 3)) (1.0.9)\n",
            "Requirement already satisfied: idna in /usr/local/lib/python3.11/dist-packages (from httpx>=0.25.0->jupyterlab->-r requirements.txt (line 3)) (3.10)\n",
            "Requirement already satisfied: h11>=0.16 in /usr/local/lib/python3.11/dist-packages (from httpcore==1.*->httpx>=0.25.0->jupyterlab->-r requirements.txt (line 3)) (0.16.0)\n",
            "Requirement already satisfied: debugpy>=1.0 in /usr/local/lib/python3.11/dist-packages (from ipykernel>=6.5.0->jupyterlab->-r requirements.txt (line 3)) (1.8.0)\n",
            "Requirement already satisfied: ipython>=7.23.1 in /usr/local/lib/python3.11/dist-packages (from ipykernel>=6.5.0->jupyterlab->-r requirements.txt (line 3)) (7.34.0)\n",
            "Requirement already satisfied: jupyter-client>=6.1.12 in /usr/local/lib/python3.11/dist-packages (from ipykernel>=6.5.0->jupyterlab->-r requirements.txt (line 3)) (6.1.12)\n",
            "Requirement already satisfied: matplotlib-inline>=0.1 in /usr/local/lib/python3.11/dist-packages (from ipykernel>=6.5.0->jupyterlab->-r requirements.txt (line 3)) (0.1.7)\n",
            "Requirement already satisfied: nest-asyncio in /usr/local/lib/python3.11/dist-packages (from ipykernel>=6.5.0->jupyterlab->-r requirements.txt (line 3)) (1.6.0)\n",
            "Requirement already satisfied: psutil in /usr/local/lib/python3.11/dist-packages (from ipykernel>=6.5.0->jupyterlab->-r requirements.txt (line 3)) (5.9.5)\n",
            "Requirement already satisfied: pyzmq>=17 in /usr/local/lib/python3.11/dist-packages (from ipykernel>=6.5.0->jupyterlab->-r requirements.txt (line 3)) (24.0.1)\n",
            "Requirement already satisfied: MarkupSafe>=2.0 in /usr/local/lib/python3.11/dist-packages (from jinja2>=3.0.3->jupyterlab->-r requirements.txt (line 3)) (3.0.2)\n",
            "Requirement already satisfied: argon2-cffi>=21.1 in /usr/local/lib/python3.11/dist-packages (from jupyter-server<3,>=2.4.0->jupyterlab->-r requirements.txt (line 3)) (23.1.0)\n",
            "Collecting jupyter-client>=6.1.12 (from ipykernel>=6.5.0->jupyterlab->-r requirements.txt (line 3))\n",
            "  Downloading jupyter_client-8.6.3-py3-none-any.whl.metadata (8.3 kB)\n",
            "Collecting jupyter-events>=0.11.0 (from jupyter-server<3,>=2.4.0->jupyterlab->-r requirements.txt (line 3))\n",
            "  Downloading jupyter_events-0.12.0-py3-none-any.whl.metadata (5.8 kB)\n",
            "Collecting jupyter-server-terminals>=0.4.4 (from jupyter-server<3,>=2.4.0->jupyterlab->-r requirements.txt (line 3))\n",
            "  Downloading jupyter_server_terminals-0.5.3-py3-none-any.whl.metadata (5.6 kB)\n",
            "Requirement already satisfied: nbconvert>=6.4.4 in /usr/local/lib/python3.11/dist-packages (from jupyter-server<3,>=2.4.0->jupyterlab->-r requirements.txt (line 3)) (7.16.6)\n",
            "Requirement already satisfied: nbformat>=5.3.0 in /usr/local/lib/python3.11/dist-packages (from jupyter-server<3,>=2.4.0->jupyterlab->-r requirements.txt (line 3)) (5.10.4)\n",
            "Collecting overrides>=5.0 (from jupyter-server<3,>=2.4.0->jupyterlab->-r requirements.txt (line 3))\n",
            "  Downloading overrides-7.7.0-py3-none-any.whl.metadata (5.8 kB)\n",
            "Requirement already satisfied: prometheus-client>=0.9 in /usr/local/lib/python3.11/dist-packages (from jupyter-server<3,>=2.4.0->jupyterlab->-r requirements.txt (line 3)) (0.21.1)\n",
            "Requirement already satisfied: send2trash>=1.8.2 in /usr/local/lib/python3.11/dist-packages (from jupyter-server<3,>=2.4.0->jupyterlab->-r requirements.txt (line 3)) (1.8.3)\n",
            "Requirement already satisfied: terminado>=0.8.3 in /usr/local/lib/python3.11/dist-packages (from jupyter-server<3,>=2.4.0->jupyterlab->-r requirements.txt (line 3)) (0.18.1)\n",
            "Requirement already satisfied: websocket-client>=1.7 in /usr/local/lib/python3.11/dist-packages (from jupyter-server<3,>=2.4.0->jupyterlab->-r requirements.txt (line 3)) (1.8.0)\n",
            "Requirement already satisfied: platformdirs>=2.5 in /usr/local/lib/python3.11/dist-packages (from jupyter-core->jupyterlab->-r requirements.txt (line 3)) (4.3.7)\n",
            "Requirement already satisfied: babel>=2.10 in /usr/local/lib/python3.11/dist-packages (from jupyterlab-server<3,>=2.27.1->jupyterlab->-r requirements.txt (line 3)) (2.17.0)\n",
            "Collecting json5>=0.9.0 (from jupyterlab-server<3,>=2.27.1->jupyterlab->-r requirements.txt (line 3))\n",
            "  Downloading json5-0.12.0-py3-none-any.whl.metadata (36 kB)\n",
            "Requirement already satisfied: jsonschema>=4.18.0 in /usr/local/lib/python3.11/dist-packages (from jupyterlab-server<3,>=2.27.1->jupyterlab->-r requirements.txt (line 3)) (4.23.0)\n",
            "Requirement already satisfied: rich in /usr/local/lib/python3.11/dist-packages (from keras>=3.5.0->tensorflow->-r requirements.txt (line 7)) (13.9.4)\n",
            "Requirement already satisfied: namex in /usr/local/lib/python3.11/dist-packages (from keras>=3.5.0->tensorflow->-r requirements.txt (line 7)) (0.0.9)\n",
            "Requirement already satisfied: optree in /usr/local/lib/python3.11/dist-packages (from keras>=3.5.0->tensorflow->-r requirements.txt (line 7)) (0.15.0)\n",
            "Requirement already satisfied: charset-normalizer<4,>=2 in /usr/local/lib/python3.11/dist-packages (from requests>=2.32.2->datasets->-r requirements.txt (line 1)) (3.4.1)\n",
            "Requirement already satisfied: urllib3<3,>=1.21.1 in /usr/local/lib/python3.11/dist-packages (from requests>=2.32.2->datasets->-r requirements.txt (line 1)) (2.4.0)\n",
            "Requirement already satisfied: markdown>=2.6.8 in /usr/local/lib/python3.11/dist-packages (from tensorboard<2.19,>=2.18->tensorflow->-r requirements.txt (line 7)) (3.8)\n",
            "Requirement already satisfied: tensorboard-data-server<0.8.0,>=0.7.0 in /usr/local/lib/python3.11/dist-packages (from tensorboard<2.19,>=2.18->tensorflow->-r requirements.txt (line 7)) (0.7.2)\n",
            "Requirement already satisfied: werkzeug>=1.0.1 in /usr/local/lib/python3.11/dist-packages (from tensorboard<2.19,>=2.18->tensorflow->-r requirements.txt (line 7)) (3.1.3)\n",
            "Requirement already satisfied: pytz>=2020.1 in /usr/local/lib/python3.11/dist-packages (from pandas->datasets->-r requirements.txt (line 1)) (2025.2)\n",
            "Requirement already satisfied: tzdata>=2022.7 in /usr/local/lib/python3.11/dist-packages (from pandas->datasets->-r requirements.txt (line 1)) (2025.2)\n",
            "Requirement already satisfied: sniffio>=1.1 in /usr/local/lib/python3.11/dist-packages (from anyio->httpx>=0.25.0->jupyterlab->-r requirements.txt (line 3)) (1.3.1)\n",
            "Requirement already satisfied: argon2-cffi-bindings in /usr/local/lib/python3.11/dist-packages (from argon2-cffi>=21.1->jupyter-server<3,>=2.4.0->jupyterlab->-r requirements.txt (line 3)) (21.2.0)\n",
            "Collecting jedi>=0.16 (from ipython>=7.23.1->ipykernel>=6.5.0->jupyterlab->-r requirements.txt (line 3))\n",
            "  Downloading jedi-0.19.2-py2.py3-none-any.whl.metadata (22 kB)\n",
            "Requirement already satisfied: decorator in /usr/local/lib/python3.11/dist-packages (from ipython>=7.23.1->ipykernel>=6.5.0->jupyterlab->-r requirements.txt (line 3)) (4.4.2)\n",
            "Requirement already satisfied: pickleshare in /usr/local/lib/python3.11/dist-packages (from ipython>=7.23.1->ipykernel>=6.5.0->jupyterlab->-r requirements.txt (line 3)) (0.7.5)\n",
            "Requirement already satisfied: prompt-toolkit!=3.0.0,!=3.0.1,<3.1.0,>=2.0.0 in /usr/local/lib/python3.11/dist-packages (from ipython>=7.23.1->ipykernel>=6.5.0->jupyterlab->-r requirements.txt (line 3)) (3.0.51)\n",
            "Requirement already satisfied: pygments in /usr/local/lib/python3.11/dist-packages (from ipython>=7.23.1->ipykernel>=6.5.0->jupyterlab->-r requirements.txt (line 3)) (2.19.1)\n",
            "Requirement already satisfied: backcall in /usr/local/lib/python3.11/dist-packages (from ipython>=7.23.1->ipykernel>=6.5.0->jupyterlab->-r requirements.txt (line 3)) (0.2.0)\n",
            "Requirement already satisfied: pexpect>4.3 in /usr/local/lib/python3.11/dist-packages (from ipython>=7.23.1->ipykernel>=6.5.0->jupyterlab->-r requirements.txt (line 3)) (4.9.0)\n",
            "Requirement already satisfied: jsonschema-specifications>=2023.03.6 in /usr/local/lib/python3.11/dist-packages (from jsonschema>=4.18.0->jupyterlab-server<3,>=2.27.1->jupyterlab->-r requirements.txt (line 3)) (2025.4.1)\n",
            "Requirement already satisfied: referencing>=0.28.4 in /usr/local/lib/python3.11/dist-packages (from jsonschema>=4.18.0->jupyterlab-server<3,>=2.27.1->jupyterlab->-r requirements.txt (line 3)) (0.36.2)\n",
            "Requirement already satisfied: rpds-py>=0.7.1 in /usr/local/lib/python3.11/dist-packages (from jsonschema>=4.18.0->jupyterlab-server<3,>=2.27.1->jupyterlab->-r requirements.txt (line 3)) (0.24.0)\n",
            "Collecting python-json-logger>=2.0.4 (from jupyter-events>=0.11.0->jupyter-server<3,>=2.4.0->jupyterlab->-r requirements.txt (line 3))\n",
            "  Downloading python_json_logger-3.3.0-py3-none-any.whl.metadata (4.0 kB)\n",
            "Collecting rfc3339-validator (from jupyter-events>=0.11.0->jupyter-server<3,>=2.4.0->jupyterlab->-r requirements.txt (line 3))\n",
            "  Downloading rfc3339_validator-0.1.4-py2.py3-none-any.whl.metadata (1.5 kB)\n",
            "Collecting rfc3986-validator>=0.1.1 (from jupyter-events>=0.11.0->jupyter-server<3,>=2.4.0->jupyterlab->-r requirements.txt (line 3))\n",
            "  Downloading rfc3986_validator-0.1.1-py2.py3-none-any.whl.metadata (1.7 kB)\n",
            "Requirement already satisfied: beautifulsoup4 in /usr/local/lib/python3.11/dist-packages (from nbconvert>=6.4.4->jupyter-server<3,>=2.4.0->jupyterlab->-r requirements.txt (line 3)) (4.13.4)\n",
            "Requirement already satisfied: bleach!=5.0.0 in /usr/local/lib/python3.11/dist-packages (from bleach[css]!=5.0.0->nbconvert>=6.4.4->jupyter-server<3,>=2.4.0->jupyterlab->-r requirements.txt (line 3)) (6.2.0)\n",
            "Requirement already satisfied: defusedxml in /usr/local/lib/python3.11/dist-packages (from nbconvert>=6.4.4->jupyter-server<3,>=2.4.0->jupyterlab->-r requirements.txt (line 3)) (0.7.1)\n",
            "Requirement already satisfied: jupyterlab-pygments in /usr/local/lib/python3.11/dist-packages (from nbconvert>=6.4.4->jupyter-server<3,>=2.4.0->jupyterlab->-r requirements.txt (line 3)) (0.3.0)\n",
            "Requirement already satisfied: mistune<4,>=2.0.3 in /usr/local/lib/python3.11/dist-packages (from nbconvert>=6.4.4->jupyter-server<3,>=2.4.0->jupyterlab->-r requirements.txt (line 3)) (3.1.3)\n",
            "Requirement already satisfied: nbclient>=0.5.0 in /usr/local/lib/python3.11/dist-packages (from nbconvert>=6.4.4->jupyter-server<3,>=2.4.0->jupyterlab->-r requirements.txt (line 3)) (0.10.2)\n",
            "Requirement already satisfied: pandocfilters>=1.4.1 in /usr/local/lib/python3.11/dist-packages (from nbconvert>=6.4.4->jupyter-server<3,>=2.4.0->jupyterlab->-r requirements.txt (line 3)) (1.5.1)\n",
            "Requirement already satisfied: fastjsonschema>=2.15 in /usr/local/lib/python3.11/dist-packages (from nbformat>=5.3.0->jupyter-server<3,>=2.4.0->jupyterlab->-r requirements.txt (line 3)) (2.21.1)\n",
            "Requirement already satisfied: ptyprocess in /usr/local/lib/python3.11/dist-packages (from terminado>=0.8.3->jupyter-server<3,>=2.4.0->jupyterlab->-r requirements.txt (line 3)) (0.7.0)\n",
            "Requirement already satisfied: markdown-it-py>=2.2.0 in /usr/local/lib/python3.11/dist-packages (from rich->keras>=3.5.0->tensorflow->-r requirements.txt (line 7)) (3.0.0)\n",
            "Requirement already satisfied: webencodings in /usr/local/lib/python3.11/dist-packages (from bleach!=5.0.0->bleach[css]!=5.0.0->nbconvert>=6.4.4->jupyter-server<3,>=2.4.0->jupyterlab->-r requirements.txt (line 3)) (0.5.1)\n",
            "Requirement already satisfied: tinycss2<1.5,>=1.1.0 in /usr/local/lib/python3.11/dist-packages (from bleach[css]!=5.0.0->nbconvert>=6.4.4->jupyter-server<3,>=2.4.0->jupyterlab->-r requirements.txt (line 3)) (1.4.0)\n",
            "Requirement already satisfied: parso<0.9.0,>=0.8.4 in /usr/local/lib/python3.11/dist-packages (from jedi>=0.16->ipython>=7.23.1->ipykernel>=6.5.0->jupyterlab->-r requirements.txt (line 3)) (0.8.4)\n",
            "Collecting fqdn (from jsonschema[format-nongpl]>=4.18.0->jupyter-events>=0.11.0->jupyter-server<3,>=2.4.0->jupyterlab->-r requirements.txt (line 3))\n",
            "  Downloading fqdn-1.5.1-py3-none-any.whl.metadata (1.4 kB)\n",
            "Collecting isoduration (from jsonschema[format-nongpl]>=4.18.0->jupyter-events>=0.11.0->jupyter-server<3,>=2.4.0->jupyterlab->-r requirements.txt (line 3))\n",
            "  Downloading isoduration-20.11.0-py3-none-any.whl.metadata (5.7 kB)\n",
            "Requirement already satisfied: jsonpointer>1.13 in /usr/local/lib/python3.11/dist-packages (from jsonschema[format-nongpl]>=4.18.0->jupyter-events>=0.11.0->jupyter-server<3,>=2.4.0->jupyterlab->-r requirements.txt (line 3)) (3.0.0)\n",
            "Collecting uri-template (from jsonschema[format-nongpl]>=4.18.0->jupyter-events>=0.11.0->jupyter-server<3,>=2.4.0->jupyterlab->-r requirements.txt (line 3))\n",
            "  Downloading uri_template-1.3.0-py3-none-any.whl.metadata (8.8 kB)\n",
            "Requirement already satisfied: webcolors>=24.6.0 in /usr/local/lib/python3.11/dist-packages (from jsonschema[format-nongpl]>=4.18.0->jupyter-events>=0.11.0->jupyter-server<3,>=2.4.0->jupyterlab->-r requirements.txt (line 3)) (24.11.1)\n",
            "Requirement already satisfied: mdurl~=0.1 in /usr/local/lib/python3.11/dist-packages (from markdown-it-py>=2.2.0->rich->keras>=3.5.0->tensorflow->-r requirements.txt (line 7)) (0.1.2)\n",
            "Requirement already satisfied: wcwidth in /usr/local/lib/python3.11/dist-packages (from prompt-toolkit!=3.0.0,!=3.0.1,<3.1.0,>=2.0.0->ipython>=7.23.1->ipykernel>=6.5.0->jupyterlab->-r requirements.txt (line 3)) (0.2.13)\n",
            "Requirement already satisfied: cffi>=1.0.1 in /usr/local/lib/python3.11/dist-packages (from argon2-cffi-bindings->argon2-cffi>=21.1->jupyter-server<3,>=2.4.0->jupyterlab->-r requirements.txt (line 3)) (1.17.1)\n",
            "Requirement already satisfied: soupsieve>1.2 in /usr/local/lib/python3.11/dist-packages (from beautifulsoup4->nbconvert>=6.4.4->jupyter-server<3,>=2.4.0->jupyterlab->-r requirements.txt (line 3)) (2.7)\n",
            "Requirement already satisfied: pycparser in /usr/local/lib/python3.11/dist-packages (from cffi>=1.0.1->argon2-cffi-bindings->argon2-cffi>=21.1->jupyter-server<3,>=2.4.0->jupyterlab->-r requirements.txt (line 3)) (2.22)\n",
            "Collecting arrow>=0.15.0 (from isoduration->jsonschema[format-nongpl]>=4.18.0->jupyter-events>=0.11.0->jupyter-server<3,>=2.4.0->jupyterlab->-r requirements.txt (line 3))\n",
            "  Downloading arrow-1.3.0-py3-none-any.whl.metadata (7.5 kB)\n",
            "Collecting types-python-dateutil>=2.8.10 (from arrow>=0.15.0->isoduration->jsonschema[format-nongpl]>=4.18.0->jupyter-events>=0.11.0->jupyter-server<3,>=2.4.0->jupyterlab->-r requirements.txt (line 3))\n",
            "  Downloading types_python_dateutil-2.9.0.20241206-py3-none-any.whl.metadata (2.1 kB)\n",
            "Downloading datasets-3.5.1-py3-none-any.whl (491 kB)\n",
            "\u001b[2K   \u001b[90m━━━━━━━━━━━━━━━━━━━━━━━━━━━━━━━━━━━━━━━━\u001b[0m \u001b[32m491.4/491.4 kB\u001b[0m \u001b[31m40.0 MB/s\u001b[0m eta \u001b[36m0:00:00\u001b[0m\n",
            "\u001b[?25hDownloading evaluate-0.4.3-py3-none-any.whl (84 kB)\n",
            "\u001b[2K   \u001b[90m━━━━━━━━━━━━━━━━━━━━━━━━━━━━━━━━━━━━━━━━\u001b[0m \u001b[32m84.0/84.0 kB\u001b[0m \u001b[31m11.0 MB/s\u001b[0m eta \u001b[36m0:00:00\u001b[0m\n",
            "\u001b[?25hDownloading jupyterlab-4.4.1-py3-none-any.whl (12.3 MB)\n",
            "\u001b[2K   \u001b[90m━━━━━━━━━━━━━━━━━━━━━━━━━━━━━━━━━━━━━━━━\u001b[0m \u001b[32m12.3/12.3 MB\u001b[0m \u001b[31m127.1 MB/s\u001b[0m eta \u001b[36m0:00:00\u001b[0m\n",
            "\u001b[?25hDownloading sacrebleu-2.5.1-py3-none-any.whl (104 kB)\n",
            "\u001b[2K   \u001b[90m━━━━━━━━━━━━━━━━━━━━━━━━━━━━━━━━━━━━━━━━\u001b[0m \u001b[32m104.1/104.1 kB\u001b[0m \u001b[31m13.0 MB/s\u001b[0m eta \u001b[36m0:00:00\u001b[0m\n",
            "\u001b[?25hDownloading tensorflow_addons-0.23.0-cp311-cp311-manylinux_2_17_x86_64.manylinux2014_x86_64.whl (611 kB)\n",
            "\u001b[2K   \u001b[90m━━━━━━━━━━━━━━━━━━━━━━━━━━━━━━━━━━━━━━━━\u001b[0m \u001b[32m611.8/611.8 kB\u001b[0m \u001b[31m52.4 MB/s\u001b[0m eta \u001b[36m0:00:00\u001b[0m\n",
            "\u001b[?25hDownloading async_lru-2.0.5-py3-none-any.whl (6.1 kB)\n",
            "Downloading dill-0.3.8-py3-none-any.whl (116 kB)\n",
            "\u001b[2K   \u001b[90m━━━━━━━━━━━━━━━━━━━━━━━━━━━━━━━━━━━━━━━━\u001b[0m \u001b[32m116.3/116.3 kB\u001b[0m \u001b[31m14.4 MB/s\u001b[0m eta \u001b[36m0:00:00\u001b[0m\n",
            "\u001b[?25hDownloading fsspec-2025.3.0-py3-none-any.whl (193 kB)\n",
            "\u001b[2K   \u001b[90m━━━━━━━━━━━━━━━━━━━━━━━━━━━━━━━━━━━━━━━━\u001b[0m \u001b[32m193.6/193.6 kB\u001b[0m \u001b[31m24.6 MB/s\u001b[0m eta \u001b[36m0:00:00\u001b[0m\n",
            "\u001b[?25hDownloading jupyter_lsp-2.2.5-py3-none-any.whl (69 kB)\n",
            "\u001b[2K   \u001b[90m━━━━━━━━━━━━━━━━━━━━━━━━━━━━━━━━━━━━━━━━\u001b[0m \u001b[32m69.1/69.1 kB\u001b[0m \u001b[31m9.2 MB/s\u001b[0m eta \u001b[36m0:00:00\u001b[0m\n",
            "\u001b[?25hDownloading jupyter_server-2.15.0-py3-none-any.whl (385 kB)\n",
            "\u001b[2K   \u001b[90m━━━━━━━━━━━━━━━━━━━━━━━━━━━━━━━━━━━━━━━━\u001b[0m \u001b[32m385.8/385.8 kB\u001b[0m \u001b[31m40.0 MB/s\u001b[0m eta \u001b[36m0:00:00\u001b[0m\n",
            "\u001b[?25hDownloading jupyterlab_server-2.27.3-py3-none-any.whl (59 kB)\n",
            "\u001b[2K   \u001b[90m━━━━━━━━━━━━━━━━━━━━━━━━━━━━━━━━━━━━━━━━\u001b[0m \u001b[32m59.7/59.7 kB\u001b[0m \u001b[31m7.6 MB/s\u001b[0m eta \u001b[36m0:00:00\u001b[0m\n",
            "\u001b[?25hDownloading multiprocess-0.70.16-py311-none-any.whl (143 kB)\n",
            "\u001b[2K   \u001b[90m━━━━━━━━━━━━━━━━━━━━━━━━━━━━━━━━━━━━━━━━\u001b[0m \u001b[32m143.5/143.5 kB\u001b[0m \u001b[31m18.1 MB/s\u001b[0m eta \u001b[36m0:00:00\u001b[0m\n",
            "\u001b[?25hDownloading typeguard-2.13.3-py3-none-any.whl (17 kB)\n",
            "Downloading colorama-0.4.6-py2.py3-none-any.whl (25 kB)\n",
            "Downloading portalocker-3.1.1-py3-none-any.whl (19 kB)\n",
            "Downloading xxhash-3.5.0-cp311-cp311-manylinux_2_17_x86_64.manylinux2014_x86_64.whl (194 kB)\n",
            "\u001b[2K   \u001b[90m━━━━━━━━━━━━━━━━━━━━━━━━━━━━━━━━━━━━━━━━\u001b[0m \u001b[32m194.8/194.8 kB\u001b[0m \u001b[31m24.5 MB/s\u001b[0m eta \u001b[36m0:00:00\u001b[0m\n",
            "\u001b[?25hDownloading json5-0.12.0-py3-none-any.whl (36 kB)\n",
            "Downloading jupyter_client-8.6.3-py3-none-any.whl (106 kB)\n",
            "\u001b[2K   \u001b[90m━━━━━━━━━━━━━━━━━━━━━━━━━━━━━━━━━━━━━━━━\u001b[0m \u001b[32m106.1/106.1 kB\u001b[0m \u001b[31m14.1 MB/s\u001b[0m eta \u001b[36m0:00:00\u001b[0m\n",
            "\u001b[?25hDownloading jupyter_events-0.12.0-py3-none-any.whl (19 kB)\n",
            "Downloading jupyter_server_terminals-0.5.3-py3-none-any.whl (13 kB)\n",
            "Downloading overrides-7.7.0-py3-none-any.whl (17 kB)\n",
            "Downloading jedi-0.19.2-py2.py3-none-any.whl (1.6 MB)\n",
            "\u001b[2K   \u001b[90m━━━━━━━━━━━━━━━━━━━━━━━━━━━━━━━━━━━━━━━━\u001b[0m \u001b[32m1.6/1.6 MB\u001b[0m \u001b[31m87.3 MB/s\u001b[0m eta \u001b[36m0:00:00\u001b[0m\n",
            "\u001b[?25hDownloading python_json_logger-3.3.0-py3-none-any.whl (15 kB)\n",
            "Downloading rfc3986_validator-0.1.1-py2.py3-none-any.whl (4.2 kB)\n",
            "Downloading rfc3339_validator-0.1.4-py2.py3-none-any.whl (3.5 kB)\n",
            "Downloading fqdn-1.5.1-py3-none-any.whl (9.1 kB)\n",
            "Downloading isoduration-20.11.0-py3-none-any.whl (11 kB)\n",
            "Downloading uri_template-1.3.0-py3-none-any.whl (11 kB)\n",
            "Downloading arrow-1.3.0-py3-none-any.whl (66 kB)\n",
            "\u001b[2K   \u001b[90m━━━━━━━━━━━━━━━━━━━━━━━━━━━━━━━━━━━━━━━━\u001b[0m \u001b[32m66.4/66.4 kB\u001b[0m \u001b[31m8.7 MB/s\u001b[0m eta \u001b[36m0:00:00\u001b[0m\n",
            "\u001b[?25hDownloading types_python_dateutil-2.9.0.20241206-py3-none-any.whl (14 kB)\n",
            "Installing collected packages: xxhash, uri-template, types-python-dateutil, typeguard, rfc3986-validator, rfc3339-validator, python-json-logger, portalocker, overrides, json5, jedi, fsspec, fqdn, dill, colorama, async-lru, tensorflow-addons, sacrebleu, multiprocess, jupyter-server-terminals, jupyter-client, arrow, isoduration, datasets, jupyter-events, evaluate, jupyter-server, jupyterlab-server, jupyter-lsp, jupyterlab\n",
            "  Attempting uninstall: typeguard\n",
            "    Found existing installation: typeguard 4.4.2\n",
            "    Uninstalling typeguard-4.4.2:\n",
            "      Successfully uninstalled typeguard-4.4.2\n",
            "  Attempting uninstall: fsspec\n",
            "    Found existing installation: fsspec 2025.3.2\n",
            "    Uninstalling fsspec-2025.3.2:\n",
            "      Successfully uninstalled fsspec-2025.3.2\n",
            "  Attempting uninstall: jupyter-client\n",
            "    Found existing installation: jupyter-client 6.1.12\n",
            "    Uninstalling jupyter-client-6.1.12:\n",
            "      Successfully uninstalled jupyter-client-6.1.12\n",
            "  Attempting uninstall: jupyter-server\n",
            "    Found existing installation: jupyter-server 1.16.0\n",
            "    Uninstalling jupyter-server-1.16.0:\n",
            "      Successfully uninstalled jupyter-server-1.16.0\n",
            "\u001b[31mERROR: pip's dependency resolver does not currently take into account all the packages that are installed. This behaviour is the source of the following dependency conflicts.\n",
            "notebook 6.5.7 requires jupyter-client<8,>=5.3.4, but you have jupyter-client 8.6.3 which is incompatible.\n",
            "torch 2.6.0+cu124 requires nvidia-cublas-cu12==12.4.5.8; platform_system == \"Linux\" and platform_machine == \"x86_64\", but you have nvidia-cublas-cu12 12.5.3.2 which is incompatible.\n",
            "torch 2.6.0+cu124 requires nvidia-cuda-cupti-cu12==12.4.127; platform_system == \"Linux\" and platform_machine == \"x86_64\", but you have nvidia-cuda-cupti-cu12 12.5.82 which is incompatible.\n",
            "torch 2.6.0+cu124 requires nvidia-cuda-nvrtc-cu12==12.4.127; platform_system == \"Linux\" and platform_machine == \"x86_64\", but you have nvidia-cuda-nvrtc-cu12 12.5.82 which is incompatible.\n",
            "torch 2.6.0+cu124 requires nvidia-cuda-runtime-cu12==12.4.127; platform_system == \"Linux\" and platform_machine == \"x86_64\", but you have nvidia-cuda-runtime-cu12 12.5.82 which is incompatible.\n",
            "torch 2.6.0+cu124 requires nvidia-cudnn-cu12==9.1.0.70; platform_system == \"Linux\" and platform_machine == \"x86_64\", but you have nvidia-cudnn-cu12 9.3.0.75 which is incompatible.\n",
            "torch 2.6.0+cu124 requires nvidia-cufft-cu12==11.2.1.3; platform_system == \"Linux\" and platform_machine == \"x86_64\", but you have nvidia-cufft-cu12 11.2.3.61 which is incompatible.\n",
            "torch 2.6.0+cu124 requires nvidia-curand-cu12==10.3.5.147; platform_system == \"Linux\" and platform_machine == \"x86_64\", but you have nvidia-curand-cu12 10.3.6.82 which is incompatible.\n",
            "torch 2.6.0+cu124 requires nvidia-cusolver-cu12==11.6.1.9; platform_system == \"Linux\" and platform_machine == \"x86_64\", but you have nvidia-cusolver-cu12 11.6.3.83 which is incompatible.\n",
            "torch 2.6.0+cu124 requires nvidia-cusparse-cu12==12.3.1.170; platform_system == \"Linux\" and platform_machine == \"x86_64\", but you have nvidia-cusparse-cu12 12.5.1.3 which is incompatible.\n",
            "torch 2.6.0+cu124 requires nvidia-nvjitlink-cu12==12.4.127; platform_system == \"Linux\" and platform_machine == \"x86_64\", but you have nvidia-nvjitlink-cu12 12.5.82 which is incompatible.\n",
            "inflect 7.5.0 requires typeguard>=4.0.1, but you have typeguard 2.13.3 which is incompatible.\n",
            "gcsfs 2025.3.2 requires fsspec==2025.3.2, but you have fsspec 2025.3.0 which is incompatible.\n",
            "jupyter-kernel-gateway 2.5.2 requires jupyter-client<8.0,>=5.2.0, but you have jupyter-client 8.6.3 which is incompatible.\u001b[0m\u001b[31m\n",
            "\u001b[0mSuccessfully installed arrow-1.3.0 async-lru-2.0.5 colorama-0.4.6 datasets-3.5.1 dill-0.3.8 evaluate-0.4.3 fqdn-1.5.1 fsspec-2025.3.0 isoduration-20.11.0 jedi-0.19.2 json5-0.12.0 jupyter-client-8.6.3 jupyter-events-0.12.0 jupyter-lsp-2.2.5 jupyter-server-2.15.0 jupyter-server-terminals-0.5.3 jupyterlab-4.4.1 jupyterlab-server-2.27.3 multiprocess-0.70.16 overrides-7.7.0 portalocker-3.1.1 python-json-logger-3.3.0 rfc3339-validator-0.1.4 rfc3986-validator-0.1.1 sacrebleu-2.5.1 tensorflow-addons-0.23.0 typeguard-2.13.3 types-python-dateutil-2.9.0.20241206 uri-template-1.3.0 xxhash-3.5.0\n"
          ]
        }
      ],
      "source": [
        "pip install -r requirements.txt\n"
      ]
    },
    {
      "cell_type": "code",
      "execution_count": 3,
      "id": "wZJyu2mIZWzw",
      "metadata": {
        "colab": {
          "base_uri": "https://localhost:8080/"
        },
        "id": "wZJyu2mIZWzw",
        "outputId": "e3c7688a-89ce-48d5-e12e-85115226037b"
      },
      "outputs": [
        {
          "output_type": "execute_result",
          "data": {
            "text/plain": [
              "[PhysicalDevice(name='/physical_device:GPU:0', device_type='GPU')]"
            ]
          },
          "metadata": {},
          "execution_count": 3
        }
      ],
      "source": [
        "import tensorflow as tf\n",
        "\n",
        "\n",
        "# If you are going to use GPU, make sure the GPU in in the output\n",
        "tf.config.list_physical_devices('GPU')"
      ]
    },
    {
      "cell_type": "code",
      "execution_count": 4,
      "id": "g3ygJkgUZWzw",
      "metadata": {
        "id": "g3ygJkgUZWzw"
      },
      "outputs": [],
      "source": [
        "from typing import List, Tuple, Union, Dict\n",
        "\n",
        "import numpy as np"
      ]
    },
    {
      "cell_type": "markdown",
      "id": "KzjLUrAHZWzx",
      "metadata": {
        "id": "KzjLUrAHZWzx"
      },
      "source": [
        "## 1. Data preparation (5 Points)"
      ]
    },
    {
      "cell_type": "markdown",
      "id": "q2NqmIN7ZWzx",
      "metadata": {
        "id": "q2NqmIN7ZWzx"
      },
      "source": [
        "### 1.1 Load and describe data"
      ]
    },
    {
      "cell_type": "markdown",
      "id": "8fQ1mGTGZWzx",
      "metadata": {
        "id": "8fQ1mGTGZWzx"
      },
      "source": [
        "Here, we use the [iwslt2017](https://huggingface.co/datasets/iwslt2017) dataset. More specifically, this translation task is from French to English: fr-en."
      ]
    },
    {
      "cell_type": "code",
      "execution_count": 5,
      "id": "ul4v6YEB7Y4i",
      "metadata": {
        "colab": {
          "base_uri": "https://localhost:8080/",
          "height": 336,
          "referenced_widgets": [
            "d705814fd36f484d9bd44ca1d871b810",
            "f70714455fd04567ab590b93008428f6",
            "2bca8c02e3b543118e24855186142741",
            "52ae4df9c754415cbfb26298a817f521",
            "b1140a50a65b4ab69afb211c9fdad022",
            "282d5ec4c0054cedbd7db437523599ce",
            "bd1917d2487c410696caa5c39f76f0e6",
            "799b5e770dbc4adabf54d0957e0c72d8",
            "9cd12a3169ec442d9cb28fc5aafedb01",
            "2598f0c13b954ba28039a4a47468d60d",
            "252df57aa3ba4120a52007deeda4adb7",
            "b49461c8af144bd3919763e5041cee83",
            "7470d937d36b4b98a2acb7e3071e0f07",
            "54b8ca3c48df489abb67bbb900d1c9d7",
            "06d4029f56a74781bdf8ef5a9d4d6bc3",
            "78e964ee99844417b4d547fb6cc601f4",
            "1da245d1b3ff46269d6f6e2d49662546",
            "71c3dfe27e9a4cd0a255493bc0fcd399",
            "1b7bd338e971412c9445ea7057f58570",
            "ed71466ac0d8445b81adcce7508be75f",
            "f6fc14db5d044eedacf855b8fc3d7f22",
            "bac6bda86ffb424f9824dc5c22e00fed",
            "3d8f91fe63734717b6fe0ec06c4ebe4a",
            "d20e1e050d7944e9ae6b330e56dfc05a",
            "465085f62cfd4cada7b2784336140084",
            "7fe1a4cabf3a4d4c901d664d1d1b7c72",
            "332d3a9a4b514a128ae6de1f3129fee6",
            "8305aef9e13c4c57a5481eb9a17089fc",
            "22c767cd0b674eea8fa70b66d2ec47cf",
            "9a78eb18422d44529398b5fcd29ffa66",
            "e292166b4dbf4a53884d1761ae5e1416",
            "8ad88334cc754aeebeeaf3274d5e859f",
            "41faf62c0d894837bd3784a7065a8d4d",
            "2fcf4ee1238b4e5198cd85cd46dc7db9",
            "8944146929b94d0ba65343d9165f6542",
            "b36da55774314ec4bfe20f1481b4526a",
            "b8c094490eb549b9a1bf6980db3efeb3",
            "86cfa6d096114d5d9390abd4f617bde8",
            "4d65977c0799485f97acd5059b77b3a8",
            "18d68924f2b544aea6352f5b21c45467",
            "e0fdd9e1aa314cedb4e04d94e87acf74",
            "5a676c61979045a6a1c4b478e5dfcbc5",
            "282b6436df894a42a3f7c364bece3210",
            "1e7675fa54624ee191384b94fda552c6",
            "9676e29aa2464e9fa6794984faa9fad3",
            "76377537e8e546a7bc04f66db7b6d278",
            "6f565f568bc644989710d13f8172ff51",
            "1acfda28454840128144cce191863c4e",
            "7ee70015c8d146f38ff5c1a8d1ae7f77",
            "c271c12102ff48fd9f0cb5db12abfa55",
            "d819b4feb9394f1ab5e7ecc64827a2dd",
            "bcd9ff5dcd6b4b6fa72c338889e9950f",
            "b9e67f21887e403d83f59088ab446c1d",
            "5532a8c11f714aad8f8c9c8432d0d89a",
            "7e6ea00af0f1481688085b8faaa1bd4c",
            "6eeee19a16a44830808c42610b3d611b",
            "d96442c02e31404cb20848833efcdf41",
            "bb502e3a4b924661a2ef43918d77420d",
            "e95dd29997084d2aa6395d235312a151",
            "2a1ad2a48b4b4b0fa6dc7be33cf30d67",
            "8a3d87d7bc9544779cd972a3c1c42796",
            "5457f7863d8d41fd920d71428575b557",
            "c83d92912a4d44dd833b18a447683746",
            "812ce1fa5f5b43e8a65839a0ec818a34",
            "a18375c1ea8042b5b56b4c81cf21796f",
            "678219d788014162b919ccd4333df420"
          ]
        },
        "id": "ul4v6YEB7Y4i",
        "outputId": "56403035-8252-4cee-cccd-c6f2027a5992"
      },
      "outputs": [
        {
          "output_type": "stream",
          "name": "stderr",
          "text": [
            "/usr/local/lib/python3.11/dist-packages/huggingface_hub/utils/_auth.py:94: UserWarning: \n",
            "The secret `HF_TOKEN` does not exist in your Colab secrets.\n",
            "To authenticate with the Hugging Face Hub, create a token in your settings tab (https://huggingface.co/settings/tokens), set it as secret in your Google Colab and restart your session.\n",
            "You will be able to reuse this secret in all of your notebooks.\n",
            "Please note that authentication is recommended but still optional to access public models or datasets.\n",
            "  warnings.warn(\n"
          ]
        },
        {
          "output_type": "display_data",
          "data": {
            "text/plain": [
              "README.md:   0%|          | 0.00/18.5k [00:00<?, ?B/s]"
            ],
            "application/vnd.jupyter.widget-view+json": {
              "version_major": 2,
              "version_minor": 0,
              "model_id": "d705814fd36f484d9bd44ca1d871b810"
            }
          },
          "metadata": {}
        },
        {
          "output_type": "display_data",
          "data": {
            "text/plain": [
              "iwslt2017.py:   0%|          | 0.00/8.17k [00:00<?, ?B/s]"
            ],
            "application/vnd.jupyter.widget-view+json": {
              "version_major": 2,
              "version_minor": 0,
              "model_id": "b49461c8af144bd3919763e5041cee83"
            }
          },
          "metadata": {}
        },
        {
          "output_type": "display_data",
          "data": {
            "text/plain": [
              "fr-en.zip:   0%|          | 0.00/26.9M [00:00<?, ?B/s]"
            ],
            "application/vnd.jupyter.widget-view+json": {
              "version_major": 2,
              "version_minor": 0,
              "model_id": "3d8f91fe63734717b6fe0ec06c4ebe4a"
            }
          },
          "metadata": {}
        },
        {
          "output_type": "display_data",
          "data": {
            "text/plain": [
              "Generating train split:   0%|          | 0/232825 [00:00<?, ? examples/s]"
            ],
            "application/vnd.jupyter.widget-view+json": {
              "version_major": 2,
              "version_minor": 0,
              "model_id": "2fcf4ee1238b4e5198cd85cd46dc7db9"
            }
          },
          "metadata": {}
        },
        {
          "output_type": "display_data",
          "data": {
            "text/plain": [
              "Generating test split:   0%|          | 0/8597 [00:00<?, ? examples/s]"
            ],
            "application/vnd.jupyter.widget-view+json": {
              "version_major": 2,
              "version_minor": 0,
              "model_id": "9676e29aa2464e9fa6794984faa9fad3"
            }
          },
          "metadata": {}
        },
        {
          "output_type": "display_data",
          "data": {
            "text/plain": [
              "Generating validation split:   0%|          | 0/890 [00:00<?, ? examples/s]"
            ],
            "application/vnd.jupyter.widget-view+json": {
              "version_major": 2,
              "version_minor": 0,
              "model_id": "6eeee19a16a44830808c42610b3d611b"
            }
          },
          "metadata": {}
        }
      ],
      "source": [
        "# The load_dataset function is provided by Hugging Face Datasets:\n",
        "# https://huggingface.co/docs/datasets/index\n",
        "\n",
        "from datasets import load_dataset\n",
        "import os\n",
        "\n",
        "dataset_path = os.path.join('a4-data', 'dataset')\n",
        "\n",
        "dataset = load_dataset(\n",
        "    'IWSLT/iwslt2017',\n",
        "    'iwslt2017-fr-en',\n",
        "    cache_dir=dataset_path,\n",
        "    trust_remote_code=True\n",
        ")\n",
        "\n"
      ]
    },
    {
      "cell_type": "markdown",
      "id": "Orj_KZVQZWzx",
      "metadata": {
        "id": "Orj_KZVQZWzx"
      },
      "source": [
        "Let's first print some basic statistics of this dataset"
      ]
    },
    {
      "cell_type": "code",
      "execution_count": 61,
      "id": "asddAzh6ZWzx",
      "metadata": {
        "colab": {
          "base_uri": "https://localhost:8080/"
        },
        "id": "asddAzh6ZWzx",
        "outputId": "16ca77eb-38df-4889-a5a3-a72140bc7a4c"
      },
      "outputs": [
        {
          "output_type": "stream",
          "name": "stdout",
          "text": [
            "DatasetDict({\n",
            "    train: Dataset({\n",
            "        features: ['translation'],\n",
            "        num_rows: 232825\n",
            "    })\n",
            "    test: Dataset({\n",
            "        features: ['translation'],\n",
            "        num_rows: 8597\n",
            "    })\n",
            "    validation: Dataset({\n",
            "        features: ['translation'],\n",
            "        num_rows: 890\n",
            "    })\n",
            "})\n",
            "232825 890 8597\n"
          ]
        }
      ],
      "source": [
        "print(dataset)\n",
        "print(len(dataset['train']['translation']), len(dataset['validation']['translation']), len(dataset['test']['translation']))"
      ]
    },
    {
      "cell_type": "code",
      "execution_count": 62,
      "id": "D8GDI7hVZWzy",
      "metadata": {
        "colab": {
          "base_uri": "https://localhost:8080/"
        },
        "id": "D8GDI7hVZWzy",
        "outputId": "9be3154a-1ff6-4116-b2ba-cb604363a2c1"
      },
      "outputs": [
        {
          "output_type": "stream",
          "name": "stdout",
          "text": [
            "{'en': \"Thank you so much, Chris. And it's truly a great honor to have the opportunity to come to this stage twice; I'm extremely grateful.\", 'fr': \"Merci beaucoup, Chris. C'est vraiment un honneur de pouvoir venir sur cette scène une deuxième fois. Je suis très reconnaissant.\"}\n"
          ]
        }
      ],
      "source": [
        "print(dataset['train']['translation'][0])"
      ]
    },
    {
      "cell_type": "code",
      "execution_count": 63,
      "id": "hAEdbVkBZWzy",
      "metadata": {
        "id": "hAEdbVkBZWzy"
      },
      "outputs": [],
      "source": [
        "from tokenizers import Tokenizer\n",
        "# The tokenizer is provided by the huggingface tokenizers\n",
        "# https://huggingface.co/docs/tokenizers/index\n",
        "# Here, I already pretrained a BPE tokenizer and you can simply load the json\n",
        "# The token numbers of both English and French are 10,000\n",
        "# All tokens should be lower-case.\n",
        "\n",
        "\n",
        "en_tokenizer = Tokenizer.from_file('a4-data/en_tokenizer.json')\n",
        "fr_tokenizer = Tokenizer.from_file('a4-data/fr_tokenizer.json')"
      ]
    },
    {
      "cell_type": "code",
      "execution_count": 64,
      "id": "9S6eZpLOZWzy",
      "metadata": {
        "colab": {
          "base_uri": "https://localhost:8080/"
        },
        "id": "9S6eZpLOZWzy",
        "outputId": "a9d1fe94-1a9b-443d-a17c-3f89d2665283"
      },
      "outputs": [
        {
          "output_type": "stream",
          "name": "stdout",
          "text": [
            "[0, 122, 279, 4987, 17, 1]\n",
            "['<s>', 'Ġi', 'Ġlike', 'Ġsports', '.', '</s>']\n"
          ]
        }
      ],
      "source": [
        "encoding = en_tokenizer.encode(\"i like sports.\")\n",
        "print(encoding.ids)\n",
        "print(encoding.tokens)\n",
        "# >>> [0, 122, 279, 4987, 17, 1]\n",
        "# >>> ['<s>', 'Ġi', 'Ġlike', 'Ġsports', '.', '</s>']"
      ]
    },
    {
      "cell_type": "markdown",
      "id": "1Eq735MlZWzy",
      "metadata": {
        "id": "1Eq735MlZWzy"
      },
      "source": [
        "Extract English and French sentences for training, validation, and test sets.\n",
        "\n",
        "Note: Every sentence is lower-case."
      ]
    },
    {
      "cell_type": "code",
      "execution_count": 65,
      "id": "teXmyx0xZWzy",
      "metadata": {
        "id": "teXmyx0xZWzy"
      },
      "outputs": [],
      "source": [
        "train_en_sentences, train_fr_sentences = zip(*[(pair['en'].lower(), pair['fr'].lower()) for pair in dataset['train']['translation']])\n",
        "valid_en_sentences, valid_fr_sentences = zip(*[(pair['en'].lower(), pair['fr'].lower()) for pair in dataset['validation']['translation']])\n",
        "test_en_sentences, test_fr_sentences = zip(*[(pair['en'].lower(), pair['fr'].lower()) for pair in dataset['test']['translation']])"
      ]
    },
    {
      "cell_type": "markdown",
      "id": "1nQ2lyTGZWzy",
      "metadata": {
        "id": "1nQ2lyTGZWzy"
      },
      "source": [
        "### 1.2 Encode data (5 Points)"
      ]
    },
    {
      "cell_type": "code",
      "execution_count": 73,
      "id": "gtzC27cYZWzz",
      "metadata": {
        "id": "gtzC27cYZWzz"
      },
      "outputs": [],
      "source": [
        "def encode(tokenizer: 'Tokenizer', sentences: List[str]) -> List[List[int]]:\n",
        "    \"\"\" Encode the sentences with the pretrained tokenizer.\n",
        "        You can directly call `tokenizer.encode()` to encode the sentences.\n",
        "        It will automatically add the <s> and </s> token.\n",
        "\n",
        "        Note: Please be carefull with the return value of the encode function.\n",
        "\n",
        "    Args:\n",
        "        tokenizer: A pretrained en/fr tokenizer\n",
        "        sentences: A list of strings\n",
        "    Return:\n",
        "        sent_token_ids: A list of token ids\n",
        "    \"\"\"\n",
        "    sent_token_ids = []\n",
        "    n = len(sentences)\n",
        "    for i, sentence in enumerate(sentences):\n",
        "        if i % 100 == 0 or i == n - 1:\n",
        "            print_line('Encoding with Tokenizer:', (i + 1), '/', n)\n",
        "        # Start your code here\n",
        "\n",
        "        encoded = tokenizer.encode(sentence)\n",
        "        sent_token_ids.append(encoded.ids)\n",
        "        # End\n",
        "\n",
        "\n",
        "        # End\n",
        "    print_line('\\n')\n",
        "    return sent_token_ids"
      ]
    },
    {
      "cell_type": "code",
      "execution_count": 12,
      "id": "_0JQH4Y_ZWzz",
      "metadata": {
        "colab": {
          "base_uri": "https://localhost:8080/"
        },
        "id": "_0JQH4Y_ZWzz",
        "outputId": "1b4b7b87-6ef0-4a29-ed58-d266c8046fbb"
      },
      "outputs": [
        {
          "output_type": "stream",
          "name": "stdout",
          "text": [
            "en\n",
            "Encoding with Tokenizer: 232825 / 232825\n",
            "Encoding with Tokenizer: 890 / 890\n",
            "Encoding with Tokenizer: 8597 / 8597\n",
            "fr\n",
            "Encoding with Tokenizer: 232825 / 232825\n",
            "Encoding with Tokenizer: 890 / 890\n",
            "Encoding with Tokenizer: 8597 / 8597\n"
          ]
        }
      ],
      "source": [
        "print('en')\n",
        "train_en = encode(en_tokenizer, train_en_sentences)\n",
        "valid_en = encode(en_tokenizer, valid_en_sentences)\n",
        "test_en = encode(en_tokenizer, test_en_sentences)\n",
        "print('fr')\n",
        "train_fr = encode(fr_tokenizer, train_fr_sentences)\n",
        "valid_fr = encode(fr_tokenizer, valid_fr_sentences)\n",
        "test_fr = encode(fr_tokenizer, test_fr_sentences)"
      ]
    },
    {
      "cell_type": "markdown",
      "id": "g5fQOFrzZWzz",
      "metadata": {
        "id": "g5fQOFrzZWzz"
      },
      "source": [
        "Check your implementation with an example"
      ]
    },
    {
      "cell_type": "code",
      "execution_count": 74,
      "id": "zRDvqw6dZWzz",
      "metadata": {
        "colab": {
          "base_uri": "https://localhost:8080/"
        },
        "id": "zRDvqw6dZWzz",
        "outputId": "f3214624-10b9-4881-8079-ac3807a9ff59"
      },
      "outputs": [
        {
          "output_type": "stream",
          "name": "stdout",
          "text": [
            "{'en': \"Thank you so much, Chris. And it's truly a great honor to have the opportunity to come to this stage twice; I'm extremely grateful.\", 'fr': \"Merci beaucoup, Chris. C'est vraiment un honneur de pouvoir venir sur cette scène une deuxième fois. Je suis très reconnaissant.\"}\n",
            "[0, 658, 162, 188, 494, 15, 2843, 17, 138, 165, 178, 2775, 121, 630, 4502, 140, 222, 124, 1930, 140, 625, 140, 185, 2122, 3446, 30, 122, 400, 2576, 5818, 17, 1] [0, 763, 478, 15, 3016, 17, 145, 10, 178, 487, 169, 8981, 152, 1038, 2055, 266, 323, 2425, 220, 1760, 586, 17, 214, 459, 378, 9952, 17, 1]\n",
            " thank you so much, chris. and it's truly a great honor to have the opportunity to come to this stage twice; i'm extremely grateful.  merci beaucoup, chris. c'est vraiment un honneur de pouvoir venir sur cette scène une deuxième fois. je suis très reconnaissant.\n"
          ]
        }
      ],
      "source": [
        "print(dataset['train']['translation'][0])\n",
        "print(train_en[0], train_fr[0])\n",
        "print(en_tokenizer.decode(train_en[0]), fr_tokenizer.decode(train_fr[0]))"
      ]
    },
    {
      "cell_type": "markdown",
      "id": "KHKRnA5OZWzz",
      "metadata": {
        "id": "KHKRnA5OZWzz"
      },
      "source": [
        "## 2. Sequence to sequence model (40 Points)"
      ]
    },
    {
      "cell_type": "markdown",
      "id": "jPS0maaHZWzz",
      "metadata": {
        "id": "jPS0maaHZWzz"
      },
      "source": [
        "### 2.1 Encoder (10 Points)"
      ]
    },
    {
      "cell_type": "code",
      "execution_count": 75,
      "id": "4JMYQgwmZWzz",
      "metadata": {
        "id": "4JMYQgwmZWzz"
      },
      "outputs": [],
      "source": [
        "from tensorflow.keras.models import Model\n",
        "from tensorflow.keras.layers import GRU, Embedding\n",
        "from tensorflow.keras.initializers import GlorotUniform\n",
        "import tensorflow as tf\n",
        "\n",
        "class Encoder(Model):\n",
        "    def __init__(self, vocab_size: int, embedding_size: int, units: int):\n",
        "        super().__init__()\n",
        "        self.units = units\n",
        "        self.embedding = Embedding(\n",
        "            input_dim=vocab_size,\n",
        "            output_dim=embedding_size,\n",
        "            mask_zero=True\n",
        "        )\n",
        "        self.gru = GRU(\n",
        "            units,\n",
        "            return_sequences=True,\n",
        "            return_state=True,\n",
        "            recurrent_initializer=GlorotUniform()\n",
        "        )\n",
        "\n",
        "    def call(self, src_ids, src_mask):\n",
        "        embeddings = self.embedding(src_ids)\n",
        "        result = self.gru(embeddings, mask=src_mask)\n",
        "        enc_outputs = result[0]\n",
        "        final_state = result[1]\n",
        "\n",
        "\n",
        "        final_state = tf.reshape(final_state, [-1, self.units])\n",
        "\n",
        "\n",
        "        return enc_outputs, final_state\n",
        "\n",
        "\n",
        "\n"
      ]
    },
    {
      "cell_type": "code",
      "source": [
        "from tensorflow.keras.models import Model\n",
        "from tensorflow.keras.layers import Embedding, GRU, Dropout, Dense\n",
        "from tensorflow.keras.initializers import GlorotUniform\n",
        "import tensorflow as tf\n",
        "\n",
        "class Decoder(Model):\n",
        "    def __init__(self,\n",
        "                 vocab_size: int,\n",
        "                 embedding_size: int,\n",
        "                 units: int,\n",
        "                 dropout_rate: float):\n",
        "        \"\"\"\n",
        "        The decoder model for the tgt sentences.\n",
        "        Contains: embedding → GRU → dropout → classifier.\n",
        "        \"\"\"\n",
        "        super().__init__()\n",
        "        self.units = units\n",
        "\n",
        "\n",
        "        self.embedding = Embedding(\n",
        "            input_dim=vocab_size,\n",
        "            output_dim=embedding_size,\n",
        "            mask_zero=True\n",
        "        )\n",
        "\n",
        "        #  return full sequence + last state\n",
        "        self.gru = GRU(\n",
        "            units,\n",
        "            return_sequences=True,\n",
        "            return_state=True,\n",
        "            recurrent_initializer=GlorotUniform()\n",
        "        )\n",
        "\n",
        "        # Dropout on GRU o/ps\n",
        "        self.dropout = Dropout(dropout_rate)\n",
        "\n",
        "        #  Classifier (no softmax here)\n",
        "        self.classifier = Dense(vocab_size)\n",
        "\n",
        "    def call(self,\n",
        "             tgt_ids,\n",
        "             initial_state,\n",
        "             tgt_mask=None,\n",
        "             training=None):\n",
        "        \"\"\"\n",
        "        Bulk‐decode for teacher forcing during training.\n",
        "        Args:\n",
        "          tgt_ids:     (batch, T) token IDs\n",
        "          initial_state: (batch, units) from encoder\n",
        "          tgt_mask:    (batch, T) boolean mask\n",
        "        Returns:\n",
        "          dec_outputs: (batch, T, vocab_size)\n",
        "        \"\"\"\n",
        "        # 1. Embed the whole input sequence\n",
        "        emb = self.embedding(tgt_ids)\n",
        "\n",
        "        # GRU\n",
        "        seq_outputs, final_state = self.gru(\n",
        "            emb,\n",
        "            mask=tgt_mask,\n",
        "            initial_state=initial_state,\n",
        "            training=training\n",
        "        )\n",
        "\n",
        "        #  Dropout\n",
        "        dropped = self.dropout(seq_outputs, training=training)\n",
        "\n",
        "        #  Classifier on each timestep’s hidden\n",
        "        dec_outputs = self.classifier(dropped)\n",
        "        return dec_outputs\n",
        "\n",
        "    def predict(self,\n",
        "                tgt_id,\n",
        "                initial_state):\n",
        "        \"\"\"\n",
        "        Single‐step decode for greedy inference.\n",
        "        Args:\n",
        "          tgt_id:       (batch,) int IDs of last token (usually batch=1)\n",
        "          initial_state: (batch, units) previous state\n",
        "        Returns:\n",
        "          dec_outputs:  (batch, vocab_size) un‐normalized logits\n",
        "          state:        (batch, units) next hidden state\n",
        "        \"\"\"\n",
        "        # 1. Embed the single-step input\n",
        "        emb = self.embedding(tf.expand_dims(tgt_id, axis=1))\n",
        "        emb = tf.squeeze(emb, axis=1)\n",
        "\n",
        "\n",
        "        gru_cell = self.gru.cell\n",
        "        output, [new_state] = gru_cell(\n",
        "            inputs=emb,\n",
        "            states=[initial_state],\n",
        "            training=False\n",
        "        )\n",
        "\n",
        "\n",
        "        dec_outputs = self.classifier(output)\n",
        "        return dec_outputs, new_state"
      ],
      "metadata": {
        "id": "bJPN-6l1h_Y0"
      },
      "id": "bJPN-6l1h_Y0",
      "execution_count": 76,
      "outputs": []
    },
    {
      "cell_type": "markdown",
      "id": "hICte2jfZWzz",
      "metadata": {
        "id": "hICte2jfZWzz"
      },
      "source": [
        "### 2.2 Decoder (15 Points)"
      ]
    },
    {
      "cell_type": "code",
      "source": [
        "from tensorflow.keras.models import Model\n",
        "from tensorflow.keras.layers import Embedding, GRU, Dropout, Dense\n",
        "from tensorflow.keras.initializers import GlorotUniform\n",
        "import tensorflow as tf\n",
        "\n",
        "class Decoder(Model):\n",
        "    def __init__(self,\n",
        "                 vocab_size: int,\n",
        "                 embedding_size: int,\n",
        "                 units: int,\n",
        "                 dropout_rate: float):\n",
        "        \"\"\"\n",
        "        The decoder model for the tgt sentences.\n",
        "        Contains: embedding → GRU → dropout → classifier.\n",
        "        \"\"\"\n",
        "        super().__init__()\n",
        "        self.units = units\n",
        "\n",
        "        # Embedding layer\n",
        "        self.embedding = Embedding(\n",
        "            input_dim=vocab_size,\n",
        "            output_dim=embedding_size,\n",
        "            mask_zero=True\n",
        "        )\n",
        "\n",
        "        #  GRU: return full sequence + last state\n",
        "        self.gru = GRU(\n",
        "            units,\n",
        "            return_sequences=True,\n",
        "            return_state=True,\n",
        "            recurrent_initializer=GlorotUniform()\n",
        "        )\n",
        "\n",
        "        # 3. Dropout to regularize the big classifier weights\n",
        "        self.dropout = Dropout(dropout_rate)\n",
        "\n",
        "\n",
        "        self.classifier = Dense(vocab_size)\n",
        "\n",
        "    def call(self,\n",
        "             tgt_ids,\n",
        "             initial_state,\n",
        "             tgt_mask=None,\n",
        "             training=None):\n",
        "        \"\"\"\n",
        "        Bulk‐decode for teacher forcing during training.\n",
        "        Args:\n",
        "          tgt_ids:     (batch, T) token IDs\n",
        "          initial_state: (batch, units) from encoder\n",
        "          tgt_mask:    (batch, T) boolean mask\n",
        "        Returns:\n",
        "          dec_outputs: (batch, T, vocab_size)\n",
        "        \"\"\"\n",
        "        #  Embed the whole target input sequence\n",
        "        emb = self.embedding(tgt_ids)\n",
        "\n",
        "        # 2. Run through GRU\n",
        "        seq_outputs, final_state = self.gru(\n",
        "            emb,\n",
        "            mask=tgt_mask,\n",
        "            initial_state=initial_state,\n",
        "            training=training\n",
        "        )\n",
        "\n",
        "        #  Dropout\n",
        "        dropped = self.dropout(seq_outputs, training=training)\n",
        "\n",
        "        # 4. Classifier on each timestep’s hidden\n",
        "        dec_outputs = self.classifier(dropped)\n",
        "        return dec_outputs\n",
        "\n",
        "    def predict(self,\n",
        "                tgt_id,\n",
        "                initial_state):\n",
        "        \"\"\"\n",
        "        Single‐step decode for greedy inference.\n",
        "        Args:\n",
        "          tgt_id:       (batch,) int IDs of last token (usually batch=1)\n",
        "          initial_state: (batch, units) previous state\n",
        "        Returns:\n",
        "          dec_outputs:  (batch, vocab_size) un‐normalized logits\n",
        "          state:        (batch, units) next hidden state\n",
        "        \"\"\"\n",
        "        # Embed the single-step input\n",
        "        emb = self.embedding(tf.expand_dims(tgt_id, axis=1))\n",
        "        emb = tf.squeeze(emb, axis=1)\n",
        "\n",
        "        #  Run through the GRUCell\n",
        "        gru_cell = self.gru.cell\n",
        "        output, [new_state] = gru_cell(\n",
        "            inputs=emb,\n",
        "            states=[initial_state],\n",
        "            training=False\n",
        "        )\n",
        "\n",
        "        #  No dropout here\n",
        "        dec_outputs = self.classifier(output)\n",
        "        return dec_outputs, new_state\n"
      ],
      "metadata": {
        "id": "kx-gfomrfac0"
      },
      "id": "kx-gfomrfac0",
      "execution_count": 59,
      "outputs": []
    },
    {
      "cell_type": "code",
      "execution_count": 26,
      "id": "pSaIehqoZWzz",
      "metadata": {
        "id": "pSaIehqoZWzz"
      },
      "outputs": [],
      "source": [
        "from tensorflow.keras.models import Model\n",
        "from tensorflow.keras.layers import Embedding, GRUCell, Dense, Dropout, Concatenate\n",
        "from tensorflow.keras.initializers import GlorotUniform\n",
        "import tensorflow as tf\n",
        "\n",
        "class AttnDecoder(Model):\n",
        "    def __init__(self, vocab_size: int, embedding_size: int, units: int, dropout_rate: float):\n",
        "        super().__init__()\n",
        "        self.units = units\n",
        "\n",
        "        self.embedding = Embedding(\n",
        "            input_dim=vocab_size,\n",
        "            output_dim=embedding_size,\n",
        "            mask_zero=True\n",
        "        )\n",
        "\n",
        "        self.gru_cell = GRUCell(units)\n",
        "        self.dropout = Dropout(dropout_rate)\n",
        "\n",
        "        self.attn_dense = Dense(units, use_bias=False)\n",
        "        self.attn_score = Dense(1, use_bias=False)\n",
        "        self.concat = Concatenate(axis=-1)\n",
        "\n",
        "        self.classifier = Dense(vocab_size)  # no softmax\n",
        "\n",
        "    def compute_attention(self, dec_hidden, enc_outputs, src_mask):\n",
        "     dec_hidden_exp = tf.expand_dims(dec_hidden, axis=1)\n",
        "     score = self.attn_score(tf.nn.tanh(self.attn_dense(enc_outputs) + dec_hidden_exp))\n",
        "     score = tf.reshape(score, [tf.shape(score)[0], -1])\n",
        "\n",
        "    # Apply mask\n",
        "     score -= 1e9 * (1.0 - tf.cast(src_mask, tf.float32))\n",
        "     attn_weights = tf.nn.softmax(score, axis=-1)\n",
        "\n",
        "     context = tf.reduce_sum(tf.expand_dims(attn_weights, -1) * enc_outputs, axis=1)\n",
        "     return context\n",
        "\n",
        "\n",
        "    def call(self, tgt_ids, initial_state, enc_outputs, src_mask, tgt_mask):\n",
        "        \"\"\"\n",
        "        Training-time forward pass over full sequence.\n",
        "        Args:\n",
        "            tgt_ids: (batch, tgt_len)\n",
        "            initial_state: (batch, units)\n",
        "            enc_outputs: (batch, src_len, units)\n",
        "            src_mask: (batch, src_len)\n",
        "            tgt_mask: unused, here for compatibility\n",
        "        Returns:\n",
        "            logits: (batch, tgt_len, vocab_size)\n",
        "        \"\"\"\n",
        "        batch_size = tf.shape(tgt_ids)[0]\n",
        "        tgt_len = tf.shape(tgt_ids)[1]\n",
        "\n",
        "        embeddings = self.embedding(tgt_ids)\n",
        "        outputs = []\n",
        "        state = initial_state\n",
        "\n",
        "        for t in range(tgt_len):\n",
        "            x_t = embeddings[:, t, :]\n",
        "            context = self.compute_attention(state, enc_outputs, src_mask)\n",
        "            gru_input = tf.concat([x_t, context], axis=-1)\n",
        "\n",
        "            output, [state] = self.gru_cell(gru_input, [state])\n",
        "            outputs.append(tf.expand_dims(output, axis=1))\n",
        "\n",
        "        outputs = tf.concat(outputs, axis=1)\n",
        "        dropped = self.dropout(outputs)\n",
        "        logits = self.classifier(dropped)\n",
        "        return logits\n",
        "\n",
        "    def predict(self, tgt_ids, state, enc_outputs, src_mask):\n",
        "     \"\"\"\n",
        "    Args:\n",
        "        tgt_ids: (batch,) or (batch, 1) – input token IDs\n",
        "        state: (batch, units)\n",
        "        enc_outputs: (batch, src_len, units)\n",
        "        src_mask: (batch, src_len)\n",
        "    Returns:\n",
        "        logits: (batch, vocab_size)\n",
        "        new_state: (batch, units)\n",
        "     \"\"\"\n",
        "    # Ensure tgt_ids is (batch, 1)\n",
        "     if len(tgt_ids.shape) == 1:\n",
        "        tgt_ids = tf.expand_dims(tgt_ids, axis=1)\n",
        "\n",
        "    # Embedding: (batch, 1, embed_dim)\n",
        "     x = self.embedding(tgt_ids)\n",
        "\n",
        "    # Reshape to (batch, embed_dim)\n",
        "     x = tf.reshape(x, [tf.shape(x)[0], -1])\n",
        "\n",
        "    # Attention\n",
        "     context = self.compute_attention(state, enc_outputs, src_mask)\n",
        "\n",
        "    # Combine input and context\n",
        "     gru_input = tf.concat([x, context], axis=-1)\n",
        "\n",
        "    # Run GRUCell\n",
        "     output, [new_state] = self.gru_cell(gru_input, [state])\n",
        "\n",
        "    # Project to logits\n",
        "     logits = self.classifier(output)\n",
        "\n",
        "     return logits, new_state\n",
        "\n",
        "\n",
        "\n",
        "\n",
        "\n",
        "\n",
        "\n",
        "\n",
        "\n",
        "\n"
      ]
    },
    {
      "cell_type": "markdown",
      "id": "uNgbfdqsZWz0",
      "metadata": {
        "id": "uNgbfdqsZWz0"
      },
      "source": [
        "### 2.3 Seq2seq (10 Points)"
      ]
    },
    {
      "cell_type": "code",
      "execution_count": 29,
      "id": "XZW--sW7ZWz0",
      "metadata": {
        "id": "XZW--sW7ZWz0"
      },
      "outputs": [],
      "source": [
        "import tensorflow as tf\n",
        "from tensorflow.keras.models import Model\n",
        "\n",
        "class AttnSeq2seq(Model):\n",
        "    def __init__(self, src_vocab_size: int, tgt_vocab_size: int, embedding_size: int, units: int, dropout_rate: float):\n",
        "        \"\"\" Seq2Seq model with attention decoder. \"\"\"\n",
        "        super().__init__()\n",
        "        self.encoder = Encoder(src_vocab_size, embedding_size, units)\n",
        "        self.decoder = AttnDecoder(tgt_vocab_size, embedding_size, units, dropout_rate)\n",
        "\n",
        "    def call(self, src_ids, src_seq_lens, tgt_ids, tgt_seq_lens):\n",
        "        src_mask = tf.sequence_mask(src_seq_lens, tf.shape(src_ids)[1])\n",
        "        tgt_mask = tf.sequence_mask(tgt_seq_lens, tf.shape(tgt_ids)[1])\n",
        "\n",
        "        enc_outputs, final_state = self.encoder(src_ids, src_mask)\n",
        "        dec_outputs = self.decoder(\n",
        "            tgt_ids,\n",
        "            initial_state=final_state,\n",
        "            enc_outputs=enc_outputs,\n",
        "            src_mask=src_mask,\n",
        "            tgt_mask=tgt_mask\n",
        "        )\n",
        "        return dec_outputs\n"
      ]
    },
    {
      "cell_type": "code",
      "source": [
        "import tensorflow as tf\n",
        "from tensorflow.keras.models import Model\n",
        "\n",
        "class Seq2seq(Model):\n",
        "    def __init__(self,\n",
        "                 src_vocab_size: int,\n",
        "                 tgt_vocab_size: int,\n",
        "                 embedding_size: int,\n",
        "                 units: int,\n",
        "                 dropout_rate: float):\n",
        "        \"\"\"\n",
        "        The full seq2seq model that contains:\n",
        "          - an Encoder over the source\n",
        "          - a Decoder over the target (teacher forcing)\n",
        "        \"\"\"\n",
        "        super().__init__()\n",
        "        # instantiate encoder + decoder\n",
        "        self.encoder = Encoder(src_vocab_size, embedding_size, units)\n",
        "        self.decoder = Decoder(tgt_vocab_size, embedding_size, units, dropout_rate)\n",
        "\n",
        "    def call(self,\n",
        "             src_ids,\n",
        "             src_seq_lens,\n",
        "             tgt_ids,\n",
        "             tgt_seq_lens,\n",
        "             training=None):\n",
        "        \"\"\"\n",
        "        Forward pass for computing logits & loss during training/validation.\n",
        "        Args:\n",
        "          src_ids:      (batch, S)  source token IDs\n",
        "          src_seq_lens: (batch,)    true lengths of each source\n",
        "          tgt_ids:      (batch, T)  target token IDs (for teacher forcing)\n",
        "          tgt_seq_lens: (batch,)    true lengths of each target\n",
        "          training:     bool        Keras training flag\n",
        "        Returns:\n",
        "          dec_outputs:  (batch, T, vocab_size)  un‐normalized logits\n",
        "        \"\"\"\n",
        "        #  build boolean masks from lengths\n",
        "        src_mask = tf.sequence_mask(src_seq_lens,\n",
        "                                    maxlen=tf.shape(src_ids)[1])\n",
        "        tgt_mask = tf.sequence_mask(tgt_seq_lens,\n",
        "                                    maxlen=tf.shape(tgt_ids)[1])\n",
        "\n",
        "        #  encoder → outputs + final state\n",
        "        _, enc_final_state = self.encoder(\n",
        "            src_ids,\n",
        "            src_mask=src_mask,\n",
        "            training=training\n",
        "        )\n",
        "\n",
        "        #  decoder (teacher forcing) → logits\n",
        "        dec_outputs = self.decoder(\n",
        "            tgt_ids,\n",
        "            initial_state=enc_final_state,\n",
        "            tgt_mask=tgt_mask,\n",
        "            training=training\n",
        "        )\n",
        "\n",
        "        return dec_outputs"
      ],
      "metadata": {
        "id": "F6-j33LKfluA"
      },
      "id": "F6-j33LKfluA",
      "execution_count": 77,
      "outputs": []
    },
    {
      "cell_type": "markdown",
      "id": "wLQ4cvCrZWz0",
      "metadata": {
        "id": "wLQ4cvCrZWz0"
      },
      "source": [
        "### 2.4 Seq2seq loss (5 Points)"
      ]
    },
    {
      "cell_type": "code",
      "execution_count": 78,
      "id": "30fzY26OZWz0",
      "metadata": {
        "id": "30fzY26OZWz0"
      },
      "outputs": [],
      "source": [
        "def seq2seq_loss(logits, target, seq_lens):\n",
        "    logits = tf.cast(logits, tf.float32)\n",
        "    mask = tf.sequence_mask(seq_lens, maxlen=tf.shape(target)[1], dtype=tf.float32)\n",
        "\n",
        "    loss_per_timestep = tf.nn.sparse_softmax_cross_entropy_with_logits(\n",
        "        labels=target,\n",
        "        logits=logits\n",
        "    )\n",
        "\n",
        "    masked_loss = loss_per_timestep * mask\n",
        "    return tf.reduce_sum(masked_loss) / tf.reduce_sum(mask)\n"
      ]
    },
    {
      "cell_type": "markdown",
      "id": "ziP4G6okZWz0",
      "metadata": {
        "id": "ziP4G6okZWz0"
      },
      "source": [
        "## 3. Training (50 Points)"
      ]
    },
    {
      "cell_type": "markdown",
      "id": "NoBsZBsGZWz0",
      "metadata": {
        "id": "NoBsZBsGZWz0"
      },
      "source": [
        "### 3.1 Pad batch (15 Points)\n",
        "\n",
        "`pad_src_batch`: 5 Points\n",
        "`pad_tgt_batch`: 10 Points\n",
        "\n",
        "Pad the batch to the equal length and make tensors."
      ]
    },
    {
      "cell_type": "code",
      "execution_count": 79,
      "id": "WAOGp7P1ZWz0",
      "metadata": {
        "id": "WAOGp7P1ZWz0"
      },
      "outputs": [],
      "source": [
        "import tensorflow as tf\n",
        "from typing import List\n",
        "\n",
        "def pad_src_batch(src_batch: List[List[int]], src_seq_lens: List[int], pad_val: int):\n",
        "    \"\"\" Pad the batch for src sentences. \"\"\"\n",
        "    max_src_len = max(src_seq_lens)\n",
        "\n",
        "    # Start your code here\n",
        "    padded_batch = [\n",
        "        sentence + [pad_val] * (max_src_len - len(sentence))\n",
        "        for sentence in src_batch\n",
        "    ]\n",
        "\n",
        "    src_batch = tf.convert_to_tensor(padded_batch, dtype=tf.int64)\n",
        "    src_seq_lens_batch = tf.convert_to_tensor(src_seq_lens, dtype=tf.int64)\n",
        "    # End\n",
        "\n",
        "    return src_batch, src_seq_lens_batch\n"
      ]
    },
    {
      "cell_type": "code",
      "execution_count": 80,
      "id": "fmPiivqBZWz0",
      "metadata": {
        "id": "fmPiivqBZWz0"
      },
      "outputs": [],
      "source": [
        "import tensorflow as tf\n",
        "from typing import List\n",
        "\n",
        "def pad_tgt_batch(tgt_batch: List[List[int]], tgt_seq_lens: List[int], pad_val: int):\n",
        "    \"\"\" Pad the batch for tgt sentences. \"\"\"\n",
        "    tgt_x_batch, tgt_y_batch, tgt_seq_lens_batch = [], [], []\n",
        "\n",
        "    for sent, seq_len in zip(tgt_batch, tgt_seq_lens):\n",
        "        # Start your code here\n",
        "        # x: all tokens except the last\n",
        "        # y: all tokens except the first\n",
        "        x = sent[:-1]\n",
        "        y = sent[1:]\n",
        "        tgt_seq_lens_batch.append(len(x))\n",
        "        tgt_x_batch.append(x)\n",
        "        tgt_y_batch.append(y)\n",
        "        # End\n",
        "\n",
        "    max_tgt_len = max(tgt_seq_lens_batch)\n",
        "\n",
        "    # Start your code here\n",
        "    # Pad x and y to max_tgt_len\n",
        "    padded_x = [x + [pad_val] * (max_tgt_len - len(x)) for x in tgt_x_batch]\n",
        "    padded_y = [y + [pad_val] * (max_tgt_len - len(y)) for y in tgt_y_batch]\n",
        "\n",
        "    tgt_x_batch = tf.convert_to_tensor(padded_x, dtype=tf.int64)\n",
        "    tgt_y_batch = tf.convert_to_tensor(padded_y, dtype=tf.int64)\n",
        "    tgt_seq_lens_batch = tf.convert_to_tensor(tgt_seq_lens_batch, dtype=tf.int64)\n",
        "    # End\n",
        "\n",
        "    return tgt_x_batch, tgt_y_batch, tgt_seq_lens_batch\n"
      ]
    },
    {
      "cell_type": "code",
      "execution_count": 81,
      "id": "KIUS8EpnZWz0",
      "metadata": {
        "id": "KIUS8EpnZWz0"
      },
      "outputs": [],
      "source": [
        "def pad_batch(src_batch: List[List[int]], src_seq_lens: List[int], tgt_batch: List[List[int]], tgt_seq_lens: List[int], pad_val: int):\n",
        "    src_batch, src_seq_lens_batch = pad_src_batch(src_batch, src_seq_lens, pad_val)\n",
        "    tgt_x_batch, tgt_y_batch, tgt_seq_lens_batch = pad_tgt_batch(tgt_batch, tgt_seq_lens, pad_val)\n",
        "    return src_batch, src_seq_lens_batch, tgt_x_batch, tgt_y_batch, tgt_seq_lens_batch"
      ]
    },
    {
      "cell_type": "markdown",
      "id": "K4ojJPGsZWz1",
      "metadata": {
        "id": "K4ojJPGsZWz1"
      },
      "source": [
        "### 3.2 Batch Index Sampler (10 Points)\n",
        "\n",
        "Create a index sampler to sample data index for each batch.\n",
        "\n",
        "This is to make the sentences in each batch have similar lengths to speed up training.\n",
        "\n",
        "Example:\n",
        "```\n",
        "Assume the sentence lengths are: [5, 2, 3, 6, 2, 3, 6] and batch_size is 2.\n",
        "We can make the indices in the batches as follows:\n",
        "[1, 4] of length 2\n",
        "[2, 5] of length 3\n",
        "[0, 3] of lengths 5 and 6\n",
        "[6] of length 6\n",
        "```"
      ]
    },
    {
      "cell_type": "code",
      "execution_count": 82,
      "id": "8Vx6vUnEZWz1",
      "metadata": {
        "id": "8Vx6vUnEZWz1"
      },
      "outputs": [],
      "source": [
        "import numpy as np\n",
        "from typing import List\n",
        "\n",
        "class SeqLenBatchSampler:\n",
        "    def __init__(self, seq_lens: List[int], batch_size: int, seed: int = 6666):\n",
        "        np.random.seed(seed)\n",
        "        self.seq_lens = seq_lens\n",
        "        self.batch_size = batch_size\n",
        "        self.batches = self._make_batch_index()\n",
        "\n",
        "        self.n_batch = len(self.batches)\n",
        "        self.counter = -1\n",
        "\n",
        "    def _make_batch_index(self) -> List[List[int]]:\n",
        "        \"\"\" Build the indexes in each batch. \"\"\"\n",
        "        n = len(self.seq_lens)\n",
        "        n_batch = int(np.ceil(n / self.batch_size))\n",
        "        batches = []\n",
        "\n",
        "        # Start your code here\n",
        "        sorted_indices = np.argsort(self.seq_lens)\n",
        "        for i in range(n_batch):\n",
        "            start = i * self.batch_size\n",
        "            end = start + self.batch_size\n",
        "            batch = sorted_indices[start:end].tolist()\n",
        "            batches.append(batch)\n",
        "        # End\n",
        "\n",
        "        return batches\n",
        "\n",
        "    def __len__(self):\n",
        "        return self.n_batch\n",
        "\n",
        "    def __getitem__(self, index):\n",
        "        return self.batches[index]\n",
        "\n",
        "    def __iter__(self):\n",
        "        np.random.shuffle(self.batches)\n",
        "        self.counter = -1\n",
        "        return self\n",
        "\n",
        "    def __next__(self):\n",
        "        self.counter += 1\n",
        "        if self.counter < self.n_batch:\n",
        "            return self.batches[self.counter]\n",
        "        raise StopIteration\n"
      ]
    },
    {
      "cell_type": "markdown",
      "id": "tWD0AMaIZWz1",
      "metadata": {
        "id": "tWD0AMaIZWz1"
      },
      "source": [
        "### 3.3 Running the model"
      ]
    },
    {
      "cell_type": "markdown",
      "id": "qirF3YwWZWz1",
      "metadata": {
        "id": "qirF3YwWZWz1"
      },
      "source": [
        "Generate the length"
      ]
    },
    {
      "cell_type": "code",
      "execution_count": 84,
      "id": "bGeQWgLBZW0C",
      "metadata": {
        "id": "bGeQWgLBZW0C"
      },
      "outputs": [],
      "source": [
        "np.random.seed(6666)\n",
        "train_seq_lens_en = [len(en_sent) for en_sent in train_en]\n",
        "train_seq_lens_fr = [len(fr_sent) for fr_sent in train_fr]\n",
        "valid_seq_lens_en = [len(en_sent) for en_sent in valid_en]\n",
        "valid_seq_lens_fr = [len(fr_sent) for fr_sent in valid_fr]\n",
        "test_seq_lens_en = [len(en_sent) for en_sent in test_en]\n",
        "test_seq_lens_fr = [len(fr_sent) for fr_sent in test_fr]"
      ]
    },
    {
      "cell_type": "markdown",
      "id": "soeVMAsGZW0C",
      "metadata": {
        "id": "soeVMAsGZW0C"
      },
      "source": [
        "Create np array"
      ]
    },
    {
      "cell_type": "code",
      "execution_count": 85,
      "id": "bWu6b2avZW0C",
      "metadata": {
        "id": "bWu6b2avZW0C"
      },
      "outputs": [],
      "source": [
        "train_en = np.array(train_en, dtype=object)\n",
        "train_seq_lens_en = np.array(train_seq_lens_en)\n",
        "train_fr = np.array(train_fr, dtype=object)\n",
        "train_seq_lens_fr = np.array(train_seq_lens_fr)"
      ]
    },
    {
      "cell_type": "markdown",
      "id": "5Kuh-JHpZW0C",
      "metadata": {
        "id": "5Kuh-JHpZW0C"
      },
      "source": [
        "Model parameters"
      ]
    },
    {
      "cell_type": "code",
      "execution_count": 92,
      "id": "qZtNBjf0ZW0C",
      "metadata": {
        "id": "qZtNBjf0ZW0C"
      },
      "outputs": [],
      "source": [
        "import random\n",
        "\n",
        "\n",
        "seed = 6666\n",
        "random.seed(seed)\n",
        "np.random.seed(seed)\n",
        "tf.random.set_seed(seed)"
      ]
    },
    {
      "cell_type": "code",
      "execution_count": 91,
      "id": "yJS_aiaFZW0C",
      "metadata": {
        "id": "yJS_aiaFZW0C"
      },
      "outputs": [],
      "source": [
        "src_vocab_size = len(fr_tokenizer.get_vocab())\n",
        "tgt_vocab_size = len(en_tokenizer.get_vocab())\n",
        "hidden_units = 256\n",
        "embedding_dim = 128\n",
        "dropout_rate = 0.3"
      ]
    },
    {
      "cell_type": "code",
      "execution_count": 30,
      "id": "-YcOFXVMZW0C",
      "metadata": {
        "id": "-YcOFXVMZW0C"
      },
      "outputs": [],
      "source": [
        "model = AttnSeq2seq(src_vocab_size, tgt_vocab_size, embedding_dim, hidden_units, dropout_rate)"
      ]
    },
    {
      "cell_type": "code",
      "source": [
        "model = Seq2seq(src_vocab_size, tgt_vocab_size, embedding_dim, hidden_units, dropout_rate)"
      ],
      "metadata": {
        "id": "EGaiOpH3fnkJ"
      },
      "id": "EGaiOpH3fnkJ",
      "execution_count": 89,
      "outputs": []
    },
    {
      "cell_type": "code",
      "execution_count": 93,
      "id": "7PLlicG3ZW0C",
      "metadata": {
        "id": "7PLlicG3ZW0C"
      },
      "outputs": [],
      "source": [
        "num_epoch = 15\n",
        "batch_size = 128\n",
        "learning_rate = 1e-3"
      ]
    },
    {
      "cell_type": "code",
      "source": [
        "optimizer = tf.keras.optimizers.Adam(learning_rate=learning_rate)\n",
        "train_batch_sampler = SeqLenBatchSampler(train_seq_lens_fr, batch_size)"
      ],
      "metadata": {
        "id": "ukCEuQabigOl"
      },
      "id": "ukCEuQabigOl",
      "execution_count": 94,
      "outputs": []
    },
    {
      "cell_type": "code",
      "source": [
        "\n",
        "\n",
        "\n",
        "pad_token_id = fr_tokenizer.token_to_id('<pad>')\n",
        "\n",
        "train_losses, valid_losses = [], []\n",
        "train_batch_limit   = 350\n",
        "\n",
        "for epoch in range(1, num_epoch + 1):\n",
        "    # TRAIN\n",
        "    epoch_loss   = 0.0\n",
        "    seen_train   = 0\n",
        "\n",
        "    for batch_idx, data_index in enumerate(train_batch_sampler):\n",
        "        if batch_idx >= train_batch_limit:\n",
        "            break\n",
        "\n",
        "        # fetch & pad\n",
        "        src_batch, src_lens = train_fr[data_index],     train_seq_lens_fr[data_index]\n",
        "        tgt_batch, tgt_lens = train_en[data_index],     train_seq_lens_en[data_index]\n",
        "        real_bs = len(src_batch)\n",
        "        seen_train += real_bs\n",
        "\n",
        "        (src_batch, src_lens,\n",
        "         tgt_x, tgt_y, tgt_lens) = pad_batch(\n",
        "             src_batch, src_lens,\n",
        "             tgt_batch, tgt_lens,\n",
        "             pad_val=pad_token_id\n",
        "        )\n",
        "\n",
        "        # forward + backward\n",
        "        with tf.GradientTape() as tape:\n",
        "            logits = model(src_batch, src_lens, tgt_x, tgt_lens, training=True)\n",
        "            loss   = seq2seq_loss(logits, tgt_y, tgt_lens)\n",
        "\n",
        "        grads = tape.gradient(loss, model.trainable_variables)\n",
        "        optimizer.apply_gradients(zip(grads, model.trainable_variables))\n",
        "\n",
        "        print_line(f'Epoch {epoch} ➤ train batch {batch_idx+1}  loss: {loss:.4f}')\n",
        "        epoch_loss += loss * real_bs\n",
        "\n",
        "    train_epoch_loss = epoch_loss / seen_train\n",
        "    train_losses.append(train_epoch_loss)\n",
        "\n",
        "    # VALIDATE\n",
        "    n_valid_batches    = int(np.ceil(len(valid_fr) / batch_size))\n",
        "    half_valid_batches = n_valid_batches // 2\n",
        "\n",
        "    valid_loss  = 0.0\n",
        "    seen_valid  = 0\n",
        "\n",
        "    for batch_idx in range(half_valid_batches):\n",
        "        start = batch_idx * batch_size\n",
        "        end   = start + batch_size\n",
        "\n",
        "        src_batch, src_lens = valid_fr[start:end], valid_seq_lens_fr[start:end]\n",
        "        tgt_batch, tgt_lens = valid_en[start:end], valid_seq_lens_en[start:end]\n",
        "        real_bs = len(src_batch)\n",
        "        seen_valid += real_bs\n",
        "\n",
        "        (src_batch, src_lens,\n",
        "         tgt_x, tgt_y, tgt_lens) = pad_batch(\n",
        "             src_batch, src_lens,\n",
        "             tgt_batch, tgt_lens,\n",
        "             pad_val=pad_token_id\n",
        "        )\n",
        "\n",
        "        logits = model(src_batch, src_lens, tgt_x, tgt_lens, training=False)\n",
        "        loss   = seq2seq_loss(logits, tgt_y, tgt_lens)\n",
        "\n",
        "        print_line(f'Epoch {epoch} ➤ valid batch {batch_idx+1}  loss: {loss:.4f}')\n",
        "        valid_loss += loss * real_bs\n",
        "\n",
        "    valid_epoch_loss = valid_loss / seen_valid\n",
        "    valid_losses.append(valid_epoch_loss)\n",
        "\n",
        "    #  epoch summary\n",
        "    print(f\"\\rEpoch {epoch}/{num_epoch}  \"\n",
        "          f\"train loss: {train_epoch_loss:.4f}  \"\n",
        "          f\"valid loss: {valid_epoch_loss:.4f}\")\n",
        "\n",
        "\n"
      ],
      "metadata": {
        "colab": {
          "base_uri": "https://localhost:8080/"
        },
        "id": "oC3OGyoafaf6",
        "outputId": "21c79bbf-ab1b-41b0-9d0b-76eeede97644"
      },
      "id": "oC3OGyoafaf6",
      "execution_count": 99,
      "outputs": [
        {
          "output_type": "stream",
          "name": "stdout",
          "text": [
            "Epoch 1/15  train loss: 4.7328  valid loss: 5.2096\n",
            "Epoch 2/15  train loss: 4.6400  valid loss: 5.1709\n",
            "Epoch 3/15  train loss: 4.5607  valid loss: 5.1018\n",
            "Epoch 4/15  train loss: 4.5007  valid loss: 5.0697\n",
            "Epoch 5/15  train loss: 4.4323  valid loss: 5.0301\n",
            "Epoch 6/15  train loss: 4.3984  valid loss: 4.9870\n",
            "Epoch 7/15  train loss: 4.3665  valid loss: 4.9852\n",
            "Epoch 8/15  train loss: 4.3658  valid loss: 4.9575\n",
            "Epoch 9/15  train loss: 4.2921  valid loss: 4.9182\n",
            "Epoch 10/15  train loss: 4.2796  valid loss: 4.8995\n",
            "Epoch 11/15  train loss: 4.2740  valid loss: 4.8771\n",
            "Epoch 12/15  train loss: 4.2380  valid loss: 4.8475\n",
            "Epoch 13/15  train loss: 4.2258  valid loss: 4.8622\n",
            "Epoch 14/15  train loss: 4.2102  valid loss: 4.8532\n",
            "Epoch 15/15  train loss: 4.2167  valid loss: 4.8396\n"
          ]
        }
      ]
    },
    {
      "cell_type": "markdown",
      "id": "darfS_M1ZW0D",
      "metadata": {
        "id": "darfS_M1ZW0D"
      },
      "source": [
        "If you implement everything correctly, the valid loss will be around 4."
      ]
    },
    {
      "cell_type": "code",
      "source": [
        "model.summary(expand_nested=True)"
      ],
      "metadata": {
        "colab": {
          "base_uri": "https://localhost:8080/",
          "height": 430
        },
        "id": "D3tUXBi7s2Vx",
        "outputId": "e8354f10-9100-45ed-fb46-18db47df5ef7"
      },
      "id": "D3tUXBi7s2Vx",
      "execution_count": 100,
      "outputs": [
        {
          "output_type": "display_data",
          "data": {
            "text/plain": [
              "\u001b[1mModel: \"seq2seq_1\"\u001b[0m\n"
            ],
            "text/html": [
              "<pre style=\"white-space:pre;overflow-x:auto;line-height:normal;font-family:Menlo,'DejaVu Sans Mono',consolas,'Courier New',monospace\"><span style=\"font-weight: bold\">Model: \"seq2seq_1\"</span>\n",
              "</pre>\n"
            ]
          },
          "metadata": {}
        },
        {
          "output_type": "display_data",
          "data": {
            "text/plain": [
              "┏━━━━━━━━━━━━━━━━━━━━━━━━━━━━━━━━━┳━━━━━━━━━━━━━━━━━━━━━━━━┳━━━━━━━━━━━━━━━┓\n",
              "┃\u001b[1m \u001b[0m\u001b[1mLayer (type)                   \u001b[0m\u001b[1m \u001b[0m┃\u001b[1m \u001b[0m\u001b[1mOutput Shape          \u001b[0m\u001b[1m \u001b[0m┃\u001b[1m \u001b[0m\u001b[1m      Param #\u001b[0m\u001b[1m \u001b[0m┃\n",
              "┡━━━━━━━━━━━━━━━━━━━━━━━━━━━━━━━━━╇━━━━━━━━━━━━━━━━━━━━━━━━╇━━━━━━━━━━━━━━━┩\n",
              "│ encoder_5 (\u001b[38;5;33mEncoder\u001b[0m)             │ ?                      │     \u001b[38;5;34m1,576,448\u001b[0m │\n",
              "├─────────────────────────────────┼────────────────────────┼───────────────┤\n",
              "│    └ embedding_7 (\u001b[38;5;33mEmbedding\u001b[0m)    │ (\u001b[38;5;34m128\u001b[0m, \u001b[38;5;34m23\u001b[0m, \u001b[38;5;34m128\u001b[0m)         │     \u001b[38;5;34m1,280,000\u001b[0m │\n",
              "├─────────────────────────────────┼────────────────────────┼───────────────┤\n",
              "│    └ gru_6 (\u001b[38;5;33mGRU\u001b[0m)                │ ((\u001b[38;5;34m128\u001b[0m, \u001b[38;5;34m23\u001b[0m, \u001b[38;5;34m256\u001b[0m), (\u001b[38;5;34m128\u001b[0m, │       \u001b[38;5;34m296,448\u001b[0m │\n",
              "│                                 │ \u001b[38;5;34m256\u001b[0m))                  │               │\n",
              "├─────────────────────────────────┼────────────────────────┼───────────────┤\n",
              "│ decoder_1 (\u001b[38;5;33mDecoder\u001b[0m)             │ ?                      │     \u001b[38;5;34m4,146,448\u001b[0m │\n",
              "├─────────────────────────────────┼────────────────────────┼───────────────┤\n",
              "│    └ embedding_8 (\u001b[38;5;33mEmbedding\u001b[0m)    │ (\u001b[38;5;34m128\u001b[0m, \u001b[38;5;34m27\u001b[0m, \u001b[38;5;34m128\u001b[0m)         │     \u001b[38;5;34m1,280,000\u001b[0m │\n",
              "├─────────────────────────────────┼────────────────────────┼───────────────┤\n",
              "│    └ gru_7 (\u001b[38;5;33mGRU\u001b[0m)                │ ((\u001b[38;5;34m128\u001b[0m, \u001b[38;5;34m27\u001b[0m, \u001b[38;5;34m256\u001b[0m), (\u001b[38;5;34m128\u001b[0m, │       \u001b[38;5;34m296,448\u001b[0m │\n",
              "│                                 │ \u001b[38;5;34m256\u001b[0m))                  │               │\n",
              "├─────────────────────────────────┼────────────────────────┼───────────────┤\n",
              "│    └ dropout_2 (\u001b[38;5;33mDropout\u001b[0m)        │ ?                      │             \u001b[38;5;34m0\u001b[0m │\n",
              "├─────────────────────────────────┼────────────────────────┼───────────────┤\n",
              "│    └ dense_4 (\u001b[38;5;33mDense\u001b[0m)            │ (\u001b[38;5;34m128\u001b[0m, \u001b[38;5;34m27\u001b[0m, \u001b[38;5;34m10000\u001b[0m)       │     \u001b[38;5;34m2,570,000\u001b[0m │\n",
              "└─────────────────────────────────┴────────────────────────┴───────────────┘\n"
            ],
            "text/html": [
              "<pre style=\"white-space:pre;overflow-x:auto;line-height:normal;font-family:Menlo,'DejaVu Sans Mono',consolas,'Courier New',monospace\">┏━━━━━━━━━━━━━━━━━━━━━━━━━━━━━━━━━┳━━━━━━━━━━━━━━━━━━━━━━━━┳━━━━━━━━━━━━━━━┓\n",
              "┃<span style=\"font-weight: bold\"> Layer (type)                    </span>┃<span style=\"font-weight: bold\"> Output Shape           </span>┃<span style=\"font-weight: bold\">       Param # </span>┃\n",
              "┡━━━━━━━━━━━━━━━━━━━━━━━━━━━━━━━━━╇━━━━━━━━━━━━━━━━━━━━━━━━╇━━━━━━━━━━━━━━━┩\n",
              "│ encoder_5 (<span style=\"color: #0087ff; text-decoration-color: #0087ff\">Encoder</span>)             │ ?                      │     <span style=\"color: #00af00; text-decoration-color: #00af00\">1,576,448</span> │\n",
              "├─────────────────────────────────┼────────────────────────┼───────────────┤\n",
              "│    └ embedding_7 (<span style=\"color: #0087ff; text-decoration-color: #0087ff\">Embedding</span>)    │ (<span style=\"color: #00af00; text-decoration-color: #00af00\">128</span>, <span style=\"color: #00af00; text-decoration-color: #00af00\">23</span>, <span style=\"color: #00af00; text-decoration-color: #00af00\">128</span>)         │     <span style=\"color: #00af00; text-decoration-color: #00af00\">1,280,000</span> │\n",
              "├─────────────────────────────────┼────────────────────────┼───────────────┤\n",
              "│    └ gru_6 (<span style=\"color: #0087ff; text-decoration-color: #0087ff\">GRU</span>)                │ ((<span style=\"color: #00af00; text-decoration-color: #00af00\">128</span>, <span style=\"color: #00af00; text-decoration-color: #00af00\">23</span>, <span style=\"color: #00af00; text-decoration-color: #00af00\">256</span>), (<span style=\"color: #00af00; text-decoration-color: #00af00\">128</span>, │       <span style=\"color: #00af00; text-decoration-color: #00af00\">296,448</span> │\n",
              "│                                 │ <span style=\"color: #00af00; text-decoration-color: #00af00\">256</span>))                  │               │\n",
              "├─────────────────────────────────┼────────────────────────┼───────────────┤\n",
              "│ decoder_1 (<span style=\"color: #0087ff; text-decoration-color: #0087ff\">Decoder</span>)             │ ?                      │     <span style=\"color: #00af00; text-decoration-color: #00af00\">4,146,448</span> │\n",
              "├─────────────────────────────────┼────────────────────────┼───────────────┤\n",
              "│    └ embedding_8 (<span style=\"color: #0087ff; text-decoration-color: #0087ff\">Embedding</span>)    │ (<span style=\"color: #00af00; text-decoration-color: #00af00\">128</span>, <span style=\"color: #00af00; text-decoration-color: #00af00\">27</span>, <span style=\"color: #00af00; text-decoration-color: #00af00\">128</span>)         │     <span style=\"color: #00af00; text-decoration-color: #00af00\">1,280,000</span> │\n",
              "├─────────────────────────────────┼────────────────────────┼───────────────┤\n",
              "│    └ gru_7 (<span style=\"color: #0087ff; text-decoration-color: #0087ff\">GRU</span>)                │ ((<span style=\"color: #00af00; text-decoration-color: #00af00\">128</span>, <span style=\"color: #00af00; text-decoration-color: #00af00\">27</span>, <span style=\"color: #00af00; text-decoration-color: #00af00\">256</span>), (<span style=\"color: #00af00; text-decoration-color: #00af00\">128</span>, │       <span style=\"color: #00af00; text-decoration-color: #00af00\">296,448</span> │\n",
              "│                                 │ <span style=\"color: #00af00; text-decoration-color: #00af00\">256</span>))                  │               │\n",
              "├─────────────────────────────────┼────────────────────────┼───────────────┤\n",
              "│    └ dropout_2 (<span style=\"color: #0087ff; text-decoration-color: #0087ff\">Dropout</span>)        │ ?                      │             <span style=\"color: #00af00; text-decoration-color: #00af00\">0</span> │\n",
              "├─────────────────────────────────┼────────────────────────┼───────────────┤\n",
              "│    └ dense_4 (<span style=\"color: #0087ff; text-decoration-color: #0087ff\">Dense</span>)            │ (<span style=\"color: #00af00; text-decoration-color: #00af00\">128</span>, <span style=\"color: #00af00; text-decoration-color: #00af00\">27</span>, <span style=\"color: #00af00; text-decoration-color: #00af00\">10000</span>)       │     <span style=\"color: #00af00; text-decoration-color: #00af00\">2,570,000</span> │\n",
              "└─────────────────────────────────┴────────────────────────┴───────────────┘\n",
              "</pre>\n"
            ]
          },
          "metadata": {}
        },
        {
          "output_type": "display_data",
          "data": {
            "text/plain": [
              "\u001b[1m Total params: \u001b[0m\u001b[38;5;34m5,722,896\u001b[0m (21.83 MB)\n"
            ],
            "text/html": [
              "<pre style=\"white-space:pre;overflow-x:auto;line-height:normal;font-family:Menlo,'DejaVu Sans Mono',consolas,'Courier New',monospace\"><span style=\"font-weight: bold\"> Total params: </span><span style=\"color: #00af00; text-decoration-color: #00af00\">5,722,896</span> (21.83 MB)\n",
              "</pre>\n"
            ]
          },
          "metadata": {}
        },
        {
          "output_type": "display_data",
          "data": {
            "text/plain": [
              "\u001b[1m Trainable params: \u001b[0m\u001b[38;5;34m5,722,896\u001b[0m (21.83 MB)\n"
            ],
            "text/html": [
              "<pre style=\"white-space:pre;overflow-x:auto;line-height:normal;font-family:Menlo,'DejaVu Sans Mono',consolas,'Courier New',monospace\"><span style=\"font-weight: bold\"> Trainable params: </span><span style=\"color: #00af00; text-decoration-color: #00af00\">5,722,896</span> (21.83 MB)\n",
              "</pre>\n"
            ]
          },
          "metadata": {}
        },
        {
          "output_type": "display_data",
          "data": {
            "text/plain": [
              "\u001b[1m Non-trainable params: \u001b[0m\u001b[38;5;34m0\u001b[0m (0.00 B)\n"
            ],
            "text/html": [
              "<pre style=\"white-space:pre;overflow-x:auto;line-height:normal;font-family:Menlo,'DejaVu Sans Mono',consolas,'Courier New',monospace\"><span style=\"font-weight: bold\"> Non-trainable params: </span><span style=\"color: #00af00; text-decoration-color: #00af00\">0</span> (0.00 B)\n",
              "</pre>\n"
            ]
          },
          "metadata": {}
        }
      ]
    },
    {
      "cell_type": "code",
      "source": [
        "%matplotlib inline\n",
        "from matplotlib import pyplot as plt\n",
        "\n",
        "\n",
        "x = np.arange(1, len(train_losses) + 1)\n",
        "plt.plot(x, train_losses, label='Train loss')\n",
        "plt.plot(x, valid_losses, label='Valid loss')\n",
        "plt.legend()\n",
        "plt.ylabel('Loss')\n",
        "plt.xlabel('Epoch')\n",
        "plt.xticks(x)\n",
        "plt.show()"
      ],
      "metadata": {
        "colab": {
          "base_uri": "https://localhost:8080/",
          "height": 449
        },
        "id": "LpLiueXIs2bc",
        "outputId": "c3a543df-64b4-421d-9cef-26b572de9bc9"
      },
      "id": "LpLiueXIs2bc",
      "execution_count": 101,
      "outputs": [
        {
          "output_type": "display_data",
          "data": {
            "text/plain": [
              "<Figure size 640x480 with 1 Axes>"
            ],
            "image/png": "[encoded data removed]"
          },
          "metadata": {}
        }
      ]
    },
    {
      "cell_type": "markdown",
      "id": "HZ3J5XZYZW0D",
      "metadata": {
        "id": "HZ3J5XZYZW0D"
      },
      "source": [
        "### 3.4 Translate French to English (15 Points)"
      ]
    },
    {
      "cell_type": "code",
      "source": [
        "def translate(encoder, decoder, fr_sentences, max_pred_len=50):\n",
        "    sos_token_id = en_tokenizer.token_to_id('<s>')\n",
        "    eos_token_id = en_tokenizer.token_to_id('</s>')\n",
        "    batch_size   = len(fr_sentences)\n",
        "\n",
        "    # pad and mask your French inputs\n",
        "    src_seq_lens = [len(s) for s in fr_sentences]\n",
        "    max_src_len  = max(src_seq_lens)\n",
        "    src_padded   = [s + [0]*(max_src_len-len(s)) for s in fr_sentences]\n",
        "    src_tensor   = tf.constant(src_padded, dtype=tf.int64)\n",
        "    src_mask     = tf.sequence_mask(src_seq_lens, maxlen=max_src_len, dtype=tf.bool)\n",
        "\n",
        "    # encode\n",
        "    enc_outputs, enc_states = encoder(src_tensor, src_mask)\n",
        "    dec_state = enc_states if isinstance(enc_states, tf.Tensor) else enc_states[0]\n",
        "\n",
        "    # bootstrap the decoder\n",
        "    dec_input = tf.fill([batch_size], sos_token_id)\n",
        "    finished = tf.zeros([batch_size], dtype=tf.bool)\n",
        "    pred_ids = [[] for _ in range(batch_size)]\n",
        "\n",
        "    for _ in range(max_pred_len):\n",
        "        # ← use the predict() API\n",
        "        logits, dec_state = decoder.predict(dec_input, dec_state)\n",
        "        next_ids = tf.argmax(logits, axis=-1).numpy()\n",
        "\n",
        "        for i, nid in enumerate(next_ids):\n",
        "            if not finished[i]:\n",
        "                if nid == eos_token_id:\n",
        "                    finished = tf.tensor_scatter_nd_update(finished, [[i]], [True])\n",
        "                else:\n",
        "                    pred_ids[i].append(int(nid))\n",
        "\n",
        "        if tf.reduce_all(finished):\n",
        "            break\n",
        "\n",
        "        dec_input = tf.constant(next_ids, dtype=tf.int64)\n",
        "\n",
        "    return [en_tokenizer.decode(ids, skip_special_tokens=True)\n",
        "            for ids in pred_ids]\n",
        "\n"
      ],
      "metadata": {
        "id": "vU81WDl-s2gJ"
      },
      "id": "vU81WDl-s2gJ",
      "execution_count": 107,
      "outputs": []
    },
    {
      "cell_type": "code",
      "source": [
        "test_pred = translate(model.encoder, model.decoder, test_fr)"
      ],
      "metadata": {
        "id": "KaF35T2mz0Dq"
      },
      "id": "KaF35T2mz0Dq",
      "execution_count": 113,
      "outputs": []
    },
    {
      "cell_type": "markdown",
      "id": "uEtiL8XgZW0D",
      "metadata": {
        "id": "uEtiL8XgZW0D"
      },
      "source": [
        "### 3.5 Demonstrate 10 translation examples (5 Points)"
      ]
    },
    {
      "cell_type": "code",
      "source": [
        "np.random.seed(6666)\n",
        "sample_num_1 = 10\n",
        "\n",
        "# Randomly sample 10 indices without replacement\n",
        "ind = np.random.choice(len(test_fr), size=sample_num_1, replace=False)\n",
        "\n",
        "for i, idx in enumerate(ind, 1):\n",
        "    fr_text_1 = fr_tokenizer.decode(test_fr[idx], skip_special_tokens=True)\n",
        "    true_en_2 = en_tokenizer.decode(test_en[idx], skip_special_tokens=True)\n",
        "    pred_en_3 = test_pred[idx]\n",
        "\n",
        "    print(f\"{i}.\")\n",
        "    print(f\"French: {fr_text_1}\")\n",
        "    print(f\"True English: {true_en_2}\")\n",
        "    print(f\"Translated English: {pred_en_3}\")\n",
        "    print(\"-\" * 50)"
      ],
      "metadata": {
        "colab": {
          "base_uri": "https://localhost:8080/"
        },
        "id": "G00U7t1Y2CwN",
        "outputId": "72987141-10dd-4323-d13d-9d2e7b03a46d"
      },
      "id": "G00U7t1Y2CwN",
      "execution_count": 116,
      "outputs": [
        {
          "output_type": "stream",
          "name": "stdout",
          "text": [
            "1.\n",
            "French:  les bonnes équipes envoient ces informations de façon à ce que les joueurs puissent s'en servir.\n",
            "True English:  the good teams stream it in a way that the players can use.\n",
            "Translated English:  and i think that's a very important thing that we can do with the future of the world, and we can do it with a lot of people.\n",
            "--------------------------------------------------\n",
            "2.\n",
            "French:  merci.\n",
            "True English:  thank you.\n",
            "Translated English:  and i think that's a very important thing that we can do with the future of the world, and we can do it with a lot of people.\n",
            "--------------------------------------------------\n",
            "3.\n",
            "French:  il y a eu plusieurs cas où c'était vraiment juste.\n",
            "True English:  there have been several close calls.\n",
            "Translated English:  and i think that's a very important thing that we can do with the future of the world, and we can do it with a lot of people.\n",
            "--------------------------------------------------\n",
            "4.\n",
            "French:  mes prières vous accompagnent dans votre combat.\n",
            "True English:  my prayers are with you for your fight.\n",
            "Translated English:  and i think that's a very important thing that we can do with the future of the world, and we can do it with a lot of people.\n",
            "--------------------------------------------------\n",
            "5.\n",
            "French:  et la question était : comment la technologie pourrait, les nouvelles technologies, y être ajoutée ?\n",
            "True English:  and the question was: how could technology, new technology,  be added to that?\n",
            "Translated English:  and i think that's a very important thing that we can do with the future of the world, and we can do it with a lot of people.\n",
            "--------------------------------------------------\n",
            "6.\n",
            "French:  combien d'entre vous ont vu l'ordinateur watson d'ibm gagner à jeopardy ?\n",
            "True English:  i mean, how many of you saw the winning of jeopardy  by ibm's watson?\n",
            "Translated English:  and i think that's a very important thing that we can do with the future of the world, and we can do it with a lot of people.\n",
            "--------------------------------------------------\n",
            "7.\n",
            "French:  j'ai travaillé dans une mine de charbon -- dangereux.\n",
            "True English:  i worked in a coal mine --  dangerous.\n",
            "Translated English:  and i think that's a very important thing that we can do with the future of the world, and we can do it with a lot of people.\n",
            "--------------------------------------------------\n",
            "8.\n",
            "French:  n'importe qui d'autre l'aimerait aussi.\n",
            "True English:  somebody else would love about this woman.\n",
            "Translated English:  and i think that's a very important thing that we can do with the future of the world, and we can do it with a lot of people.\n",
            "--------------------------------------------------\n",
            "9.\n",
            "French:  c'est tragique que les nord-coréens aient à cacher leurs identités et affronter tant de choses seulement pour survivre.\n",
            "True English:  it's tragic that north koreans have to hide their identities  and struggle so hard just to survive.\n",
            "Translated English:  and i think that's a very important thing that we can do with the future of the world, and we can do it with a lot of people.\n",
            "--------------------------------------------------\n",
            "10.\n",
            "French:  la glace que je photographie dans les icebergs est parfois très jeune -- deux milles ans.\n",
            "True English:  some of the ice in the icebergs that i photograph is very young --  a couple thousand years old.\n",
            "Translated English:  and i think that's a very important thing that we can do with the future of the world, and we can do it with a lot of people.\n",
            "--------------------------------------------------\n"
          ]
        }
      ]
    },
    {
      "cell_type": "markdown",
      "id": "sRrw0JnCZW0D",
      "metadata": {
        "id": "sRrw0JnCZW0D"
      },
      "source": [
        "### 3.6 Compute the bleu score (5 Points)"
      ]
    },
    {
      "cell_type": "code",
      "source": [
        "import evaluate\n",
        "sacrebleu_1 = evaluate.load(\"sacrebleu\", cache_dir=dataset_path)\n",
        "\n",
        "references_1 = [[en_tokenizer.decode(ref, skip_special_tokens=True)] for ref in test_en]\n",
        "predictions_2 = test_pred\n",
        "\n",
        "results = sacrebleu.compute(predictions=predictions_2, references=references_1)\n",
        "print(\"BLEU score:\", round(results[\"score\"], 2))"
      ],
      "metadata": {
        "colab": {
          "base_uri": "https://localhost:8080/"
        },
        "id": "9JSW43c603Eu",
        "outputId": "b1b84511-7949-49d8-8271-ec0d85f0a21d"
      },
      "id": "9JSW43c603Eu",
      "execution_count": 115,
      "outputs": [
        {
          "output_type": "stream",
          "name": "stdout",
          "text": [
            "BLEU score: 0.46\n"
          ]
        }
      ]
    },
    {
      "cell_type": "markdown",
      "source": [
        "EXTRA CREDIT WITH ATTENTION!The model performs as it should!"
      ],
      "metadata": {
        "id": "98xk-3bs2nC6"
      },
      "id": "98xk-3bs2nC6"
    },
    {
      "cell_type": "code",
      "execution_count": 42,
      "id": "GHUsaKehZW0D",
      "metadata": {
        "colab": {
          "base_uri": "https://localhost:8080/"
        },
        "id": "GHUsaKehZW0D",
        "outputId": "fc0b751f-dd8c-417a-a1af-db44b93beeb8"
      },
      "outputs": [
        {
          "output_type": "stream",
          "name": "stdout",
          "text": [
            "Restored from ./tf_ckpts/ckpt-5\n",
            "Epoch 1/15 — train loss: 4.7723, valid loss: 5.3584\n",
            "Saved checkpoint: ./tf_ckpts/ckpt-6\n",
            "Epoch 2/15 — train loss: 4.6946, valid loss: 5.3050\n",
            "Saved checkpoint: ./tf_ckpts/ckpt-7\n",
            "Epoch 3/15 — train loss: 4.6032, valid loss: 5.2450\n",
            "Saved checkpoint: ./tf_ckpts/ckpt-8\n",
            "Epoch 4/15 — train loss: 4.5271, valid loss: 5.1554\n",
            "Saved checkpoint: ./tf_ckpts/ckpt-9\n",
            "Epoch 5/15 — train loss: 4.3996, valid loss: 5.0732\n",
            "Saved checkpoint: ./tf_ckpts/ckpt-10\n",
            "Epoch 6/15 — train loss: 4.3868, valid loss: 5.0323\n",
            "Saved checkpoint: ./tf_ckpts/ckpt-11\n",
            "Epoch 7/15 — train loss: 4.2416, valid loss: 4.9081\n",
            "Saved checkpoint: ./tf_ckpts/ckpt-12\n",
            "Epoch 8/15 — train loss: 4.1306, valid loss: 4.9083\n",
            "Saved checkpoint: ./tf_ckpts/ckpt-13\n",
            "Epoch 9/15 — train loss: 4.0854, valid loss: 4.7862\n",
            "Saved checkpoint: ./tf_ckpts/ckpt-14\n",
            "Epoch 10/15 — train loss: 3.9522, valid loss: 4.7675\n",
            "Saved checkpoint: ./tf_ckpts/ckpt-15\n",
            "Epoch 11/15 — train loss: 3.7936, valid loss: 4.6803\n",
            "Saved checkpoint: ./tf_ckpts/ckpt-16\n",
            "Epoch 12/15 — train loss: 3.6955, valid loss: 4.5992\n",
            "Saved checkpoint: ./tf_ckpts/ckpt-17\n",
            "Epoch 13/15 — train loss: 3.6747, valid loss: 4.5856\n",
            "Saved checkpoint: ./tf_ckpts/ckpt-18\n",
            "Epoch 14/15 — train loss: 3.6325, valid loss: 4.4785\n",
            "Saved checkpoint: ./tf_ckpts/ckpt-19\n",
            "Epoch 15/15 — train loss: 3.4047, valid loss: 4.4851\n",
            "Saved checkpoint: ./tf_ckpts/ckpt-20\n"
          ]
        }
      ],
      "source": [
        "import os\n",
        "import tensorflow as tf\n",
        "import numpy as np\n",
        "\n",
        "\n",
        "train_en = np.array(train_en, dtype=object)\n",
        "train_fr = np.array(train_fr, dtype=object)\n",
        "train_seq_lens_en = np.array(train_seq_lens_en)\n",
        "train_seq_lens_fr = np.array(train_seq_lens_fr)\n",
        "valid_en = np.array(valid_en, dtype=object)\n",
        "valid_fr = np.array(valid_fr, dtype=object)\n",
        "valid_seq_lens_en = np.array(valid_seq_lens_en)\n",
        "valid_seq_lens_fr = np.array(valid_seq_lens_fr)\n",
        "\n",
        "\n",
        "\n",
        "\n",
        "train_batch_sampler = SeqLenBatchSampler(train_seq_lens_fr, batch_size)\n",
        "n_valid_batch      = int(np.ceil(len(valid_fr) / batch_size))\n",
        "pad_token_id       = fr_tokenizer.token_to_id('<pad>')\n",
        "\n",
        "\n",
        "\n",
        "checkpoint_dir = './tf_ckpts'\n",
        "os.makedirs(checkpoint_dir, exist_ok=True)\n",
        "\n",
        "ckpt = tf.train.Checkpoint(\n",
        "    step      = tf.Variable(1, dtype=tf.int32),\n",
        "    optimizer = optimizer,\n",
        "    model     = model\n",
        ")\n",
        "ckpt_manager = tf.train.CheckpointManager(\n",
        "    ckpt,\n",
        "    checkpoint_dir,\n",
        "    max_to_keep=3\n",
        ")\n",
        "\n",
        "if ckpt_manager.latest_checkpoint:\n",
        "    ckpt.restore(ckpt_manager.latest_checkpoint)\n",
        "    print(f\"Restored from {ckpt_manager.latest_checkpoint}\")\n",
        "else:\n",
        "    print(\"Initializing from scratch.\")\n",
        "\n",
        "#  training loop with checkpoint saves\n",
        "train_losses, valid_losses = [], []\n",
        "\n",
        "for epoch in range(num_epoch):\n",
        "    epoch_loss  = 0.0\n",
        "    batch_count = 0\n",
        "\n",
        "    for batch_idx, data_index in enumerate(train_batch_sampler):\n",
        "        if batch_idx >= 200:\n",
        "            break\n",
        "\n",
        "        src_batch, src_seq_lens = train_fr[data_index], train_seq_lens_fr[data_index]\n",
        "        tgt_batch, tgt_seq_lens = train_en[data_index], train_seq_lens_en[data_index]\n",
        "        real_bs = len(src_batch)\n",
        "\n",
        "        (src_batch, src_lens_b,\n",
        "         tgt_x_batch, tgt_y_batch, tgt_lens_b) = pad_batch(\n",
        "             src_batch, src_seq_lens,\n",
        "             tgt_batch, tgt_seq_lens,\n",
        "             pad_val=pad_token_id\n",
        "        )\n",
        "\n",
        "        with tf.GradientTape() as tape:\n",
        "            logits = model(src_batch, src_lens_b, tgt_x_batch, tgt_lens_b)\n",
        "            loss   = seq2seq_loss(logits, tgt_y_batch, tgt_lens_b)\n",
        "\n",
        "        grads = tape.gradient(loss, model.trainable_variables)\n",
        "        optimizer.apply_gradients(zip(grads, model.trainable_variables))\n",
        "\n",
        "        epoch_loss  += loss * real_bs\n",
        "        batch_count += real_bs\n",
        "\n",
        "    train_epoch_loss = epoch_loss / batch_count\n",
        "\n",
        "    # validation\n",
        "    valid_loss = 0.0\n",
        "    for batch_idx in range(n_valid_batch):\n",
        "        start = batch_idx * batch_size\n",
        "        end   = start + batch_size\n",
        "        src_b, src_lens = valid_fr[start:end], valid_seq_lens_fr[start:end]\n",
        "        tgt_b, tgt_lens = valid_en[start:end], valid_seq_lens_en[start:end]\n",
        "        real_bs = len(src_b)\n",
        "\n",
        "        (src_b, src_lens_b,\n",
        "         tgt_x_b, tgt_y_b, tgt_lens_b) = pad_batch(\n",
        "             src_b, src_lens,\n",
        "             tgt_b, tgt_lens,\n",
        "             pad_val=pad_token_id\n",
        "        )\n",
        "\n",
        "        logits = model(src_b, src_lens_b, tgt_x_b, tgt_lens_b, training=False)\n",
        "        loss   = seq2seq_loss(logits, tgt_y_b, tgt_lens_b)\n",
        "        valid_loss += loss * real_bs\n",
        "\n",
        "    valid_epoch_loss = valid_loss / len(valid_en)\n",
        "    train_losses.append(train_epoch_loss)\n",
        "    valid_losses.append(valid_epoch_loss)\n",
        "\n",
        "    print(f'Epoch {epoch+1}/{num_epoch} — train loss: {train_epoch_loss:.4f}, valid loss: {valid_epoch_loss:.4f}')\n",
        "\n",
        "    # bump step and save a new checkpoint\n",
        "    ckpt.step.assign_add(1)\n",
        "    saved_path = ckpt_manager.save()\n",
        "    print(f\"Saved checkpoint: {saved_path}\")\n",
        "\n",
        "\n",
        "\n"
      ]
    },
    {
      "cell_type": "code",
      "execution_count": 43,
      "id": "egVYO0E2ZW0D",
      "metadata": {
        "colab": {
          "base_uri": "https://localhost:8080/",
          "height": 512
        },
        "id": "egVYO0E2ZW0D",
        "outputId": "a8642e7b-ea9e-41ea-df76-5f58e9a94fec"
      },
      "outputs": [
        {
          "output_type": "display_data",
          "data": {
            "text/plain": [
              "\u001b[1mModel: \"attn_seq2seq_3\"\u001b[0m\n"
            ],
            "text/html": [
              "<pre style=\"white-space:pre;overflow-x:auto;line-height:normal;font-family:Menlo,'DejaVu Sans Mono',consolas,'Courier New',monospace\"><span style=\"font-weight: bold\">Model: \"attn_seq2seq_3\"</span>\n",
              "</pre>\n"
            ]
          },
          "metadata": {}
        },
        {
          "output_type": "display_data",
          "data": {
            "text/plain": [
              "┏━━━━━━━━━━━━━━━━━━━━━━━━━━━━━━━━━┳━━━━━━━━━━━━━━━━━━━━━━━━┳━━━━━━━━━━━━━━━┓\n",
              "┃\u001b[1m \u001b[0m\u001b[1mLayer (type)                   \u001b[0m\u001b[1m \u001b[0m┃\u001b[1m \u001b[0m\u001b[1mOutput Shape          \u001b[0m\u001b[1m \u001b[0m┃\u001b[1m \u001b[0m\u001b[1m      Param #\u001b[0m\u001b[1m \u001b[0m┃\n",
              "┡━━━━━━━━━━━━━━━━━━━━━━━━━━━━━━━━━╇━━━━━━━━━━━━━━━━━━━━━━━━╇━━━━━━━━━━━━━━━┩\n",
              "│ encoder_3 (\u001b[38;5;33mEncoder\u001b[0m)             │ ?                      │     \u001b[38;5;34m1,576,448\u001b[0m │\n",
              "├─────────────────────────────────┼────────────────────────┼───────────────┤\n",
              "│    └ embedding_3 (\u001b[38;5;33mEmbedding\u001b[0m)    │ (\u001b[38;5;34m128\u001b[0m, \u001b[38;5;34m26\u001b[0m, \u001b[38;5;34m128\u001b[0m)         │     \u001b[38;5;34m1,280,000\u001b[0m │\n",
              "├─────────────────────────────────┼────────────────────────┼───────────────┤\n",
              "│    └ gru_3 (\u001b[38;5;33mGRU\u001b[0m)                │ ((\u001b[38;5;34m128\u001b[0m, \u001b[38;5;34m26\u001b[0m, \u001b[38;5;34m256\u001b[0m), (\u001b[38;5;34m128\u001b[0m, │       \u001b[38;5;34m296,448\u001b[0m │\n",
              "│                                 │ \u001b[38;5;34m256\u001b[0m))                  │               │\n",
              "├─────────────────────────────────┼────────────────────────┼───────────────┤\n",
              "│ attn_decoder (\u001b[38;5;33mAttnDecoder\u001b[0m)      │ ?                      │     \u001b[38;5;34m4,408,848\u001b[0m │\n",
              "├─────────────────────────────────┼────────────────────────┼───────────────┤\n",
              "│    └ embedding_4 (\u001b[38;5;33mEmbedding\u001b[0m)    │ (\u001b[38;5;34m128\u001b[0m, \u001b[38;5;34m32\u001b[0m, \u001b[38;5;34m128\u001b[0m)         │     \u001b[38;5;34m1,280,000\u001b[0m │\n",
              "├─────────────────────────────────┼────────────────────────┼───────────────┤\n",
              "│    └ gru_cell (\u001b[38;5;33mGRUCell\u001b[0m)         │ ?                      │       \u001b[38;5;34m493,056\u001b[0m │\n",
              "├─────────────────────────────────┼────────────────────────┼───────────────┤\n",
              "│    └ dropout (\u001b[38;5;33mDropout\u001b[0m)          │ ?                      │             \u001b[38;5;34m0\u001b[0m │\n",
              "├─────────────────────────────────┼────────────────────────┼───────────────┤\n",
              "│    └ dense (\u001b[38;5;33mDense\u001b[0m)              │ (\u001b[38;5;34m128\u001b[0m, \u001b[38;5;34m26\u001b[0m, \u001b[38;5;34m256\u001b[0m)         │        \u001b[38;5;34m65,536\u001b[0m │\n",
              "├─────────────────────────────────┼────────────────────────┼───────────────┤\n",
              "│    └ dense_1 (\u001b[38;5;33mDense\u001b[0m)            │ (\u001b[38;5;34m128\u001b[0m, \u001b[38;5;34m26\u001b[0m, \u001b[38;5;34m1\u001b[0m)           │           \u001b[38;5;34m256\u001b[0m │\n",
              "├─────────────────────────────────┼────────────────────────┼───────────────┤\n",
              "│    └ concatenate (\u001b[38;5;33mConcatenate\u001b[0m)  │ ?                      │   \u001b[38;5;34m0\u001b[0m (unbuilt) │\n",
              "├─────────────────────────────────┼────────────────────────┼───────────────┤\n",
              "│    └ dense_2 (\u001b[38;5;33mDense\u001b[0m)            │ (\u001b[38;5;34m128\u001b[0m, \u001b[38;5;34m32\u001b[0m, \u001b[38;5;34m10000\u001b[0m)       │     \u001b[38;5;34m2,570,000\u001b[0m │\n",
              "└─────────────────────────────────┴────────────────────────┴───────────────┘\n"
            ],
            "text/html": [
              "<pre style=\"white-space:pre;overflow-x:auto;line-height:normal;font-family:Menlo,'DejaVu Sans Mono',consolas,'Courier New',monospace\">┏━━━━━━━━━━━━━━━━━━━━━━━━━━━━━━━━━┳━━━━━━━━━━━━━━━━━━━━━━━━┳━━━━━━━━━━━━━━━┓\n",
              "┃<span style=\"font-weight: bold\"> Layer (type)                    </span>┃<span style=\"font-weight: bold\"> Output Shape           </span>┃<span style=\"font-weight: bold\">       Param # </span>┃\n",
              "┡━━━━━━━━━━━━━━━━━━━━━━━━━━━━━━━━━╇━━━━━━━━━━━━━━━━━━━━━━━━╇━━━━━━━━━━━━━━━┩\n",
              "│ encoder_3 (<span style=\"color: #0087ff; text-decoration-color: #0087ff\">Encoder</span>)             │ ?                      │     <span style=\"color: #00af00; text-decoration-color: #00af00\">1,576,448</span> │\n",
              "├─────────────────────────────────┼────────────────────────┼───────────────┤\n",
              "│    └ embedding_3 (<span style=\"color: #0087ff; text-decoration-color: #0087ff\">Embedding</span>)    │ (<span style=\"color: #00af00; text-decoration-color: #00af00\">128</span>, <span style=\"color: #00af00; text-decoration-color: #00af00\">26</span>, <span style=\"color: #00af00; text-decoration-color: #00af00\">128</span>)         │     <span style=\"color: #00af00; text-decoration-color: #00af00\">1,280,000</span> │\n",
              "├─────────────────────────────────┼────────────────────────┼───────────────┤\n",
              "│    └ gru_3 (<span style=\"color: #0087ff; text-decoration-color: #0087ff\">GRU</span>)                │ ((<span style=\"color: #00af00; text-decoration-color: #00af00\">128</span>, <span style=\"color: #00af00; text-decoration-color: #00af00\">26</span>, <span style=\"color: #00af00; text-decoration-color: #00af00\">256</span>), (<span style=\"color: #00af00; text-decoration-color: #00af00\">128</span>, │       <span style=\"color: #00af00; text-decoration-color: #00af00\">296,448</span> │\n",
              "│                                 │ <span style=\"color: #00af00; text-decoration-color: #00af00\">256</span>))                  │               │\n",
              "├─────────────────────────────────┼────────────────────────┼───────────────┤\n",
              "│ attn_decoder (<span style=\"color: #0087ff; text-decoration-color: #0087ff\">AttnDecoder</span>)      │ ?                      │     <span style=\"color: #00af00; text-decoration-color: #00af00\">4,408,848</span> │\n",
              "├─────────────────────────────────┼────────────────────────┼───────────────┤\n",
              "│    └ embedding_4 (<span style=\"color: #0087ff; text-decoration-color: #0087ff\">Embedding</span>)    │ (<span style=\"color: #00af00; text-decoration-color: #00af00\">128</span>, <span style=\"color: #00af00; text-decoration-color: #00af00\">32</span>, <span style=\"color: #00af00; text-decoration-color: #00af00\">128</span>)         │     <span style=\"color: #00af00; text-decoration-color: #00af00\">1,280,000</span> │\n",
              "├─────────────────────────────────┼────────────────────────┼───────────────┤\n",
              "│    └ gru_cell (<span style=\"color: #0087ff; text-decoration-color: #0087ff\">GRUCell</span>)         │ ?                      │       <span style=\"color: #00af00; text-decoration-color: #00af00\">493,056</span> │\n",
              "├─────────────────────────────────┼────────────────────────┼───────────────┤\n",
              "│    └ dropout (<span style=\"color: #0087ff; text-decoration-color: #0087ff\">Dropout</span>)          │ ?                      │             <span style=\"color: #00af00; text-decoration-color: #00af00\">0</span> │\n",
              "├─────────────────────────────────┼────────────────────────┼───────────────┤\n",
              "│    └ dense (<span style=\"color: #0087ff; text-decoration-color: #0087ff\">Dense</span>)              │ (<span style=\"color: #00af00; text-decoration-color: #00af00\">128</span>, <span style=\"color: #00af00; text-decoration-color: #00af00\">26</span>, <span style=\"color: #00af00; text-decoration-color: #00af00\">256</span>)         │        <span style=\"color: #00af00; text-decoration-color: #00af00\">65,536</span> │\n",
              "├─────────────────────────────────┼────────────────────────┼───────────────┤\n",
              "│    └ dense_1 (<span style=\"color: #0087ff; text-decoration-color: #0087ff\">Dense</span>)            │ (<span style=\"color: #00af00; text-decoration-color: #00af00\">128</span>, <span style=\"color: #00af00; text-decoration-color: #00af00\">26</span>, <span style=\"color: #00af00; text-decoration-color: #00af00\">1</span>)           │           <span style=\"color: #00af00; text-decoration-color: #00af00\">256</span> │\n",
              "├─────────────────────────────────┼────────────────────────┼───────────────┤\n",
              "│    └ concatenate (<span style=\"color: #0087ff; text-decoration-color: #0087ff\">Concatenate</span>)  │ ?                      │   <span style=\"color: #00af00; text-decoration-color: #00af00\">0</span> (unbuilt) │\n",
              "├─────────────────────────────────┼────────────────────────┼───────────────┤\n",
              "│    └ dense_2 (<span style=\"color: #0087ff; text-decoration-color: #0087ff\">Dense</span>)            │ (<span style=\"color: #00af00; text-decoration-color: #00af00\">128</span>, <span style=\"color: #00af00; text-decoration-color: #00af00\">32</span>, <span style=\"color: #00af00; text-decoration-color: #00af00\">10000</span>)       │     <span style=\"color: #00af00; text-decoration-color: #00af00\">2,570,000</span> │\n",
              "└─────────────────────────────────┴────────────────────────┴───────────────┘\n",
              "</pre>\n"
            ]
          },
          "metadata": {}
        },
        {
          "output_type": "display_data",
          "data": {
            "text/plain": [
              "\u001b[1m Total params: \u001b[0m\u001b[38;5;34m5,985,296\u001b[0m (22.83 MB)\n"
            ],
            "text/html": [
              "<pre style=\"white-space:pre;overflow-x:auto;line-height:normal;font-family:Menlo,'DejaVu Sans Mono',consolas,'Courier New',monospace\"><span style=\"font-weight: bold\"> Total params: </span><span style=\"color: #00af00; text-decoration-color: #00af00\">5,985,296</span> (22.83 MB)\n",
              "</pre>\n"
            ]
          },
          "metadata": {}
        },
        {
          "output_type": "display_data",
          "data": {
            "text/plain": [
              "\u001b[1m Trainable params: \u001b[0m\u001b[38;5;34m5,985,296\u001b[0m (22.83 MB)\n"
            ],
            "text/html": [
              "<pre style=\"white-space:pre;overflow-x:auto;line-height:normal;font-family:Menlo,'DejaVu Sans Mono',consolas,'Courier New',monospace\"><span style=\"font-weight: bold\"> Trainable params: </span><span style=\"color: #00af00; text-decoration-color: #00af00\">5,985,296</span> (22.83 MB)\n",
              "</pre>\n"
            ]
          },
          "metadata": {}
        },
        {
          "output_type": "display_data",
          "data": {
            "text/plain": [
              "\u001b[1m Non-trainable params: \u001b[0m\u001b[38;5;34m0\u001b[0m (0.00 B)\n"
            ],
            "text/html": [
              "<pre style=\"white-space:pre;overflow-x:auto;line-height:normal;font-family:Menlo,'DejaVu Sans Mono',consolas,'Courier New',monospace\"><span style=\"font-weight: bold\"> Non-trainable params: </span><span style=\"color: #00af00; text-decoration-color: #00af00\">0</span> (0.00 B)\n",
              "</pre>\n"
            ]
          },
          "metadata": {}
        }
      ],
      "source": [
        "model.summary(expand_nested=True)"
      ]
    },
    {
      "cell_type": "code",
      "execution_count": 44,
      "id": "oxwmyxttZW0D",
      "metadata": {
        "id": "oxwmyxttZW0D",
        "colab": {
          "base_uri": "https://localhost:8080/",
          "height": 449
        },
        "outputId": "8ba6bd2b-05e9-4768-cf81-f1091d8157a7"
      },
      "outputs": [
        {
          "output_type": "display_data",
          "data": {
            "text/plain": [
              "<Figure size 640x480 with 1 Axes>"
            ],
            "image/png": "[encoded data removed]"
          },
          "metadata": {}
        }
      ],
      "source": [
        "%matplotlib inline\n",
        "from matplotlib import pyplot as plt\n",
        "\n",
        "\n",
        "x = np.arange(1, len(train_losses) + 1)\n",
        "plt.plot(x, train_losses, label='Train loss')\n",
        "plt.plot(x, valid_losses, label='Valid loss')\n",
        "plt.legend()\n",
        "plt.ylabel('Loss')\n",
        "plt.xlabel('Epoch')\n",
        "plt.xticks(x)\n",
        "plt.show()"
      ]
    },
    {
      "cell_type": "code",
      "execution_count": 45,
      "id": "ImhPXEhSZW0D",
      "metadata": {
        "id": "ImhPXEhSZW0D"
      },
      "outputs": [],
      "source": [
        "def translate(encoder, decoder, fr_sentences, max_pred_len=50):\n",
        "    sos_token_id = en_tokenizer.token_to_id('<s>')\n",
        "    eos_token_id = en_tokenizer.token_to_id('</s>')\n",
        "    batch_size = len(fr_sentences)\n",
        "\n",
        "    # Pad input sentences to same length\n",
        "    src_seq_lens = [len(s) for s in fr_sentences]\n",
        "    max_src_len = max(src_seq_lens)\n",
        "    src_padded = [s + [0] * (max_src_len - len(s)) for s in fr_sentences]\n",
        "    src_tensor = tf.constant(src_padded, dtype=tf.int64)\n",
        "    src_mask = tf.sequence_mask(src_seq_lens, maxlen=max_src_len, dtype=tf.bool)\n",
        "\n",
        "    # Encode\n",
        "    enc_outputs, enc_states = encoder(src_tensor, src_mask)\n",
        "    dec_states = enc_states if isinstance(enc_states, tf.Tensor) else enc_states[0]\n",
        "\n",
        "    # Init decoder input\n",
        "    dec_inputs = tf.fill([batch_size], sos_token_id)\n",
        "\n",
        "    finished = tf.zeros([batch_size], dtype=tf.bool)\n",
        "    pred_ids = [[] for _ in range(batch_size)]\n",
        "\n",
        "    for _ in range(max_pred_len):\n",
        "        logits, dec_states = decoder.predict(dec_inputs, dec_states, enc_outputs, src_mask)\n",
        "        predicted_ids = tf.argmax(logits, axis=-1).numpy()\n",
        "\n",
        "        for i in range(batch_size):\n",
        "            if not finished[i]:\n",
        "                if predicted_ids[i] == eos_token_id:\n",
        "                    finished = tf.tensor_scatter_nd_update(finished, [[i]], [True])\n",
        "                else:\n",
        "                    pred_ids[i].append(predicted_ids[i])\n",
        "\n",
        "        if tf.reduce_all(finished):\n",
        "            break\n",
        "\n",
        "        dec_inputs = tf.constant(predicted_ids, dtype=tf.int64)\n",
        "\n",
        "    return [en_tokenizer.decode(ids, skip_special_tokens=True) for ids in pred_ids]\n",
        "\n",
        "\n",
        "\n"
      ]
    },
    {
      "cell_type": "code",
      "source": [
        "\n",
        "test_pred = translate(model.encoder, model.decoder, test_fr)"
      ],
      "metadata": {
        "id": "9qwvZOr6f24Z"
      },
      "id": "9qwvZOr6f24Z",
      "execution_count": 68,
      "outputs": []
    },
    {
      "cell_type": "code",
      "source": [
        "np.random.seed(6666)\n",
        "sample_num = 10\n",
        "\n",
        "# Randomly sample 10 indices without replacement\n",
        "indices = np.random.choice(len(test_fr), size=sample_num, replace=False)\n",
        "\n",
        "for i, idx in enumerate(indices, 1):\n",
        "    fr_text = fr_tokenizer.decode(test_fr[idx], skip_special_tokens=True)\n",
        "    true_en = en_tokenizer.decode(test_en[idx], skip_special_tokens=True)\n",
        "    pred_en = test_pred[idx]\n",
        "\n",
        "    print(f\"{i}.\")\n",
        "    print(f\"French: {fr_text}\")\n",
        "    print(f\"True English: {true_en}\")\n",
        "    print(f\"Translated English: {pred_en}\")\n",
        "    print(\"-\" * 50)\n"
      ],
      "metadata": {
        "colab": {
          "base_uri": "https://localhost:8080/"
        },
        "id": "D_iQ0aYFhjYu",
        "outputId": "ee3611ee-fe35-4919-d3b8-553d1af4f357"
      },
      "id": "D_iQ0aYFhjYu",
      "execution_count": 72,
      "outputs": [
        {
          "output_type": "stream",
          "name": "stdout",
          "text": [
            "1.\n",
            "French:  les bonnes équipes envoient ces informations de façon à ce que les joueurs puissent s'en servir.\n",
            "True English:  the good teams stream it in a way that the players can use.\n",
            "Translated English:  the good news is these kinds of information that can do with the tools to do.\n",
            "--------------------------------------------------\n",
            "2.\n",
            "French:  merci.\n",
            "True English:  thank you.\n",
            "Translated English:  thank you.\n",
            "--------------------------------------------------\n",
            "3.\n",
            "French:  il y a eu plusieurs cas où c'était vraiment juste.\n",
            "True English:  there have been several close calls.\n",
            "Translated English:  there were many of where it was really, it was really just just.\n",
            "--------------------------------------------------\n",
            "4.\n",
            "French:  mes prières vous accompagnent dans votre combat.\n",
            "True English:  my prayers are with you for your fight.\n",
            "Translated English:  my parents will you go to your family.\n",
            "--------------------------------------------------\n",
            "5.\n",
            "French:  et la question était : comment la technologie pourrait, les nouvelles technologies, y être ajoutée ?\n",
            "True English:  and the question was: how could technology, new technology,  be added to that?\n",
            "Translated English:  and the question was: how many of the technology, how new technologies, how many of the new ideas?\n",
            "--------------------------------------------------\n",
            "6.\n",
            "French:  combien d'entre vous ont vu l'ordinateur watson d'ibm gagner à jeopardy ?\n",
            "True English:  i mean, how many of you saw the winning of jeopardy  by ibm's watson?\n",
            "Translated English:  how many of you have the first-term-term-term-minute-minute-old-minute-minute name?\n",
            "--------------------------------------------------\n",
            "7.\n",
            "French:  j'ai travaillé dans une mine de charbon -- dangereux.\n",
            "True English:  i worked in a coal mine --  dangerous.\n",
            "Translated English:  i've been working in a house of the u.s. no, no.\n",
            "--------------------------------------------------\n",
            "8.\n",
            "French:  n'importe qui d'autre l'aimerait aussi.\n",
            "True English:  somebody else would love about this woman.\n",
            "Translated English:  not only the day i was going to be time.\n",
            "--------------------------------------------------\n",
            "9.\n",
            "French:  c'est tragique que les nord-coréens aient à cacher leurs identités et affronter tant de choses seulement pour survivre.\n",
            "True English:  it's tragic that north koreans have to hide their identities  and struggle so hard just to survive.\n",
            "Translated English:  it's amazing that the u.s of the animals that we can do to get to be able to get to be able to do it.\n",
            "--------------------------------------------------\n",
            "10.\n",
            "French:  la glace que je photographie dans les icebergs est parfois très jeune -- deux milles ans.\n",
            "True English:  some of the ice in the icebergs that i photograph is very young --  a couple thousand years old.\n",
            "Translated English:  the ice that i saw the first-old is that there's a lot of them, and two years ago, two years ago.\n",
            "--------------------------------------------------\n"
          ]
        }
      ]
    },
    {
      "cell_type": "code",
      "source": [
        "import evaluate\n",
        "sacrebleu = evaluate.load(\"sacrebleu\", cache_dir=dataset_path)\n",
        "\n",
        "references = [[en_tokenizer.decode(ref, skip_special_tokens=True)] for ref in test_en]\n",
        "predictions = test_pred\n",
        "\n",
        "results = sacrebleu.compute(predictions=predictions, references=references)\n",
        "print(\"BLEU score:\", round(results[\"score\"], 2))"
      ],
      "metadata": {
        "colab": {
          "base_uri": "https://localhost:8080/"
        },
        "id": "CJM78WwLf6OJ",
        "outputId": "9a46d93a-9418-46e0-da12-ec83d6fd1336"
      },
      "id": "CJM78WwLf6OJ",
      "execution_count": 69,
      "outputs": [
        {
          "output_type": "stream",
          "name": "stdout",
          "text": [
            "BLEU score: 8.06\n"
          ]
        }
      ]
    },
    {
      "cell_type": "markdown",
      "id": "QB4IfVE8ZW0E",
      "metadata": {
        "id": "QB4IfVE8ZW0E"
      },
      "source": [
        "If you implement everything correctly, the BLEU score will be around 7."
      ]
    },
    {
      "cell_type": "markdown",
      "id": "WAVUGlPQZW0E",
      "metadata": {
        "id": "WAVUGlPQZW0E"
      },
      "source": [
        "## Conclusion (5 Points)\n",
        "\n",
        "Including but not limited to: translation example analysis (case study), bleu score analysis, model structure / parameter analysis, etc."
      ]
    },
    {
      "cell_type": "markdown",
      "id": "R3yFQcztZW0E",
      "metadata": {
        "id": "R3yFQcztZW0E"
      },
      "source": [
        "Answer:\n",
        "\n",
        "Attention is indispensable: without it, the model defaults to a single “canned” sentence for every input. Model with attention translates ALOT better.\n",
        "\n",
        "BLEU jump (0.5 → 8.0): even simple additive attention yields a major alignment boost.\n",
        "\n",
        "Overfitting risk: attention model shows a larger train–validation gap; add stronger regularization (dropout, label smoothing) or early stopping.\n",
        "\n",
        "\n"
      ]
    }
  ],
  "metadata": {
    "accelerator": "GPU",
    "colab": {
      "gpuType": "L4",
      "machine_shape": "hm",
      "provenance": []
    },
    "kernelspec": {
      "display_name": "Python 3",
      "name": "python3"
    },
    "language_info": {
      "codemirror_mode": {
        "name": "ipython",
        "version": 3
      },
      "file_extension": ".py",
      "mimetype": "text/x-python",
      "name": "python",
      "nbconvert_exporter": "python",
      "pygments_lexer": "ipython3",
      "version": "3.7.4"
    },
    "widgets": {
      "application/vnd.jupyter.widget-state+json": {
        "d705814fd36f484d9bd44ca1d871b810": {
          "model_module": "@jupyter-widgets/controls",
          "model_name": "HBoxModel",
          "model_module_version": "1.5.0",
          "state": {
            "_dom_classes": [],
            "_model_module": "@jupyter-widgets/controls",
            "_model_module_version": "1.5.0",
            "_model_name": "HBoxModel",
            "_view_count": null,
            "_view_module": "@jupyter-widgets/controls",
            "_view_module_version": "1.5.0",
            "_view_name": "HBoxView",
            "box_style": "",
            "children": [
              "IPY_MODEL_f70714455fd04567ab590b93008428f6",
              "IPY_MODEL_2bca8c02e3b543118e24855186142741",
              "IPY_MODEL_52ae4df9c754415cbfb26298a817f521"
            ],
            "layout": "IPY_MODEL_b1140a50a65b4ab69afb211c9fdad022"
          }
        },
        "f70714455fd04567ab590b93008428f6": {
          "model_module": "@jupyter-widgets/controls",
          "model_name": "HTMLModel",
          "model_module_version": "1.5.0",
          "state": {
            "_dom_classes": [],
            "_model_module": "@jupyter-widgets/controls",
            "_model_module_version": "1.5.0",
            "_model_name": "HTMLModel",
            "_view_count": null,
            "_view_module": "@jupyter-widgets/controls",
            "_view_module_version": "1.5.0",
            "_view_name": "HTMLView",
            "description": "",
            "description_tooltip": null,
            "layout": "IPY_MODEL_282d5ec4c0054cedbd7db437523599ce",
            "placeholder": "​",
            "style": "IPY_MODEL_bd1917d2487c410696caa5c39f76f0e6",
            "value": "README.md: 100%"
          }
        },
        "2bca8c02e3b543118e24855186142741": {
          "model_module": "@jupyter-widgets/controls",
          "model_name": "FloatProgressModel",
          "model_module_version": "1.5.0",
          "state": {
            "_dom_classes": [],
            "_model_module": "@jupyter-widgets/controls",
            "_model_module_version": "1.5.0",
            "_model_name": "FloatProgressModel",
            "_view_count": null,
            "_view_module": "@jupyter-widgets/controls",
            "_view_module_version": "1.5.0",
            "_view_name": "ProgressView",
            "bar_style": "success",
            "description": "",
            "description_tooltip": null,
            "layout": "IPY_MODEL_799b5e770dbc4adabf54d0957e0c72d8",
            "max": 18506,
            "min": 0,
            "orientation": "horizontal",
            "style": "IPY_MODEL_9cd12a3169ec442d9cb28fc5aafedb01",
            "value": 18506
          }
        },
        "52ae4df9c754415cbfb26298a817f521": {
          "model_module": "@jupyter-widgets/controls",
          "model_name": "HTMLModel",
          "model_module_version": "1.5.0",
          "state": {
            "_dom_classes": [],
            "_model_module": "@jupyter-widgets/controls",
            "_model_module_version": "1.5.0",
            "_model_name": "HTMLModel",
            "_view_count": null,
            "_view_module": "@jupyter-widgets/controls",
            "_view_module_version": "1.5.0",
            "_view_name": "HTMLView",
            "description": "",
            "description_tooltip": null,
            "layout": "IPY_MODEL_2598f0c13b954ba28039a4a47468d60d",
            "placeholder": "​",
            "style": "IPY_MODEL_252df57aa3ba4120a52007deeda4adb7",
            "value": " 18.5k/18.5k [00:00&lt;00:00, 2.03MB/s]"
          }
        },
        "b1140a50a65b4ab69afb211c9fdad022": {
          "model_module": "@jupyter-widgets/base",
          "model_name": "LayoutModel",
          "model_module_version": "1.2.0",
          "state": {
            "_model_module": "@jupyter-widgets/base",
            "_model_module_version": "1.2.0",
            "_model_name": "LayoutModel",
            "_view_count": null,
            "_view_module": "@jupyter-widgets/base",
            "_view_module_version": "1.2.0",
            "_view_name": "LayoutView",
            "align_content": null,
            "align_items": null,
            "align_self": null,
            "border": null,
            "bottom": null,
            "display": null,
            "flex": null,
            "flex_flow": null,
            "grid_area": null,
            "grid_auto_columns": null,
            "grid_auto_flow": null,
            "grid_auto_rows": null,
            "grid_column": null,
            "grid_gap": null,
            "grid_row": null,
            "grid_template_areas": null,
            "grid_template_columns": null,
            "grid_template_rows": null,
            "height": null,
            "justify_content": null,
            "justify_items": null,
            "left": null,
            "margin": null,
            "max_height": null,
            "max_width": null,
            "min_height": null,
            "min_width": null,
            "object_fit": null,
            "object_position": null,
            "order": null,
            "overflow": null,
            "overflow_x": null,
            "overflow_y": null,
            "padding": null,
            "right": null,
            "top": null,
            "visibility": null,
            "width": null
          }
        },
        "282d5ec4c0054cedbd7db437523599ce": {
          "model_module": "@jupyter-widgets/base",
          "model_name": "LayoutModel",
          "model_module_version": "1.2.0",
          "state": {
            "_model_module": "@jupyter-widgets/base",
            "_model_module_version": "1.2.0",
            "_model_name": "LayoutModel",
            "_view_count": null,
            "_view_module": "@jupyter-widgets/base",
            "_view_module_version": "1.2.0",
            "_view_name": "LayoutView",
            "align_content": null,
            "align_items": null,
            "align_self": null,
            "border": null,
            "bottom": null,
            "display": null,
            "flex": null,
            "flex_flow": null,
            "grid_area": null,
            "grid_auto_columns": null,
            "grid_auto_flow": null,
            "grid_auto_rows": null,
            "grid_column": null,
            "grid_gap": null,
            "grid_row": null,
            "grid_template_areas": null,
            "grid_template_columns": null,
            "grid_template_rows": null,
            "height": null,
            "justify_content": null,
            "justify_items": null,
            "left": null,
            "margin": null,
            "max_height": null,
            "max_width": null,
            "min_height": null,
            "min_width": null,
            "object_fit": null,
            "object_position": null,
            "order": null,
            "overflow": null,
            "overflow_x": null,
            "overflow_y": null,
            "padding": null,
            "right": null,
            "top": null,
            "visibility": null,
            "width": null
          }
        },
        "bd1917d2487c410696caa5c39f76f0e6": {
          "model_module": "@jupyter-widgets/controls",
          "model_name": "DescriptionStyleModel",
          "model_module_version": "1.5.0",
          "state": {
            "_model_module": "@jupyter-widgets/controls",
            "_model_module_version": "1.5.0",
            "_model_name": "DescriptionStyleModel",
            "_view_count": null,
            "_view_module": "@jupyter-widgets/base",
            "_view_module_version": "1.2.0",
            "_view_name": "StyleView",
            "description_width": ""
          }
        },
        "799b5e770dbc4adabf54d0957e0c72d8": {
          "model_module": "@jupyter-widgets/base",
          "model_name": "LayoutModel",
          "model_module_version": "1.2.0",
          "state": {
            "_model_module": "@jupyter-widgets/base",
            "_model_module_version": "1.2.0",
            "_model_name": "LayoutModel",
            "_view_count": null,
            "_view_module": "@jupyter-widgets/base",
            "_view_module_version": "1.2.0",
            "_view_name": "LayoutView",
            "align_content": null,
            "align_items": null,
            "align_self": null,
            "border": null,
            "bottom": null,
            "display": null,
            "flex": null,
            "flex_flow": null,
            "grid_area": null,
            "grid_auto_columns": null,
            "grid_auto_flow": null,
            "grid_auto_rows": null,
            "grid_column": null,
            "grid_gap": null,
            "grid_row": null,
            "grid_template_areas": null,
            "grid_template_columns": null,
            "grid_template_rows": null,
            "height": null,
            "justify_content": null,
            "justify_items": null,
            "left": null,
            "margin": null,
            "max_height": null,
            "max_width": null,
            "min_height": null,
            "min_width": null,
            "object_fit": null,
            "object_position": null,
            "order": null,
            "overflow": null,
            "overflow_x": null,
            "overflow_y": null,
            "padding": null,
            "right": null,
            "top": null,
            "visibility": null,
            "width": null
          }
        },
        "9cd12a3169ec442d9cb28fc5aafedb01": {
          "model_module": "@jupyter-widgets/controls",
          "model_name": "ProgressStyleModel",
          "model_module_version": "1.5.0",
          "state": {
            "_model_module": "@jupyter-widgets/controls",
            "_model_module_version": "1.5.0",
            "_model_name": "ProgressStyleModel",
            "_view_count": null,
            "_view_module": "@jupyter-widgets/base",
            "_view_module_version": "1.2.0",
            "_view_name": "StyleView",
            "bar_color": null,
            "description_width": ""
          }
        },
        "2598f0c13b954ba28039a4a47468d60d": {
          "model_module": "@jupyter-widgets/base",
          "model_name": "LayoutModel",
          "model_module_version": "1.2.0",
          "state": {
            "_model_module": "@jupyter-widgets/base",
            "_model_module_version": "1.2.0",
            "_model_name": "LayoutModel",
            "_view_count": null,
            "_view_module": "@jupyter-widgets/base",
            "_view_module_version": "1.2.0",
            "_view_name": "LayoutView",
            "align_content": null,
            "align_items": null,
            "align_self": null,
            "border": null,
            "bottom": null,
            "display": null,
            "flex": null,
            "flex_flow": null,
            "grid_area": null,
            "grid_auto_columns": null,
            "grid_auto_flow": null,
            "grid_auto_rows": null,
            "grid_column": null,
            "grid_gap": null,
            "grid_row": null,
            "grid_template_areas": null,
            "grid_template_columns": null,
            "grid_template_rows": null,
            "height": null,
            "justify_content": null,
            "justify_items": null,
            "left": null,
            "margin": null,
            "max_height": null,
            "max_width": null,
            "min_height": null,
            "min_width": null,
            "object_fit": null,
            "object_position": null,
            "order": null,
            "overflow": null,
            "overflow_x": null,
            "overflow_y": null,
            "padding": null,
            "right": null,
            "top": null,
            "visibility": null,
            "width": null
          }
        },
        "252df57aa3ba4120a52007deeda4adb7": {
          "model_module": "@jupyter-widgets/controls",
          "model_name": "DescriptionStyleModel",
          "model_module_version": "1.5.0",
          "state": {
            "_model_module": "@jupyter-widgets/controls",
            "_model_module_version": "1.5.0",
            "_model_name": "DescriptionStyleModel",
            "_view_count": null,
            "_view_module": "@jupyter-widgets/base",
            "_view_module_version": "1.2.0",
            "_view_name": "StyleView",
            "description_width": ""
          }
        },
        "b49461c8af144bd3919763e5041cee83": {
          "model_module": "@jupyter-widgets/controls",
          "model_name": "HBoxModel",
          "model_module_version": "1.5.0",
          "state": {
            "_dom_classes": [],
            "_model_module": "@jupyter-widgets/controls",
            "_model_module_version": "1.5.0",
            "_model_name": "HBoxModel",
            "_view_count": null,
            "_view_module": "@jupyter-widgets/controls",
            "_view_module_version": "1.5.0",
            "_view_name": "HBoxView",
            "box_style": "",
            "children": [
              "IPY_MODEL_7470d937d36b4b98a2acb7e3071e0f07",
              "IPY_MODEL_54b8ca3c48df489abb67bbb900d1c9d7",
              "IPY_MODEL_06d4029f56a74781bdf8ef5a9d4d6bc3"
            ],
            "layout": "IPY_MODEL_78e964ee99844417b4d547fb6cc601f4"
          }
        },
        "7470d937d36b4b98a2acb7e3071e0f07": {
          "model_module": "@jupyter-widgets/controls",
          "model_name": "HTMLModel",
          "model_module_version": "1.5.0",
          "state": {
            "_dom_classes": [],
            "_model_module": "@jupyter-widgets/controls",
            "_model_module_version": "1.5.0",
            "_model_name": "HTMLModel",
            "_view_count": null,
            "_view_module": "@jupyter-widgets/controls",
            "_view_module_version": "1.5.0",
            "_view_name": "HTMLView",
            "description": "",
            "description_tooltip": null,
            "layout": "IPY_MODEL_1da245d1b3ff46269d6f6e2d49662546",
            "placeholder": "​",
            "style": "IPY_MODEL_71c3dfe27e9a4cd0a255493bc0fcd399",
            "value": "iwslt2017.py: 100%"
          }
        },
        "54b8ca3c48df489abb67bbb900d1c9d7": {
          "model_module": "@jupyter-widgets/controls",
          "model_name": "FloatProgressModel",
          "model_module_version": "1.5.0",
          "state": {
            "_dom_classes": [],
            "_model_module": "@jupyter-widgets/controls",
            "_model_module_version": "1.5.0",
            "_model_name": "FloatProgressModel",
            "_view_count": null,
            "_view_module": "@jupyter-widgets/controls",
            "_view_module_version": "1.5.0",
            "_view_name": "ProgressView",
            "bar_style": "success",
            "description": "",
            "description_tooltip": null,
            "layout": "IPY_MODEL_1b7bd338e971412c9445ea7057f58570",
            "max": 8170,
            "min": 0,
            "orientation": "horizontal",
            "style": "IPY_MODEL_ed71466ac0d8445b81adcce7508be75f",
            "value": 8170
          }
        },
        "06d4029f56a74781bdf8ef5a9d4d6bc3": {
          "model_module": "@jupyter-widgets/controls",
          "model_name": "HTMLModel",
          "model_module_version": "1.5.0",
          "state": {
            "_dom_classes": [],
            "_model_module": "@jupyter-widgets/controls",
            "_model_module_version": "1.5.0",
            "_model_name": "HTMLModel",
            "_view_count": null,
            "_view_module": "@jupyter-widgets/controls",
            "_view_module_version": "1.5.0",
            "_view_name": "HTMLView",
            "description": "",
            "description_tooltip": null,
            "layout": "IPY_MODEL_f6fc14db5d044eedacf855b8fc3d7f22",
            "placeholder": "​",
            "style": "IPY_MODEL_bac6bda86ffb424f9824dc5c22e00fed",
            "value": " 8.17k/8.17k [00:00&lt;00:00, 1.03MB/s]"
          }
        },
        "78e964ee99844417b4d547fb6cc601f4": {
          "model_module": "@jupyter-widgets/base",
          "model_name": "LayoutModel",
          "model_module_version": "1.2.0",
          "state": {
            "_model_module": "@jupyter-widgets/base",
            "_model_module_version": "1.2.0",
            "_model_name": "LayoutModel",
            "_view_count": null,
            "_view_module": "@jupyter-widgets/base",
            "_view_module_version": "1.2.0",
            "_view_name": "LayoutView",
            "align_content": null,
            "align_items": null,
            "align_self": null,
            "border": null,
            "bottom": null,
            "display": null,
            "flex": null,
            "flex_flow": null,
            "grid_area": null,
            "grid_auto_columns": null,
            "grid_auto_flow": null,
            "grid_auto_rows": null,
            "grid_column": null,
            "grid_gap": null,
            "grid_row": null,
            "grid_template_areas": null,
            "grid_template_columns": null,
            "grid_template_rows": null,
            "height": null,
            "justify_content": null,
            "justify_items": null,
            "left": null,
            "margin": null,
            "max_height": null,
            "max_width": null,
            "min_height": null,
            "min_width": null,
            "object_fit": null,
            "object_position": null,
            "order": null,
            "overflow": null,
            "overflow_x": null,
            "overflow_y": null,
            "padding": null,
            "right": null,
            "top": null,
            "visibility": null,
            "width": null
          }
        },
        "1da245d1b3ff46269d6f6e2d49662546": {
          "model_module": "@jupyter-widgets/base",
          "model_name": "LayoutModel",
          "model_module_version": "1.2.0",
          "state": {
            "_model_module": "@jupyter-widgets/base",
            "_model_module_version": "1.2.0",
            "_model_name": "LayoutModel",
            "_view_count": null,
            "_view_module": "@jupyter-widgets/base",
            "_view_module_version": "1.2.0",
            "_view_name": "LayoutView",
            "align_content": null,
            "align_items": null,
            "align_self": null,
            "border": null,
            "bottom": null,
            "display": null,
            "flex": null,
            "flex_flow": null,
            "grid_area": null,
            "grid_auto_columns": null,
            "grid_auto_flow": null,
            "grid_auto_rows": null,
            "grid_column": null,
            "grid_gap": null,
            "grid_row": null,
            "grid_template_areas": null,
            "grid_template_columns": null,
            "grid_template_rows": null,
            "height": null,
            "justify_content": null,
            "justify_items": null,
            "left": null,
            "margin": null,
            "max_height": null,
            "max_width": null,
            "min_height": null,
            "min_width": null,
            "object_fit": null,
            "object_position": null,
            "order": null,
            "overflow": null,
            "overflow_x": null,
            "overflow_y": null,
            "padding": null,
            "right": null,
            "top": null,
            "visibility": null,
            "width": null
          }
        },
        "71c3dfe27e9a4cd0a255493bc0fcd399": {
          "model_module": "@jupyter-widgets/controls",
          "model_name": "DescriptionStyleModel",
          "model_module_version": "1.5.0",
          "state": {
            "_model_module": "@jupyter-widgets/controls",
            "_model_module_version": "1.5.0",
            "_model_name": "DescriptionStyleModel",
            "_view_count": null,
            "_view_module": "@jupyter-widgets/base",
            "_view_module_version": "1.2.0",
            "_view_name": "StyleView",
            "description_width": ""
          }
        },
        "1b7bd338e971412c9445ea7057f58570": {
          "model_module": "@jupyter-widgets/base",
          "model_name": "LayoutModel",
          "model_module_version": "1.2.0",
          "state": {
            "_model_module": "@jupyter-widgets/base",
            "_model_module_version": "1.2.0",
            "_model_name": "LayoutModel",
            "_view_count": null,
            "_view_module": "@jupyter-widgets/base",
            "_view_module_version": "1.2.0",
            "_view_name": "LayoutView",
            "align_content": null,
            "align_items": null,
            "align_self": null,
            "border": null,
            "bottom": null,
            "display": null,
            "flex": null,
            "flex_flow": null,
            "grid_area": null,
            "grid_auto_columns": null,
            "grid_auto_flow": null,
            "grid_auto_rows": null,
            "grid_column": null,
            "grid_gap": null,
            "grid_row": null,
            "grid_template_areas": null,
            "grid_template_columns": null,
            "grid_template_rows": null,
            "height": null,
            "justify_content": null,
            "justify_items": null,
            "left": null,
            "margin": null,
            "max_height": null,
            "max_width": null,
            "min_height": null,
            "min_width": null,
            "object_fit": null,
            "object_position": null,
            "order": null,
            "overflow": null,
            "overflow_x": null,
            "overflow_y": null,
            "padding": null,
            "right": null,
            "top": null,
            "visibility": null,
            "width": null
          }
        },
        "ed71466ac0d8445b81adcce7508be75f": {
          "model_module": "@jupyter-widgets/controls",
          "model_name": "ProgressStyleModel",
          "model_module_version": "1.5.0",
          "state": {
            "_model_module": "@jupyter-widgets/controls",
            "_model_module_version": "1.5.0",
            "_model_name": "ProgressStyleModel",
            "_view_count": null,
            "_view_module": "@jupyter-widgets/base",
            "_view_module_version": "1.2.0",
            "_view_name": "StyleView",
            "bar_color": null,
            "description_width": ""
          }
        },
        "f6fc14db5d044eedacf855b8fc3d7f22": {
          "model_module": "@jupyter-widgets/base",
          "model_name": "LayoutModel",
          "model_module_version": "1.2.0",
          "state": {
            "_model_module": "@jupyter-widgets/base",
            "_model_module_version": "1.2.0",
            "_model_name": "LayoutModel",
            "_view_count": null,
            "_view_module": "@jupyter-widgets/base",
            "_view_module_version": "1.2.0",
            "_view_name": "LayoutView",
            "align_content": null,
            "align_items": null,
            "align_self": null,
            "border": null,
            "bottom": null,
            "display": null,
            "flex": null,
            "flex_flow": null,
            "grid_area": null,
            "grid_auto_columns": null,
            "grid_auto_flow": null,
            "grid_auto_rows": null,
            "grid_column": null,
            "grid_gap": null,
            "grid_row": null,
            "grid_template_areas": null,
            "grid_template_columns": null,
            "grid_template_rows": null,
            "height": null,
            "justify_content": null,
            "justify_items": null,
            "left": null,
            "margin": null,
            "max_height": null,
            "max_width": null,
            "min_height": null,
            "min_width": null,
            "object_fit": null,
            "object_position": null,
            "order": null,
            "overflow": null,
            "overflow_x": null,
            "overflow_y": null,
            "padding": null,
            "right": null,
            "top": null,
            "visibility": null,
            "width": null
          }
        },
        "bac6bda86ffb424f9824dc5c22e00fed": {
          "model_module": "@jupyter-widgets/controls",
          "model_name": "DescriptionStyleModel",
          "model_module_version": "1.5.0",
          "state": {
            "_model_module": "@jupyter-widgets/controls",
            "_model_module_version": "1.5.0",
            "_model_name": "DescriptionStyleModel",
            "_view_count": null,
            "_view_module": "@jupyter-widgets/base",
            "_view_module_version": "1.2.0",
            "_view_name": "StyleView",
            "description_width": ""
          }
        },
        "3d8f91fe63734717b6fe0ec06c4ebe4a": {
          "model_module": "@jupyter-widgets/controls",
          "model_name": "HBoxModel",
          "model_module_version": "1.5.0",
          "state": {
            "_dom_classes": [],
            "_model_module": "@jupyter-widgets/controls",
            "_model_module_version": "1.5.0",
            "_model_name": "HBoxModel",
            "_view_count": null,
            "_view_module": "@jupyter-widgets/controls",
            "_view_module_version": "1.5.0",
            "_view_name": "HBoxView",
            "box_style": "",
            "children": [
              "IPY_MODEL_d20e1e050d7944e9ae6b330e56dfc05a",
              "IPY_MODEL_465085f62cfd4cada7b2784336140084",
              "IPY_MODEL_7fe1a4cabf3a4d4c901d664d1d1b7c72"
            ],
            "layout": "IPY_MODEL_332d3a9a4b514a128ae6de1f3129fee6"
          }
        },
        "d20e1e050d7944e9ae6b330e56dfc05a": {
          "model_module": "@jupyter-widgets/controls",
          "model_name": "HTMLModel",
          "model_module_version": "1.5.0",
          "state": {
            "_dom_classes": [],
            "_model_module": "@jupyter-widgets/controls",
            "_model_module_version": "1.5.0",
            "_model_name": "HTMLModel",
            "_view_count": null,
            "_view_module": "@jupyter-widgets/controls",
            "_view_module_version": "1.5.0",
            "_view_name": "HTMLView",
            "description": "",
            "description_tooltip": null,
            "layout": "IPY_MODEL_8305aef9e13c4c57a5481eb9a17089fc",
            "placeholder": "​",
            "style": "IPY_MODEL_22c767cd0b674eea8fa70b66d2ec47cf",
            "value": "fr-en.zip: 100%"
          }
        },
        "465085f62cfd4cada7b2784336140084": {
          "model_module": "@jupyter-widgets/controls",
          "model_name": "FloatProgressModel",
          "model_module_version": "1.5.0",
          "state": {
            "_dom_classes": [],
            "_model_module": "@jupyter-widgets/controls",
            "_model_module_version": "1.5.0",
            "_model_name": "FloatProgressModel",
            "_view_count": null,
            "_view_module": "@jupyter-widgets/controls",
            "_view_module_version": "1.5.0",
            "_view_name": "ProgressView",
            "bar_style": "success",
            "description": "",
            "description_tooltip": null,
            "layout": "IPY_MODEL_9a78eb18422d44529398b5fcd29ffa66",
            "max": 26880731,
            "min": 0,
            "orientation": "horizontal",
            "style": "IPY_MODEL_e292166b4dbf4a53884d1761ae5e1416",
            "value": 26880731
          }
        },
        "7fe1a4cabf3a4d4c901d664d1d1b7c72": {
          "model_module": "@jupyter-widgets/controls",
          "model_name": "HTMLModel",
          "model_module_version": "1.5.0",
          "state": {
            "_dom_classes": [],
            "_model_module": "@jupyter-widgets/controls",
            "_model_module_version": "1.5.0",
            "_model_name": "HTMLModel",
            "_view_count": null,
            "_view_module": "@jupyter-widgets/controls",
            "_view_module_version": "1.5.0",
            "_view_name": "HTMLView",
            "description": "",
            "description_tooltip": null,
            "layout": "IPY_MODEL_8ad88334cc754aeebeeaf3274d5e859f",
            "placeholder": "​",
            "style": "IPY_MODEL_41faf62c0d894837bd3784a7065a8d4d",
            "value": " 26.9M/26.9M [00:00&lt;00:00, 189MB/s]"
          }
        },
        "332d3a9a4b514a128ae6de1f3129fee6": {
          "model_module": "@jupyter-widgets/base",
          "model_name": "LayoutModel",
          "model_module_version": "1.2.0",
          "state": {
            "_model_module": "@jupyter-widgets/base",
            "_model_module_version": "1.2.0",
            "_model_name": "LayoutModel",
            "_view_count": null,
            "_view_module": "@jupyter-widgets/base",
            "_view_module_version": "1.2.0",
            "_view_name": "LayoutView",
            "align_content": null,
            "align_items": null,
            "align_self": null,
            "border": null,
            "bottom": null,
            "display": null,
            "flex": null,
            "flex_flow": null,
            "grid_area": null,
            "grid_auto_columns": null,
            "grid_auto_flow": null,
            "grid_auto_rows": null,
            "grid_column": null,
            "grid_gap": null,
            "grid_row": null,
            "grid_template_areas": null,
            "grid_template_columns": null,
            "grid_template_rows": null,
            "height": null,
            "justify_content": null,
            "justify_items": null,
            "left": null,
            "margin": null,
            "max_height": null,
            "max_width": null,
            "min_height": null,
            "min_width": null,
            "object_fit": null,
            "object_position": null,
            "order": null,
            "overflow": null,
            "overflow_x": null,
            "overflow_y": null,
            "padding": null,
            "right": null,
            "top": null,
            "visibility": null,
            "width": null
          }
        },
        "8305aef9e13c4c57a5481eb9a17089fc": {
          "model_module": "@jupyter-widgets/base",
          "model_name": "LayoutModel",
          "model_module_version": "1.2.0",
          "state": {
            "_model_module": "@jupyter-widgets/base",
            "_model_module_version": "1.2.0",
            "_model_name": "LayoutModel",
            "_view_count": null,
            "_view_module": "@jupyter-widgets/base",
            "_view_module_version": "1.2.0",
            "_view_name": "LayoutView",
            "align_content": null,
            "align_items": null,
            "align_self": null,
            "border": null,
            "bottom": null,
            "display": null,
            "flex": null,
            "flex_flow": null,
            "grid_area": null,
            "grid_auto_columns": null,
            "grid_auto_flow": null,
            "grid_auto_rows": null,
            "grid_column": null,
            "grid_gap": null,
            "grid_row": null,
            "grid_template_areas": null,
            "grid_template_columns": null,
            "grid_template_rows": null,
            "height": null,
            "justify_content": null,
            "justify_items": null,
            "left": null,
            "margin": null,
            "max_height": null,
            "max_width": null,
            "min_height": null,
            "min_width": null,
            "object_fit": null,
            "object_position": null,
            "order": null,
            "overflow": null,
            "overflow_x": null,
            "overflow_y": null,
            "padding": null,
            "right": null,
            "top": null,
            "visibility": null,
            "width": null
          }
        },
        "22c767cd0b674eea8fa70b66d2ec47cf": {
          "model_module": "@jupyter-widgets/controls",
          "model_name": "DescriptionStyleModel",
          "model_module_version": "1.5.0",
          "state": {
            "_model_module": "@jupyter-widgets/controls",
            "_model_module_version": "1.5.0",
            "_model_name": "DescriptionStyleModel",
            "_view_count": null,
            "_view_module": "@jupyter-widgets/base",
            "_view_module_version": "1.2.0",
            "_view_name": "StyleView",
            "description_width": ""
          }
        },
        "9a78eb18422d44529398b5fcd29ffa66": {
          "model_module": "@jupyter-widgets/base",
          "model_name": "LayoutModel",
          "model_module_version": "1.2.0",
          "state": {
            "_model_module": "@jupyter-widgets/base",
            "_model_module_version": "1.2.0",
            "_model_name": "LayoutModel",
            "_view_count": null,
            "_view_module": "@jupyter-widgets/base",
            "_view_module_version": "1.2.0",
            "_view_name": "LayoutView",
            "align_content": null,
            "align_items": null,
            "align_self": null,
            "border": null,
            "bottom": null,
            "display": null,
            "flex": null,
            "flex_flow": null,
            "grid_area": null,
            "grid_auto_columns": null,
            "grid_auto_flow": null,
            "grid_auto_rows": null,
            "grid_column": null,
            "grid_gap": null,
            "grid_row": null,
            "grid_template_areas": null,
            "grid_template_columns": null,
            "grid_template_rows": null,
            "height": null,
            "justify_content": null,
            "justify_items": null,
            "left": null,
            "margin": null,
            "max_height": null,
            "max_width": null,
            "min_height": null,
            "min_width": null,
            "object_fit": null,
            "object_position": null,
            "order": null,
            "overflow": null,
            "overflow_x": null,
            "overflow_y": null,
            "padding": null,
            "right": null,
            "top": null,
            "visibility": null,
            "width": null
          }
        },
        "e292166b4dbf4a53884d1761ae5e1416": {
          "model_module": "@jupyter-widgets/controls",
          "model_name": "ProgressStyleModel",
          "model_module_version": "1.5.0",
          "state": {
            "_model_module": "@jupyter-widgets/controls",
            "_model_module_version": "1.5.0",
            "_model_name": "ProgressStyleModel",
            "_view_count": null,
            "_view_module": "@jupyter-widgets/base",
            "_view_module_version": "1.2.0",
            "_view_name": "StyleView",
            "bar_color": null,
            "description_width": ""
          }
        },
        "8ad88334cc754aeebeeaf3274d5e859f": {
          "model_module": "@jupyter-widgets/base",
          "model_name": "LayoutModel",
          "model_module_version": "1.2.0",
          "state": {
            "_model_module": "@jupyter-widgets/base",
            "_model_module_version": "1.2.0",
            "_model_name": "LayoutModel",
            "_view_count": null,
            "_view_module": "@jupyter-widgets/base",
            "_view_module_version": "1.2.0",
            "_view_name": "LayoutView",
            "align_content": null,
            "align_items": null,
            "align_self": null,
            "border": null,
            "bottom": null,
            "display": null,
            "flex": null,
            "flex_flow": null,
            "grid_area": null,
            "grid_auto_columns": null,
            "grid_auto_flow": null,
            "grid_auto_rows": null,
            "grid_column": null,
            "grid_gap": null,
            "grid_row": null,
            "grid_template_areas": null,
            "grid_template_columns": null,
            "grid_template_rows": null,
            "height": null,
            "justify_content": null,
            "justify_items": null,
            "left": null,
            "margin": null,
            "max_height": null,
            "max_width": null,
            "min_height": null,
            "min_width": null,
            "object_fit": null,
            "object_position": null,
            "order": null,
            "overflow": null,
            "overflow_x": null,
            "overflow_y": null,
            "padding": null,
            "right": null,
            "top": null,
            "visibility": null,
            "width": null
          }
        },
        "41faf62c0d894837bd3784a7065a8d4d": {
          "model_module": "@jupyter-widgets/controls",
          "model_name": "DescriptionStyleModel",
          "model_module_version": "1.5.0",
          "state": {
            "_model_module": "@jupyter-widgets/controls",
            "_model_module_version": "1.5.0",
            "_model_name": "DescriptionStyleModel",
            "_view_count": null,
            "_view_module": "@jupyter-widgets/base",
            "_view_module_version": "1.2.0",
            "_view_name": "StyleView",
            "description_width": ""
          }
        },
        "2fcf4ee1238b4e5198cd85cd46dc7db9": {
          "model_module": "@jupyter-widgets/controls",
          "model_name": "HBoxModel",
          "model_module_version": "1.5.0",
          "state": {
            "_dom_classes": [],
            "_model_module": "@jupyter-widgets/controls",
            "_model_module_version": "1.5.0",
            "_model_name": "HBoxModel",
            "_view_count": null,
            "_view_module": "@jupyter-widgets/controls",
            "_view_module_version": "1.5.0",
            "_view_name": "HBoxView",
            "box_style": "",
            "children": [
              "IPY_MODEL_8944146929b94d0ba65343d9165f6542",
              "IPY_MODEL_b36da55774314ec4bfe20f1481b4526a",
              "IPY_MODEL_b8c094490eb549b9a1bf6980db3efeb3"
            ],
            "layout": "IPY_MODEL_86cfa6d096114d5d9390abd4f617bde8"
          }
        },
        "8944146929b94d0ba65343d9165f6542": {
          "model_module": "@jupyter-widgets/controls",
          "model_name": "HTMLModel",
          "model_module_version": "1.5.0",
          "state": {
            "_dom_classes": [],
            "_model_module": "@jupyter-widgets/controls",
            "_model_module_version": "1.5.0",
            "_model_name": "HTMLModel",
            "_view_count": null,
            "_view_module": "@jupyter-widgets/controls",
            "_view_module_version": "1.5.0",
            "_view_name": "HTMLView",
            "description": "",
            "description_tooltip": null,
            "layout": "IPY_MODEL_4d65977c0799485f97acd5059b77b3a8",
            "placeholder": "​",
            "style": "IPY_MODEL_18d68924f2b544aea6352f5b21c45467",
            "value": "Generating train split: 100%"
          }
        },
        "b36da55774314ec4bfe20f1481b4526a": {
          "model_module": "@jupyter-widgets/controls",
          "model_name": "FloatProgressModel",
          "model_module_version": "1.5.0",
          "state": {
            "_dom_classes": [],
            "_model_module": "@jupyter-widgets/controls",
            "_model_module_version": "1.5.0",
            "_model_name": "FloatProgressModel",
            "_view_count": null,
            "_view_module": "@jupyter-widgets/controls",
            "_view_module_version": "1.5.0",
            "_view_name": "ProgressView",
            "bar_style": "success",
            "description": "",
            "description_tooltip": null,
            "layout": "IPY_MODEL_e0fdd9e1aa314cedb4e04d94e87acf74",
            "max": 232825,
            "min": 0,
            "orientation": "horizontal",
            "style": "IPY_MODEL_5a676c61979045a6a1c4b478e5dfcbc5",
            "value": 232825
          }
        },
        "b8c094490eb549b9a1bf6980db3efeb3": {
          "model_module": "@jupyter-widgets/controls",
          "model_name": "HTMLModel",
          "model_module_version": "1.5.0",
          "state": {
            "_dom_classes": [],
            "_model_module": "@jupyter-widgets/controls",
            "_model_module_version": "1.5.0",
            "_model_name": "HTMLModel",
            "_view_count": null,
            "_view_module": "@jupyter-widgets/controls",
            "_view_module_version": "1.5.0",
            "_view_name": "HTMLView",
            "description": "",
            "description_tooltip": null,
            "layout": "IPY_MODEL_282b6436df894a42a3f7c364bece3210",
            "placeholder": "​",
            "style": "IPY_MODEL_1e7675fa54624ee191384b94fda552c6",
            "value": " 232825/232825 [00:04&lt;00:00, 55434.34 examples/s]"
          }
        },
        "86cfa6d096114d5d9390abd4f617bde8": {
          "model_module": "@jupyter-widgets/base",
          "model_name": "LayoutModel",
          "model_module_version": "1.2.0",
          "state": {
            "_model_module": "@jupyter-widgets/base",
            "_model_module_version": "1.2.0",
            "_model_name": "LayoutModel",
            "_view_count": null,
            "_view_module": "@jupyter-widgets/base",
            "_view_module_version": "1.2.0",
            "_view_name": "LayoutView",
            "align_content": null,
            "align_items": null,
            "align_self": null,
            "border": null,
            "bottom": null,
            "display": null,
            "flex": null,
            "flex_flow": null,
            "grid_area": null,
            "grid_auto_columns": null,
            "grid_auto_flow": null,
            "grid_auto_rows": null,
            "grid_column": null,
            "grid_gap": null,
            "grid_row": null,
            "grid_template_areas": null,
            "grid_template_columns": null,
            "grid_template_rows": null,
            "height": null,
            "justify_content": null,
            "justify_items": null,
            "left": null,
            "margin": null,
            "max_height": null,
            "max_width": null,
            "min_height": null,
            "min_width": null,
            "object_fit": null,
            "object_position": null,
            "order": null,
            "overflow": null,
            "overflow_x": null,
            "overflow_y": null,
            "padding": null,
            "right": null,
            "top": null,
            "visibility": null,
            "width": null
          }
        },
        "4d65977c0799485f97acd5059b77b3a8": {
          "model_module": "@jupyter-widgets/base",
          "model_name": "LayoutModel",
          "model_module_version": "1.2.0",
          "state": {
            "_model_module": "@jupyter-widgets/base",
            "_model_module_version": "1.2.0",
            "_model_name": "LayoutModel",
            "_view_count": null,
            "_view_module": "@jupyter-widgets/base",
            "_view_module_version": "1.2.0",
            "_view_name": "LayoutView",
            "align_content": null,
            "align_items": null,
            "align_self": null,
            "border": null,
            "bottom": null,
            "display": null,
            "flex": null,
            "flex_flow": null,
            "grid_area": null,
            "grid_auto_columns": null,
            "grid_auto_flow": null,
            "grid_auto_rows": null,
            "grid_column": null,
            "grid_gap": null,
            "grid_row": null,
            "grid_template_areas": null,
            "grid_template_columns": null,
            "grid_template_rows": null,
            "height": null,
            "justify_content": null,
            "justify_items": null,
            "left": null,
            "margin": null,
            "max_height": null,
            "max_width": null,
            "min_height": null,
            "min_width": null,
            "object_fit": null,
            "object_position": null,
            "order": null,
            "overflow": null,
            "overflow_x": null,
            "overflow_y": null,
            "padding": null,
            "right": null,
            "top": null,
            "visibility": null,
            "width": null
          }
        },
        "18d68924f2b544aea6352f5b21c45467": {
          "model_module": "@jupyter-widgets/controls",
          "model_name": "DescriptionStyleModel",
          "model_module_version": "1.5.0",
          "state": {
            "_model_module": "@jupyter-widgets/controls",
            "_model_module_version": "1.5.0",
            "_model_name": "DescriptionStyleModel",
            "_view_count": null,
            "_view_module": "@jupyter-widgets/base",
            "_view_module_version": "1.2.0",
            "_view_name": "StyleView",
            "description_width": ""
          }
        },
        "e0fdd9e1aa314cedb4e04d94e87acf74": {
          "model_module": "@jupyter-widgets/base",
          "model_name": "LayoutModel",
          "model_module_version": "1.2.0",
          "state": {
            "_model_module": "@jupyter-widgets/base",
            "_model_module_version": "1.2.0",
            "_model_name": "LayoutModel",
            "_view_count": null,
            "_view_module": "@jupyter-widgets/base",
            "_view_module_version": "1.2.0",
            "_view_name": "LayoutView",
            "align_content": null,
            "align_items": null,
            "align_self": null,
            "border": null,
            "bottom": null,
            "display": null,
            "flex": null,
            "flex_flow": null,
            "grid_area": null,
            "grid_auto_columns": null,
            "grid_auto_flow": null,
            "grid_auto_rows": null,
            "grid_column": null,
            "grid_gap": null,
            "grid_row": null,
            "grid_template_areas": null,
            "grid_template_columns": null,
            "grid_template_rows": null,
            "height": null,
            "justify_content": null,
            "justify_items": null,
            "left": null,
            "margin": null,
            "max_height": null,
            "max_width": null,
            "min_height": null,
            "min_width": null,
            "object_fit": null,
            "object_position": null,
            "order": null,
            "overflow": null,
            "overflow_x": null,
            "overflow_y": null,
            "padding": null,
            "right": null,
            "top": null,
            "visibility": null,
            "width": null
          }
        },
        "5a676c61979045a6a1c4b478e5dfcbc5": {
          "model_module": "@jupyter-widgets/controls",
          "model_name": "ProgressStyleModel",
          "model_module_version": "1.5.0",
          "state": {
            "_model_module": "@jupyter-widgets/controls",
            "_model_module_version": "1.5.0",
            "_model_name": "ProgressStyleModel",
            "_view_count": null,
            "_view_module": "@jupyter-widgets/base",
            "_view_module_version": "1.2.0",
            "_view_name": "StyleView",
            "bar_color": null,
            "description_width": ""
          }
        },
        "282b6436df894a42a3f7c364bece3210": {
          "model_module": "@jupyter-widgets/base",
          "model_name": "LayoutModel",
          "model_module_version": "1.2.0",
          "state": {
            "_model_module": "@jupyter-widgets/base",
            "_model_module_version": "1.2.0",
            "_model_name": "LayoutModel",
            "_view_count": null,
            "_view_module": "@jupyter-widgets/base",
            "_view_module_version": "1.2.0",
            "_view_name": "LayoutView",
            "align_content": null,
            "align_items": null,
            "align_self": null,
            "border": null,
            "bottom": null,
            "display": null,
            "flex": null,
            "flex_flow": null,
            "grid_area": null,
            "grid_auto_columns": null,
            "grid_auto_flow": null,
            "grid_auto_rows": null,
            "grid_column": null,
            "grid_gap": null,
            "grid_row": null,
            "grid_template_areas": null,
            "grid_template_columns": null,
            "grid_template_rows": null,
            "height": null,
            "justify_content": null,
            "justify_items": null,
            "left": null,
            "margin": null,
            "max_height": null,
            "max_width": null,
            "min_height": null,
            "min_width": null,
            "object_fit": null,
            "object_position": null,
            "order": null,
            "overflow": null,
            "overflow_x": null,
            "overflow_y": null,
            "padding": null,
            "right": null,
            "top": null,
            "visibility": null,
            "width": null
          }
        },
        "1e7675fa54624ee191384b94fda552c6": {
          "model_module": "@jupyter-widgets/controls",
          "model_name": "DescriptionStyleModel",
          "model_module_version": "1.5.0",
          "state": {
            "_model_module": "@jupyter-widgets/controls",
            "_model_module_version": "1.5.0",
            "_model_name": "DescriptionStyleModel",
            "_view_count": null,
            "_view_module": "@jupyter-widgets/base",
            "_view_module_version": "1.2.0",
            "_view_name": "StyleView",
            "description_width": ""
          }
        },
        "9676e29aa2464e9fa6794984faa9fad3": {
          "model_module": "@jupyter-widgets/controls",
          "model_name": "HBoxModel",
          "model_module_version": "1.5.0",
          "state": {
            "_dom_classes": [],
            "_model_module": "@jupyter-widgets/controls",
            "_model_module_version": "1.5.0",
            "_model_name": "HBoxModel",
            "_view_count": null,
            "_view_module": "@jupyter-widgets/controls",
            "_view_module_version": "1.5.0",
            "_view_name": "HBoxView",
            "box_style": "",
            "children": [
              "IPY_MODEL_76377537e8e546a7bc04f66db7b6d278",
              "IPY_MODEL_6f565f568bc644989710d13f8172ff51",
              "IPY_MODEL_1acfda28454840128144cce191863c4e"
            ],
            "layout": "IPY_MODEL_7ee70015c8d146f38ff5c1a8d1ae7f77"
          }
        },
        "76377537e8e546a7bc04f66db7b6d278": {
          "model_module": "@jupyter-widgets/controls",
          "model_name": "HTMLModel",
          "model_module_version": "1.5.0",
          "state": {
            "_dom_classes": [],
            "_model_module": "@jupyter-widgets/controls",
            "_model_module_version": "1.5.0",
            "_model_name": "HTMLModel",
            "_view_count": null,
            "_view_module": "@jupyter-widgets/controls",
            "_view_module_version": "1.5.0",
            "_view_name": "HTMLView",
            "description": "",
            "description_tooltip": null,
            "layout": "IPY_MODEL_c271c12102ff48fd9f0cb5db12abfa55",
            "placeholder": "​",
            "style": "IPY_MODEL_d819b4feb9394f1ab5e7ecc64827a2dd",
            "value": "Generating test split: 100%"
          }
        },
        "6f565f568bc644989710d13f8172ff51": {
          "model_module": "@jupyter-widgets/controls",
          "model_name": "FloatProgressModel",
          "model_module_version": "1.5.0",
          "state": {
            "_dom_classes": [],
            "_model_module": "@jupyter-widgets/controls",
            "_model_module_version": "1.5.0",
            "_model_name": "FloatProgressModel",
            "_view_count": null,
            "_view_module": "@jupyter-widgets/controls",
            "_view_module_version": "1.5.0",
            "_view_name": "ProgressView",
            "bar_style": "success",
            "description": "",
            "description_tooltip": null,
            "layout": "IPY_MODEL_bcd9ff5dcd6b4b6fa72c338889e9950f",
            "max": 8597,
            "min": 0,
            "orientation": "horizontal",
            "style": "IPY_MODEL_b9e67f21887e403d83f59088ab446c1d",
            "value": 8597
          }
        },
        "1acfda28454840128144cce191863c4e": {
          "model_module": "@jupyter-widgets/controls",
          "model_name": "HTMLModel",
          "model_module_version": "1.5.0",
          "state": {
            "_dom_classes": [],
            "_model_module": "@jupyter-widgets/controls",
            "_model_module_version": "1.5.0",
            "_model_name": "HTMLModel",
            "_view_count": null,
            "_view_module": "@jupyter-widgets/controls",
            "_view_module_version": "1.5.0",
            "_view_name": "HTMLView",
            "description": "",
            "description_tooltip": null,
            "layout": "IPY_MODEL_5532a8c11f714aad8f8c9c8432d0d89a",
            "placeholder": "​",
            "style": "IPY_MODEL_7e6ea00af0f1481688085b8faaa1bd4c",
            "value": " 8597/8597 [00:00&lt;00:00, 46574.21 examples/s]"
          }
        },
        "7ee70015c8d146f38ff5c1a8d1ae7f77": {
          "model_module": "@jupyter-widgets/base",
          "model_name": "LayoutModel",
          "model_module_version": "1.2.0",
          "state": {
            "_model_module": "@jupyter-widgets/base",
            "_model_module_version": "1.2.0",
            "_model_name": "LayoutModel",
            "_view_count": null,
            "_view_module": "@jupyter-widgets/base",
            "_view_module_version": "1.2.0",
            "_view_name": "LayoutView",
            "align_content": null,
            "align_items": null,
            "align_self": null,
            "border": null,
            "bottom": null,
            "display": null,
            "flex": null,
            "flex_flow": null,
            "grid_area": null,
            "grid_auto_columns": null,
            "grid_auto_flow": null,
            "grid_auto_rows": null,
            "grid_column": null,
            "grid_gap": null,
            "grid_row": null,
            "grid_template_areas": null,
            "grid_template_columns": null,
            "grid_template_rows": null,
            "height": null,
            "justify_content": null,
            "justify_items": null,
            "left": null,
            "margin": null,
            "max_height": null,
            "max_width": null,
            "min_height": null,
            "min_width": null,
            "object_fit": null,
            "object_position": null,
            "order": null,
            "overflow": null,
            "overflow_x": null,
            "overflow_y": null,
            "padding": null,
            "right": null,
            "top": null,
            "visibility": null,
            "width": null
          }
        },
        "c271c12102ff48fd9f0cb5db12abfa55": {
          "model_module": "@jupyter-widgets/base",
          "model_name": "LayoutModel",
          "model_module_version": "1.2.0",
          "state": {
            "_model_module": "@jupyter-widgets/base",
            "_model_module_version": "1.2.0",
            "_model_name": "LayoutModel",
            "_view_count": null,
            "_view_module": "@jupyter-widgets/base",
            "_view_module_version": "1.2.0",
            "_view_name": "LayoutView",
            "align_content": null,
            "align_items": null,
            "align_self": null,
            "border": null,
            "bottom": null,
            "display": null,
            "flex": null,
            "flex_flow": null,
            "grid_area": null,
            "grid_auto_columns": null,
            "grid_auto_flow": null,
            "grid_auto_rows": null,
            "grid_column": null,
            "grid_gap": null,
            "grid_row": null,
            "grid_template_areas": null,
            "grid_template_columns": null,
            "grid_template_rows": null,
            "height": null,
            "justify_content": null,
            "justify_items": null,
            "left": null,
            "margin": null,
            "max_height": null,
            "max_width": null,
            "min_height": null,
            "min_width": null,
            "object_fit": null,
            "object_position": null,
            "order": null,
            "overflow": null,
            "overflow_x": null,
            "overflow_y": null,
            "padding": null,
            "right": null,
            "top": null,
            "visibility": null,
            "width": null
          }
        },
        "d819b4feb9394f1ab5e7ecc64827a2dd": {
          "model_module": "@jupyter-widgets/controls",
          "model_name": "DescriptionStyleModel",
          "model_module_version": "1.5.0",
          "state": {
            "_model_module": "@jupyter-widgets/controls",
            "_model_module_version": "1.5.0",
            "_model_name": "DescriptionStyleModel",
            "_view_count": null,
            "_view_module": "@jupyter-widgets/base",
            "_view_module_version": "1.2.0",
            "_view_name": "StyleView",
            "description_width": ""
          }
        },
        "bcd9ff5dcd6b4b6fa72c338889e9950f": {
          "model_module": "@jupyter-widgets/base",
          "model_name": "LayoutModel",
          "model_module_version": "1.2.0",
          "state": {
            "_model_module": "@jupyter-widgets/base",
            "_model_module_version": "1.2.0",
            "_model_name": "LayoutModel",
            "_view_count": null,
            "_view_module": "@jupyter-widgets/base",
            "_view_module_version": "1.2.0",
            "_view_name": "LayoutView",
            "align_content": null,
            "align_items": null,
            "align_self": null,
            "border": null,
            "bottom": null,
            "display": null,
            "flex": null,
            "flex_flow": null,
            "grid_area": null,
            "grid_auto_columns": null,
            "grid_auto_flow": null,
            "grid_auto_rows": null,
            "grid_column": null,
            "grid_gap": null,
            "grid_row": null,
            "grid_template_areas": null,
            "grid_template_columns": null,
            "grid_template_rows": null,
            "height": null,
            "justify_content": null,
            "justify_items": null,
            "left": null,
            "margin": null,
            "max_height": null,
            "max_width": null,
            "min_height": null,
            "min_width": null,
            "object_fit": null,
            "object_position": null,
            "order": null,
            "overflow": null,
            "overflow_x": null,
            "overflow_y": null,
            "padding": null,
            "right": null,
            "top": null,
            "visibility": null,
            "width": null
          }
        },
        "b9e67f21887e403d83f59088ab446c1d": {
          "model_module": "@jupyter-widgets/controls",
          "model_name": "ProgressStyleModel",
          "model_module_version": "1.5.0",
          "state": {
            "_model_module": "@jupyter-widgets/controls",
            "_model_module_version": "1.5.0",
            "_model_name": "ProgressStyleModel",
            "_view_count": null,
            "_view_module": "@jupyter-widgets/base",
            "_view_module_version": "1.2.0",
            "_view_name": "StyleView",
            "bar_color": null,
            "description_width": ""
          }
        },
        "5532a8c11f714aad8f8c9c8432d0d89a": {
          "model_module": "@jupyter-widgets/base",
          "model_name": "LayoutModel",
          "model_module_version": "1.2.0",
          "state": {
            "_model_module": "@jupyter-widgets/base",
            "_model_module_version": "1.2.0",
            "_model_name": "LayoutModel",
            "_view_count": null,
            "_view_module": "@jupyter-widgets/base",
            "_view_module_version": "1.2.0",
            "_view_name": "LayoutView",
            "align_content": null,
            "align_items": null,
            "align_self": null,
            "border": null,
            "bottom": null,
            "display": null,
            "flex": null,
            "flex_flow": null,
            "grid_area": null,
            "grid_auto_columns": null,
            "grid_auto_flow": null,
            "grid_auto_rows": null,
            "grid_column": null,
            "grid_gap": null,
            "grid_row": null,
            "grid_template_areas": null,
            "grid_template_columns": null,
            "grid_template_rows": null,
            "height": null,
            "justify_content": null,
            "justify_items": null,
            "left": null,
            "margin": null,
            "max_height": null,
            "max_width": null,
            "min_height": null,
            "min_width": null,
            "object_fit": null,
            "object_position": null,
            "order": null,
            "overflow": null,
            "overflow_x": null,
            "overflow_y": null,
            "padding": null,
            "right": null,
            "top": null,
            "visibility": null,
            "width": null
          }
        },
        "7e6ea00af0f1481688085b8faaa1bd4c": {
          "model_module": "@jupyter-widgets/controls",
          "model_name": "DescriptionStyleModel",
          "model_module_version": "1.5.0",
          "state": {
            "_model_module": "@jupyter-widgets/controls",
            "_model_module_version": "1.5.0",
            "_model_name": "DescriptionStyleModel",
            "_view_count": null,
            "_view_module": "@jupyter-widgets/base",
            "_view_module_version": "1.2.0",
            "_view_name": "StyleView",
            "description_width": ""
          }
        },
        "6eeee19a16a44830808c42610b3d611b": {
          "model_module": "@jupyter-widgets/controls",
          "model_name": "HBoxModel",
          "model_module_version": "1.5.0",
          "state": {
            "_dom_classes": [],
            "_model_module": "@jupyter-widgets/controls",
            "_model_module_version": "1.5.0",
            "_model_name": "HBoxModel",
            "_view_count": null,
            "_view_module": "@jupyter-widgets/controls",
            "_view_module_version": "1.5.0",
            "_view_name": "HBoxView",
            "box_style": "",
            "children": [
              "IPY_MODEL_d96442c02e31404cb20848833efcdf41",
              "IPY_MODEL_bb502e3a4b924661a2ef43918d77420d",
              "IPY_MODEL_e95dd29997084d2aa6395d235312a151"
            ],
            "layout": "IPY_MODEL_2a1ad2a48b4b4b0fa6dc7be33cf30d67"
          }
        },
        "d96442c02e31404cb20848833efcdf41": {
          "model_module": "@jupyter-widgets/controls",
          "model_name": "HTMLModel",
          "model_module_version": "1.5.0",
          "state": {
            "_dom_classes": [],
            "_model_module": "@jupyter-widgets/controls",
            "_model_module_version": "1.5.0",
            "_model_name": "HTMLModel",
            "_view_count": null,
            "_view_module": "@jupyter-widgets/controls",
            "_view_module_version": "1.5.0",
            "_view_name": "HTMLView",
            "description": "",
            "description_tooltip": null,
            "layout": "IPY_MODEL_8a3d87d7bc9544779cd972a3c1c42796",
            "placeholder": "​",
            "style": "IPY_MODEL_5457f7863d8d41fd920d71428575b557",
            "value": "Generating validation split: 100%"
          }
        },
        "bb502e3a4b924661a2ef43918d77420d": {
          "model_module": "@jupyter-widgets/controls",
          "model_name": "FloatProgressModel",
          "model_module_version": "1.5.0",
          "state": {
            "_dom_classes": [],
            "_model_module": "@jupyter-widgets/controls",
            "_model_module_version": "1.5.0",
            "_model_name": "FloatProgressModel",
            "_view_count": null,
            "_view_module": "@jupyter-widgets/controls",
            "_view_module_version": "1.5.0",
            "_view_name": "ProgressView",
            "bar_style": "success",
            "description": "",
            "description_tooltip": null,
            "layout": "IPY_MODEL_c83d92912a4d44dd833b18a447683746",
            "max": 890,
            "min": 0,
            "orientation": "horizontal",
            "style": "IPY_MODEL_812ce1fa5f5b43e8a65839a0ec818a34",
            "value": 890
          }
        },
        "e95dd29997084d2aa6395d235312a151": {
          "model_module": "@jupyter-widgets/controls",
          "model_name": "HTMLModel",
          "model_module_version": "1.5.0",
          "state": {
            "_dom_classes": [],
            "_model_module": "@jupyter-widgets/controls",
            "_model_module_version": "1.5.0",
            "_model_name": "HTMLModel",
            "_view_count": null,
            "_view_module": "@jupyter-widgets/controls",
            "_view_module_version": "1.5.0",
            "_view_name": "HTMLView",
            "description": "",
            "description_tooltip": null,
            "layout": "IPY_MODEL_a18375c1ea8042b5b56b4c81cf21796f",
            "placeholder": "​",
            "style": "IPY_MODEL_678219d788014162b919ccd4333df420",
            "value": " 890/890 [00:00&lt;00:00, 30669.94 examples/s]"
          }
        },
        "2a1ad2a48b4b4b0fa6dc7be33cf30d67": {
          "model_module": "@jupyter-widgets/base",
          "model_name": "LayoutModel",
          "model_module_version": "1.2.0",
          "state": {
            "_model_module": "@jupyter-widgets/base",
            "_model_module_version": "1.2.0",
            "_model_name": "LayoutModel",
            "_view_count": null,
            "_view_module": "@jupyter-widgets/base",
            "_view_module_version": "1.2.0",
            "_view_name": "LayoutView",
            "align_content": null,
            "align_items": null,
            "align_self": null,
            "border": null,
            "bottom": null,
            "display": null,
            "flex": null,
            "flex_flow": null,
            "grid_area": null,
            "grid_auto_columns": null,
            "grid_auto_flow": null,
            "grid_auto_rows": null,
            "grid_column": null,
            "grid_gap": null,
            "grid_row": null,
            "grid_template_areas": null,
            "grid_template_columns": null,
            "grid_template_rows": null,
            "height": null,
            "justify_content": null,
            "justify_items": null,
            "left": null,
            "margin": null,
            "max_height": null,
            "max_width": null,
            "min_height": null,
            "min_width": null,
            "object_fit": null,
            "object_position": null,
            "order": null,
            "overflow": null,
            "overflow_x": null,
            "overflow_y": null,
            "padding": null,
            "right": null,
            "top": null,
            "visibility": null,
            "width": null
          }
        },
        "8a3d87d7bc9544779cd972a3c1c42796": {
          "model_module": "@jupyter-widgets/base",
          "model_name": "LayoutModel",
          "model_module_version": "1.2.0",
          "state": {
            "_model_module": "@jupyter-widgets/base",
            "_model_module_version": "1.2.0",
            "_model_name": "LayoutModel",
            "_view_count": null,
            "_view_module": "@jupyter-widgets/base",
            "_view_module_version": "1.2.0",
            "_view_name": "LayoutView",
            "align_content": null,
            "align_items": null,
            "align_self": null,
            "border": null,
            "bottom": null,
            "display": null,
            "flex": null,
            "flex_flow": null,
            "grid_area": null,
            "grid_auto_columns": null,
            "grid_auto_flow": null,
            "grid_auto_rows": null,
            "grid_column": null,
            "grid_gap": null,
            "grid_row": null,
            "grid_template_areas": null,
            "grid_template_columns": null,
            "grid_template_rows": null,
            "height": null,
            "justify_content": null,
            "justify_items": null,
            "left": null,
            "margin": null,
            "max_height": null,
            "max_width": null,
            "min_height": null,
            "min_width": null,
            "object_fit": null,
            "object_position": null,
            "order": null,
            "overflow": null,
            "overflow_x": null,
            "overflow_y": null,
            "padding": null,
            "right": null,
            "top": null,
            "visibility": null,
            "width": null
          }
        },
        "5457f7863d8d41fd920d71428575b557": {
          "model_module": "@jupyter-widgets/controls",
          "model_name": "DescriptionStyleModel",
          "model_module_version": "1.5.0",
          "state": {
            "_model_module": "@jupyter-widgets/controls",
            "_model_module_version": "1.5.0",
            "_model_name": "DescriptionStyleModel",
            "_view_count": null,
            "_view_module": "@jupyter-widgets/base",
            "_view_module_version": "1.2.0",
            "_view_name": "StyleView",
            "description_width": ""
          }
        },
        "c83d92912a4d44dd833b18a447683746": {
          "model_module": "@jupyter-widgets/base",
          "model_name": "LayoutModel",
          "model_module_version": "1.2.0",
          "state": {
            "_model_module": "@jupyter-widgets/base",
            "_model_module_version": "1.2.0",
            "_model_name": "LayoutModel",
            "_view_count": null,
            "_view_module": "@jupyter-widgets/base",
            "_view_module_version": "1.2.0",
            "_view_name": "LayoutView",
            "align_content": null,
            "align_items": null,
            "align_self": null,
            "border": null,
            "bottom": null,
            "display": null,
            "flex": null,
            "flex_flow": null,
            "grid_area": null,
            "grid_auto_columns": null,
            "grid_auto_flow": null,
            "grid_auto_rows": null,
            "grid_column": null,
            "grid_gap": null,
            "grid_row": null,
            "grid_template_areas": null,
            "grid_template_columns": null,
            "grid_template_rows": null,
            "height": null,
            "justify_content": null,
            "justify_items": null,
            "left": null,
            "margin": null,
            "max_height": null,
            "max_width": null,
            "min_height": null,
            "min_width": null,
            "object_fit": null,
            "object_position": null,
            "order": null,
            "overflow": null,
            "overflow_x": null,
            "overflow_y": null,
            "padding": null,
            "right": null,
            "top": null,
            "visibility": null,
            "width": null
          }
        },
        "812ce1fa5f5b43e8a65839a0ec818a34": {
          "model_module": "@jupyter-widgets/controls",
          "model_name": "ProgressStyleModel",
          "model_module_version": "1.5.0",
          "state": {
            "_model_module": "@jupyter-widgets/controls",
            "_model_module_version": "1.5.0",
            "_model_name": "ProgressStyleModel",
            "_view_count": null,
            "_view_module": "@jupyter-widgets/base",
            "_view_module_version": "1.2.0",
            "_view_name": "StyleView",
            "bar_color": null,
            "description_width": ""
          }
        },
        "a18375c1ea8042b5b56b4c81cf21796f": {
          "model_module": "@jupyter-widgets/base",
          "model_name": "LayoutModel",
          "model_module_version": "1.2.0",
          "state": {
            "_model_module": "@jupyter-widgets/base",
            "_model_module_version": "1.2.0",
            "_model_name": "LayoutModel",
            "_view_count": null,
            "_view_module": "@jupyter-widgets/base",
            "_view_module_version": "1.2.0",
            "_view_name": "LayoutView",
            "align_content": null,
            "align_items": null,
            "align_self": null,
            "border": null,
            "bottom": null,
            "display": null,
            "flex": null,
            "flex_flow": null,
            "grid_area": null,
            "grid_auto_columns": null,
            "grid_auto_flow": null,
            "grid_auto_rows": null,
            "grid_column": null,
            "grid_gap": null,
            "grid_row": null,
            "grid_template_areas": null,
            "grid_template_columns": null,
            "grid_template_rows": null,
            "height": null,
            "justify_content": null,
            "justify_items": null,
            "left": null,
            "margin": null,
            "max_height": null,
            "max_width": null,
            "min_height": null,
            "min_width": null,
            "object_fit": null,
            "object_position": null,
            "order": null,
            "overflow": null,
            "overflow_x": null,
            "overflow_y": null,
            "padding": null,
            "right": null,
            "top": null,
            "visibility": null,
            "width": null
          }
        },
        "678219d788014162b919ccd4333df420": {
          "model_module": "@jupyter-widgets/controls",
          "model_name": "DescriptionStyleModel",
          "model_module_version": "1.5.0",
          "state": {
            "_model_module": "@jupyter-widgets/controls",
            "_model_module_version": "1.5.0",
            "_model_name": "DescriptionStyleModel",
            "_view_count": null,
            "_view_module": "@jupyter-widgets/base",
            "_view_module_version": "1.2.0",
            "_view_name": "StyleView",
            "description_width": ""
          }
        }
      }
    }
  },
  "nbformat": 4,
  "nbformat_minor": 5
}